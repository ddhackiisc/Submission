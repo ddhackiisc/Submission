{
 "cells": [
  {
   "cell_type": "markdown",
   "metadata": {},
   "source": [
    "# The Problem Statement:\n",
    "\n",
    "The sequence identity of the COVID19 protease and that of SARS-CoV is high, hence by using the known SARS-CoV protease drugs generate possible drugs using machine learning methods to generate novel drug like candidates. Use a variational autoencoder with SMILES representation to generate novel molecules from the trained continuous latent space. The novel molecules shall be assessed based on SMART pattern matching, to rule out unlikely molecular structures e.g structures with multiple 3,4,7,8 membered rings, purely acyclic compounds, highly branched ones etc. Furthermore, diversity based on PubChem / MACCS fingerprints (tanimoto coefficients <= 0.60) shall also be assessed to make sure generated structures are significantly dissimilar to training set. Use multiple SARS-CoV-2 protease conformation to screen of generated chemicals using ensemble molecular docking protocol at both allosteric and orthosteric sites. Retain chemicals with best docking scores and binding energies as per the guidelines. Shortlist the top 100 or top 25% (max 100) hits and refine the best 10 using MD simulation without any restraints."
   ]
  },
  {
   "cell_type": "code",
   "execution_count": 1,
   "metadata": {},
   "outputs": [],
   "source": [
    "import pandas as pd\n",
    "import numpy as np\n",
    "import random"
   ]
  },
  {
   "cell_type": "code",
   "execution_count": 2,
   "metadata": {},
   "outputs": [],
   "source": [
    "random.seed(24)"
   ]
  },
  {
   "cell_type": "code",
   "execution_count": 3,
   "metadata": {},
   "outputs": [],
   "source": [
    "from rdkit import Chem, DataStructs\n",
    "from rdkit.Chem import Draw, Descriptors, AllChem\n",
    "\n",
    "def canonicalize(smiles):\n",
    "    return Chem.MolToSmiles(Chem.MolFromSmiles(smiles))\n",
    "\n",
    "def validSMILES(smiles):\n",
    "    mol = Chem.MolFromSmiles(smiles)\n",
    "    if mol is None:\n",
    "        return False\n",
    "    return True"
   ]
  },
  {
   "cell_type": "code",
   "execution_count": 4,
   "metadata": {},
   "outputs": [],
   "source": [
    "from sklearn.model_selection import train_test_split\n",
    "from sklearn.metrics import accuracy_score, f1_score, matthews_corrcoef\n",
    "from sklearn.cluster import KMeans"
   ]
  },
  {
   "cell_type": "code",
   "execution_count": 5,
   "metadata": {},
   "outputs": [],
   "source": [
    "import torch\n",
    "import torch.nn as nn\n",
    "from torch import optim\n",
    "import torch.nn.functional as F\n",
    "from torch.autograd import Variable\n",
    "from torch.nn.utils.rnn import pad_packed_sequence, pack_padded_sequence#, masked_cross_entropy\n",
    "\n",
    "device = torch.device(\"cuda\" if torch.cuda.is_available() else \"cpu\")"
   ]
  },
  {
   "cell_type": "code",
   "execution_count": 142,
   "metadata": {},
   "outputs": [],
   "source": [
    "traindata = pd.read_csv('cleancovid19dataset.csv')"
   ]
  },
  {
   "cell_type": "code",
   "execution_count": 146,
   "metadata": {},
   "outputs": [],
   "source": [
    "traindata['cleanSMILES'] = traindata['SMILES'].apply(canonicalize)"
   ]
  },
  {
   "cell_type": "code",
   "execution_count": 228,
   "metadata": {},
   "outputs": [
    {
     "data": {
      "text/plain": [
       "0      CC[C@H]1C[C@@H](C(=O)Nc2cc(C)nn2-c2cccc(C(F)(F...\n",
       "1      Nc1nc2nc(CN[C@H](Cc3ccccc3)[C@@H](O)C(F)(F)F)c...\n",
       "2      Cc1cc(NC(=O)[C@H]2CC(=O)Nc3cc(F)ccc32)n(-c2ccc...\n",
       "3      CC[C@@H]1C[C@@H](C(=O)Nc2cc(C)nn2-c2cccc(Br)c2...\n",
       "4      CC[C@@H]1C[C@@H](C(=O)NC2(CNC(=O)c3ccn[nH]3)CC...\n",
       "                             ...                        \n",
       "668            CC1(C)NC(=O)Cc2cc(-c3c(F)cc(CO)cc3F)ccc21\n",
       "669    C[C@@H](O)[C@@H](NC(=O)[C@@](C)(O)c1ccccc1)c1c...\n",
       "670           Cc1csc(C2(NC(=O)C[C@H]3CCCCC(=O)N3)CCC2)n1\n",
       "671       Cn1cc(NC(=O)c2c[nH]c(=O)c(Br)c2)c(-c2ccccc2)n1\n",
       "672            Cc1cc(CO)cc(Nc2nc(N(C)C)[nH]c(=O)c2N=O)c1\n",
       "Name: cleanSMILES, Length: 673, dtype: object"
      ]
     },
     "execution_count": 228,
     "metadata": {},
     "output_type": "execute_result"
    }
   ],
   "source": [
    "traindata['cleanSMILES']"
   ]
  },
  {
   "cell_type": "code",
   "execution_count": 229,
   "metadata": {},
   "outputs": [
    {
     "data": {
      "text/html": [
       "<div>\n",
       "<style scoped>\n",
       "    .dataframe tbody tr th:only-of-type {\n",
       "        vertical-align: middle;\n",
       "    }\n",
       "\n",
       "    .dataframe tbody tr th {\n",
       "        vertical-align: top;\n",
       "    }\n",
       "\n",
       "    .dataframe thead th {\n",
       "        text-align: right;\n",
       "    }\n",
       "</style>\n",
       "<table border=\"1\" class=\"dataframe\">\n",
       "  <thead>\n",
       "    <tr style=\"text-align: right;\">\n",
       "      <th></th>\n",
       "      <th>SMILES</th>\n",
       "    </tr>\n",
       "  </thead>\n",
       "  <tbody>\n",
       "    <tr>\n",
       "      <th>0</th>\n",
       "      <td>CC(=NNC(=S)N)C1=CC=CS1</td>\n",
       "    </tr>\n",
       "    <tr>\n",
       "      <th>1</th>\n",
       "      <td>C1=CC=C(C=C1)C(=O)NC2=C(C3=C(C=C2)C(=O)C4=CC=C...</td>\n",
       "    </tr>\n",
       "    <tr>\n",
       "      <th>2</th>\n",
       "      <td>CN1CCN(CC1)C1=CC=C(C=C1)CNC(=O)C1=CC=NO1</td>\n",
       "    </tr>\n",
       "  </tbody>\n",
       "</table>\n",
       "</div>"
      ],
      "text/plain": [
       "                                              SMILES\n",
       "0                             CC(=NNC(=S)N)C1=CC=CS1\n",
       "1  C1=CC=C(C=C1)C(=O)NC2=C(C3=C(C=C2)C(=O)C4=CC=C...\n",
       "2           CN1CCN(CC1)C1=CC=C(C=C1)CNC(=O)C1=CC=NO1"
      ]
     },
     "execution_count": 229,
     "metadata": {},
     "output_type": "execute_result"
    }
   ],
   "source": [
    "sars = pd.read_csv('sarsinhibitors.csv')\n",
    "sars"
   ]
  },
  {
   "cell_type": "code",
   "execution_count": 230,
   "metadata": {},
   "outputs": [],
   "source": [
    "sars['cleanSMILES'] = sars['SMILES'].apply(canonicalize)"
   ]
  },
  {
   "cell_type": "code",
   "execution_count": 231,
   "metadata": {},
   "outputs": [],
   "source": [
    "sarspairs = list(zip(sars['cleanSMILES'],sars['cleanSMILES']))"
   ]
  },
  {
   "cell_type": "code",
   "execution_count": 286,
   "metadata": {},
   "outputs": [
    {
     "data": {
      "text/plain": [
       "0                           CC(=NNC(N)=S)c1cccs1\n",
       "1    O=C(Nc1ccc2c(c1O)C(=O)c1ccccc1C2=O)c1ccccc1\n",
       "2            CN1CCN(c2ccc(CNC(=O)c3ccno3)cc2)CC1\n",
       "Name: cleanSMILES, dtype: object"
      ]
     },
     "execution_count": 286,
     "metadata": {},
     "output_type": "execute_result"
    }
   ],
   "source": [
    "sars['cleanSMILES']"
   ]
  },
  {
   "cell_type": "code",
   "execution_count": 312,
   "metadata": {},
   "outputs": [],
   "source": [
    "data = list(zip(traindata['cleanSMILES'],traindata['cleanSMILES']))\n"
   ]
  },
  {
   "cell_type": "code",
   "execution_count": 313,
   "metadata": {},
   "outputs": [
    {
     "data": {
      "text/plain": [
       "[('CC[C@H]1C[C@@H](C(=O)Nc2cc(C)nn2-c2cccc(C(F)(F)F)c2)CC(=O)N1',\n",
       "  'CC[C@H]1C[C@@H](C(=O)Nc2cc(C)nn2-c2cccc(C(F)(F)F)c2)CC(=O)N1'),\n",
       " ('Nc1nc2nc(CN[C@H](Cc3ccccc3)[C@@H](O)C(F)(F)F)cc(=O)n2[nH]1',\n",
       "  'Nc1nc2nc(CN[C@H](Cc3ccccc3)[C@@H](O)C(F)(F)F)cc(=O)n2[nH]1'),\n",
       " ('Cc1cc(NC(=O)[C@H]2CC(=O)Nc3cc(F)ccc32)n(-c2cccc(Cl)c2)n1',\n",
       "  'Cc1cc(NC(=O)[C@H]2CC(=O)Nc3cc(F)ccc32)n(-c2cccc(Cl)c2)n1'),\n",
       " ('CC[C@@H]1C[C@@H](C(=O)Nc2cc(C)nn2-c2cccc(Br)c2)CC(=O)N1',\n",
       "  'CC[C@@H]1C[C@@H](C(=O)Nc2cc(C)nn2-c2cccc(Br)c2)CC(=O)N1'),\n",
       " ('CC[C@@H]1C[C@@H](C(=O)NC2(CNC(=O)c3ccn[nH]3)CCC2)CC(=O)N1',\n",
       "  'CC[C@@H]1C[C@@H](C(=O)NC2(CNC(=O)c3ccn[nH]3)CCC2)CC(=O)N1'),\n",
       " ('Cc1cc(NC(=O)[C@H]2CC(=O)N[C@H](C)C2)n(-c2cccc(Br)c2)n1',\n",
       "  'Cc1cc(NC(=O)[C@H]2CC(=O)N[C@H](C)C2)n(-c2cccc(Br)c2)n1'),\n",
       " ('Cn1cc(-c2cc(F)ccc2NC(=O)[C@H]2CC(=O)Nc3cc(F)ccc32)cn1',\n",
       "  'Cn1cc(-c2cc(F)ccc2NC(=O)[C@H]2CC(=O)Nc3cc(F)ccc32)cn1'),\n",
       " ('C[C@H]1C[C@@H](C(=O)NC2(c3ccc(OC(F)(F)F)cc3)CC2)CC(=O)N1',\n",
       "  'C[C@H]1C[C@@H](C(=O)NC2(c3ccc(OC(F)(F)F)cc3)CC2)CC(=O)N1'),\n",
       " ('C[C@H]1C[C@@H](C(=O)NC2(c3ccc(C(F)(F)F)cc3)CCCC2)CC(=O)N1',\n",
       "  'C[C@H]1C[C@@H](C(=O)NC2(c3ccc(C(F)(F)F)cc3)CCCC2)CC(=O)N1'),\n",
       " ('CC[C@H]1C[C@@H](C(=O)NC2(CNC(=O)c3ccc[nH]3)CCC2)CC(=O)N1',\n",
       "  'CC[C@H]1C[C@@H](C(=O)NC2(CNC(=O)c3ccc[nH]3)CCC2)CC(=O)N1'),\n",
       " ('COc1ccc(C2(NC(=O)[C@H]3CC(=O)Nc4ccccc43)CCCC2)cc1',\n",
       "  'COc1ccc(C2(NC(=O)[C@H]3CC(=O)Nc4ccccc43)CCCC2)cc1'),\n",
       " ('Cc1cc(NC(=O)[C@H]2CC(=O)N[C@@H](C)C2)n(-c2cccc(Br)c2)n1',\n",
       "  'Cc1cc(NC(=O)[C@H]2CC(=O)N[C@@H](C)C2)n(-c2cccc(Br)c2)n1'),\n",
       " ('O=C1CCN(C(=O)[C@@H](O)c2cccc(C(F)(F)F)c2)C2(CCC2)C1',\n",
       "  'O=C1CCN(C(=O)[C@@H](O)c2cccc(C(F)(F)F)c2)C2(CCC2)C1'),\n",
       " ('Cc1cc(NC(=O)[C@H]2CC(=O)N[C@H](C)C2)n(-c2cccc(C(F)(F)F)c2)n1',\n",
       "  'Cc1cc(NC(=O)[C@H]2CC(=O)N[C@H](C)C2)n(-c2cccc(C(F)(F)F)c2)n1'),\n",
       " ('CC[C@H]1C[C@@H](C(=O)Nc2cc(C)nn2-c2cccc(Br)c2)CC(=O)N1',\n",
       "  'CC[C@H]1C[C@@H](C(=O)Nc2cc(C)nn2-c2cccc(Br)c2)CC(=O)N1'),\n",
       " ('O=C1C[C@H](C(=O)NC2(c3ccc(C(F)(F)F)cc3)CCCC2)CCN1',\n",
       "  'O=C1C[C@H](C(=O)NC2(c3ccc(C(F)(F)F)cc3)CCCC2)CCN1'),\n",
       " ('O=C1C[C@H](C(=O)N[C@@H]2c3ccccc3CC[C@H]2F)c2ccc(F)cc2N1',\n",
       "  'O=C1C[C@H](C(=O)N[C@@H]2c3ccccc3CC[C@H]2F)c2ccc(F)cc2N1'),\n",
       " ('CC[C@H]1C[C@@H](C(=O)NC2(CNC(=O)C(N)=O)CCC2)CC(=O)N1',\n",
       "  'CC[C@H]1C[C@@H](C(=O)NC2(CNC(=O)C(N)=O)CCC2)CC(=O)N1'),\n",
       " ('C[C@@H]1C[C@@H](C(=O)NC2(c3ccc(C(C)(C)C)cc3)CCCC2)CC(=O)N1',\n",
       "  'C[C@@H]1C[C@@H](C(=O)NC2(c3ccc(C(C)(C)C)cc3)CCCC2)CC(=O)N1'),\n",
       " ('Cc1cc(NC(=O)[C@@H]2CCNC(=O)C2)n(-c2cccc(Br)c2)n1',\n",
       "  'Cc1cc(NC(=O)[C@@H]2CCNC(=O)C2)n(-c2cccc(Br)c2)n1'),\n",
       " ('CC[C@H]1C[C@@H](C(=O)NC2(c3ccc(OC(F)(F)F)cc3)CC2)CC(=O)N1',\n",
       "  'CC[C@H]1C[C@@H](C(=O)NC2(c3ccc(OC(F)(F)F)cc3)CC2)CC(=O)N1'),\n",
       " ('Cn1c(=O)n(C)c2cc(NC(=O)CC[C@]3(C)CCC(=O)N3)c(O)cc21',\n",
       "  'Cn1c(=O)n(C)c2cc(NC(=O)CC[C@]3(C)CCC(=O)N3)c(O)cc21'),\n",
       " ('O=C1C[C@H](C(=O)NC2(CNC(=O)c3cc(F)c[nH]3)CCC2)CCN1',\n",
       "  'O=C1C[C@H](C(=O)NC2(CNC(=O)c3cc(F)c[nH]3)CCC2)CCN1'),\n",
       " ('Cc1cc(NC(=O)[C@H]2CC(=O)N[C@H](C)C2)n(-c2ccc(F)cc2)n1',\n",
       "  'Cc1cc(NC(=O)[C@H]2CC(=O)N[C@H](C)C2)n(-c2ccc(F)cc2)n1'),\n",
       " ('CC[C@@H]1C[C@@H](C(=O)N[C@@H](C)c2ccc(OCCO)c(OC)c2)CC(=O)N1',\n",
       "  'CC[C@@H]1C[C@@H](C(=O)N[C@@H](C)c2ccc(OCCO)c(OC)c2)CC(=O)N1'),\n",
       " ('CC[C@H]1C[C@@H](C(=O)Nc2nc(C)nn2-c2ccccc2)CC(=O)N1',\n",
       "  'CC[C@H]1C[C@@H](C(=O)Nc2nc(C)nn2-c2ccccc2)CC(=O)N1'),\n",
       " ('C[C@@H]1C[C@@H](C(=O)NC2(c3ccc(F)cc3F)CCCC2)CC(=O)N1',\n",
       "  'C[C@@H]1C[C@@H](C(=O)NC2(c3ccc(F)cc3F)CCCC2)CC(=O)N1'),\n",
       " ('O=C1C[C@H](C(=O)N[C@H]2CCC[C@H]2Cc2ccccc2)c2ccccc2N1',\n",
       "  'O=C1C[C@H](C(=O)N[C@H]2CCC[C@H]2Cc2ccccc2)c2ccccc2N1'),\n",
       " ('C[C@H]1C[C@@H](C(=O)Nc2cn(C)nc2-c2ccccc2)CC(=O)N1',\n",
       "  'C[C@H]1C[C@@H](C(=O)Nc2cn(C)nc2-c2ccccc2)CC(=O)N1'),\n",
       " ('CN(Cc1cccc(=O)[nH]1)C(=O)Nc1ccc2c(c1)cc(O)n2C',\n",
       "  'CN(Cc1cccc(=O)[nH]1)C(=O)Nc1ccc2c(c1)cc(O)n2C'),\n",
       " ('O=C(NCc1ccc[nH]c1=O)NC1(c2cccc(C(F)(F)F)c2)CCC1',\n",
       "  'O=C(NCc1ccc[nH]c1=O)NC1(c2cccc(C(F)(F)F)c2)CCC1'),\n",
       " ('O=C1C[C@H](C(=O)N[C@H]2CCC[C@@H]2c2cccc(C(F)(F)F)c2)CCN1',\n",
       "  'O=C1C[C@H](C(=O)N[C@H]2CCC[C@@H]2c2cccc(C(F)(F)F)c2)CCN1'),\n",
       " ('O=C1C[C@@H](C(=O)NC2(c3ccc(F)cc3F)CCCC2)NC(=O)N1',\n",
       "  'O=C1C[C@@H](C(=O)NC2(c3ccc(F)cc3F)CCCC2)NC(=O)N1'),\n",
       " ('CC[C@H]1C[C@@H](C(=O)NC2(c3ccc(OC)cc3)CCCC2)CC(=O)N1',\n",
       "  'CC[C@H]1C[C@@H](C(=O)NC2(c3ccc(OC)cc3)CCCC2)CC(=O)N1'),\n",
       " ('CC[C@H]1C[C@@H](C(=O)Nc2ccc(Cl)cc2-c2cccc(Cl)c2)CC(=O)N1',\n",
       "  'CC[C@H]1C[C@@H](C(=O)Nc2ccc(Cl)cc2-c2cccc(Cl)c2)CC(=O)N1'),\n",
       " ('O=C1C[C@H](C(=O)Nc2ccccc2O)c2cc(Br)ccc2N1',\n",
       "  'O=C1C[C@H](C(=O)Nc2ccccc2O)c2cc(Br)ccc2N1'),\n",
       " ('CC[C@H]1C[C@@H](C(=O)NC2(c3noc(C4CC4)n3)CCCC2)CC(=O)N1',\n",
       "  'CC[C@H]1C[C@@H](C(=O)NC2(c3noc(C4CC4)n3)CCCC2)CC(=O)N1'),\n",
       " ('CNS(=O)(=O)c1ccc2c(c1)N(Cc1cc(=O)n3[nH]c(N)nc3n1)CC2',\n",
       "  'CNS(=O)(=O)c1ccc2c(c1)N(Cc1cc(=O)n3[nH]c(N)nc3n1)CC2'),\n",
       " ('C[C@H]1C[C@@H](C(=O)NC2(c3ccc(Cl)cc3)CCCC2)CC(=O)N1',\n",
       "  'C[C@H]1C[C@@H](C(=O)NC2(c3ccc(Cl)cc3)CCCC2)CC(=O)N1'),\n",
       " ('C[C@@H]1CN(C(=O)[C@@H](O)c2cccc(C(F)(F)F)c2)CCC1=O',\n",
       "  'C[C@@H]1CN(C(=O)[C@@H](O)c2cccc(C(F)(F)F)c2)CCC1=O'),\n",
       " ('Cc1cc(NC(=O)[C@@H]2CCNC(=O)C2)n(-c2cccc(C(F)(F)F)c2)n1',\n",
       "  'Cc1cc(NC(=O)[C@@H]2CCNC(=O)C2)n(-c2cccc(C(F)(F)F)c2)n1'),\n",
       " ('CN(Cc1cccc(=O)[nH]1)C(=O)[C@H]1CCC(=O)N(c2cccc(F)c2)C1',\n",
       "  'CN(Cc1cccc(=O)[nH]1)C(=O)[C@H]1CCC(=O)N(c2cccc(F)c2)C1'),\n",
       " ('O=C(N[C@@H]1COC(=O)C1)NC1(c2ccc(C(F)(F)F)cc2)CCCC1',\n",
       "  'O=C(N[C@@H]1COC(=O)C1)NC1(c2ccc(C(F)(F)F)cc2)CCCC1'),\n",
       " ('CC[C@@H]1C[C@@H](C(=O)NC2(c3ccc(F)cc3)CCCC2)CC(=O)N1',\n",
       "  'CC[C@@H]1C[C@@H](C(=O)NC2(c3ccc(F)cc3)CCCC2)CC(=O)N1'),\n",
       " ('Cc1cc(NC(=O)[C@@H]2CCNC(=O)C2)n(-c2ccc(F)cc2)n1',\n",
       "  'Cc1cc(NC(=O)[C@@H]2CCNC(=O)C2)n(-c2ccc(F)cc2)n1'),\n",
       " ('CC[C@@H]1C[C@@H](C(=O)NC2(c3ccc(F)cc3F)CCCC2)CC(=O)N1',\n",
       "  'CC[C@@H]1C[C@@H](C(=O)NC2(c3ccc(F)cc3F)CCCC2)CC(=O)N1'),\n",
       " ('Cc1cc(C(=O)NC2(c3ccc(C(F)(F)F)cc3)CCCC2)cc(=O)[nH]1',\n",
       "  'Cc1cc(C(=O)NC2(c3ccc(C(F)(F)F)cc3)CCCC2)cc(=O)[nH]1'),\n",
       " ('CCCOc1cc(F)ccc1NC(=O)[C@H]1CC(=O)N[C@@H](CC)C1',\n",
       "  'CCCOc1cc(F)ccc1NC(=O)[C@H]1CC(=O)N[C@@H](CC)C1'),\n",
       " ('CC[C@@H]1C[C@@H](C(=O)NC2(c3ccc(OC)cc3)CCCC2)CC(=O)N1',\n",
       "  'CC[C@@H]1C[C@@H](C(=O)NC2(c3ccc(OC)cc3)CCCC2)CC(=O)N1'),\n",
       " ('O=C(NC1(c2cccc(Cl)c2)CCCC1)c1cc(C2CC2)[nH]c(=O)c1',\n",
       "  'O=C(NC1(c2cccc(Cl)c2)CCCC1)c1cc(C2CC2)[nH]c(=O)c1'),\n",
       " ('O=C(C[C@H]1OC(=O)c2ccccc21)NC1(c2cccc(Cl)c2)CCC1',\n",
       "  'O=C(C[C@H]1OC(=O)c2ccccc21)NC1(c2cccc(Cl)c2)CCC1'),\n",
       " ('CN1CCN(C(=O)Nc2cc(C3CC3)nn2-c2ccccc2)CCC1=O',\n",
       "  'CN1CCN(C(=O)Nc2cc(C3CC3)nn2-c2ccccc2)CCC1=O'),\n",
       " ('Cc1[nH]c(=O)c(Br)cc1C(=O)Nc1ccccc1[C@@H](O)C(F)(F)F',\n",
       "  'Cc1[nH]c(=O)c(Br)cc1C(=O)Nc1ccccc1[C@@H](O)C(F)(F)F'),\n",
       " ('O=C1C[C@H](C(=O)N[C@H]2CCCC[C@H]2O)c2ccc(F)cc2N1',\n",
       "  'O=C1C[C@H](C(=O)N[C@H]2CCCC[C@H]2O)c2ccc(F)cc2N1'),\n",
       " ('C[C@@H]1C[C@@H](C(=O)NC2(c3ccc(Br)cc3)CCCC2)CC(=O)N1',\n",
       "  'C[C@@H]1C[C@@H](C(=O)NC2(c3ccc(Br)cc3)CCCC2)CC(=O)N1'),\n",
       " ('C[C@@](O)(C(=O)NCc1cccc(=O)[nH]1)c1cccc(C(F)(F)F)c1',\n",
       "  'C[C@@](O)(C(=O)NCc1cccc(=O)[nH]1)c1cccc(C(F)(F)F)c1'),\n",
       " ('Cc1cccc(N2N=C(C(=O)N(C)Cc3cccc(=O)[nH]3)CCC2=O)c1',\n",
       "  'Cc1cccc(N2N=C(C(=O)N(C)Cc3cccc(=O)[nH]3)CCC2=O)c1'),\n",
       " ('CC[C@H]1C[C@@H](C(=O)Nc2cn(C)nc2-c2cnn(C)c2)CC(=O)N1',\n",
       "  'CC[C@H]1C[C@@H](C(=O)Nc2cn(C)nc2-c2cnn(C)c2)CC(=O)N1'),\n",
       " ('CC[C@@H]1C[C@@H](C(=O)NC2(c3cccc(C)c3)CCCC2)CC(=O)N1',\n",
       "  'CC[C@@H]1C[C@@H](C(=O)NC2(c3cccc(C)c3)CCCC2)CC(=O)N1'),\n",
       " ('CCCCCn1nc(C)cc1NC(=O)[C@H]1CC(=O)N[C@H](CC)C1',\n",
       "  'CCCCCn1nc(C)cc1NC(=O)[C@H]1CC(=O)N[C@H](CC)C1'),\n",
       " ('C[C@H]1C[C@@H](C(=O)NC2(c3ccc(C(C)(C)C)cc3)CCCC2)CC(=O)N1',\n",
       "  'C[C@H]1C[C@@H](C(=O)NC2(c3ccc(C(C)(C)C)cc3)CCCC2)CC(=O)N1'),\n",
       " ('CC[C@H]1C[C@@H](C(=O)NC2(c3cccc(C)c3)CCCC2)CC(=O)N1',\n",
       "  'CC[C@H]1C[C@@H](C(=O)NC2(c3cccc(C)c3)CCCC2)CC(=O)N1'),\n",
       " ('CC[C@H]1C[C@@H](C(=O)Nc2sc(C)nc2-c2ccccc2)CC(=O)N1',\n",
       "  'CC[C@H]1C[C@@H](C(=O)Nc2sc(C)nc2-c2ccccc2)CC(=O)N1'),\n",
       " ('O=C1C[C@H](C(=O)NC2(c3ccc(C(F)(F)F)cc3)CCC2)CCN1',\n",
       "  'O=C1C[C@H](C(=O)NC2(c3ccc(C(F)(F)F)cc3)CCC2)CCN1'),\n",
       " ('CC(C)c1cc(NC(=O)N2CCC(=O)N(C)CC2)n(-c2ccccc2)n1',\n",
       "  'CC(C)c1cc(NC(=O)N2CCC(=O)N(C)CC2)n(-c2ccccc2)n1'),\n",
       " ('Nc1nc2nc(CN[C@@H](c3ccccc3)C(F)F)cc(=O)n2[nH]1',\n",
       "  'Nc1nc2nc(CN[C@@H](c3ccccc3)C(F)F)cc(=O)n2[nH]1'),\n",
       " ('CC[C@H]1C[C@@H](C(=O)NC2(c3cccc(Cl)c3)CCCC2)CC(=O)N1',\n",
       "  'CC[C@H]1C[C@@H](C(=O)NC2(c3cccc(Cl)c3)CCCC2)CC(=O)N1'),\n",
       " ('C[C@@](O)(C(=O)NCc1ccc(CO)cc1)c1cccc(C(F)(F)F)c1',\n",
       "  'C[C@@](O)(C(=O)NCc1ccc(CO)cc1)c1cccc(C(F)(F)F)c1'),\n",
       " ('COc1ccc(C2(NC(=O)[C@H]3CC(=O)N[C@@H](C)C3)CCCC2)cc1',\n",
       "  'COc1ccc(C2(NC(=O)[C@H]3CC(=O)N[C@@H](C)C3)CCCC2)cc1'),\n",
       " ('O=C1CC[C@H](NC(=O)Nc2cc(C3CC3)nn2-c2ccccc2)C(=O)N1',\n",
       "  'O=C1CC[C@H](NC(=O)Nc2cc(C3CC3)nn2-c2ccccc2)C(=O)N1'),\n",
       " ('CN(Cc1cccc(=O)[nH]1)C(=O)C1=NN(c2ccccc2)C(=O)CC1',\n",
       "  'CN(Cc1cccc(=O)[nH]1)C(=O)C1=NN(c2ccccc2)C(=O)CC1'),\n",
       " ('O=C(C[C@@H]1CC(=O)Nc2ccccc21)NCc1cc(=O)cc[nH]1',\n",
       "  'O=C(C[C@@H]1CC(=O)Nc2ccccc21)NCc1cc(=O)cc[nH]1'),\n",
       " ('O=C1C[C@H](C(=O)NC2(c3ccccc3)CCCC2)CCN1',\n",
       "  'O=C1C[C@H](C(=O)NC2(c3ccccc3)CCCC2)CCN1'),\n",
       " ('CN(Cc1ccc[nH]1)C(=O)[C@@H]1CCC(=O)N(c2cccc(F)c2)C1',\n",
       "  'CN(Cc1ccc[nH]1)C(=O)[C@@H]1CCC(=O)N(c2cccc(F)c2)C1'),\n",
       " ('O=C1CC[C@@H](NC(=O)NC2(c3ccc(Br)cc3)CCCC2)C2(CCC2)N1',\n",
       "  'O=C1CC[C@@H](NC(=O)NC2(c3ccc(Br)cc3)CCCC2)C2(CCC2)N1'),\n",
       " ('COc1ccc(F)cc1CC(=O)N1CCN2C(=O)c3ccccc3[C@H]2C1',\n",
       "  'COc1ccc(F)cc1CC(=O)N1CCN2C(=O)c3ccccc3[C@H]2C1'),\n",
       " ('COc1ccc(C2(NC(=O)[C@H]3CC(=O)N[C@H](C)C3)CCCC2)cc1',\n",
       "  'COc1ccc(C2(NC(=O)[C@H]3CC(=O)N[C@H](C)C3)CCCC2)cc1'),\n",
       " ('CCCN1C[C@H](CNC(=O)[C@@H](O)c2cccc(C(F)(F)F)c2)CC1=O',\n",
       "  'CCCN1C[C@H](CNC(=O)[C@@H](O)c2cccc(C(F)(F)F)c2)CC1=O'),\n",
       " ('C[C@H]1C[C@@H](C(=O)NC2(c3ccc(F)cc3F)CCC2)CC(=O)N1',\n",
       "  'C[C@H]1C[C@@H](C(=O)NC2(c3ccc(F)cc3F)CCC2)CC(=O)N1'),\n",
       " ('CC[C@H]1C[C@@H](C(=O)NC2(c3ccccc3)CCCC2)CC(=O)N1',\n",
       "  'CC[C@H]1C[C@@H](C(=O)NC2(c3ccccc3)CCCC2)CC(=O)N1'),\n",
       " ('CC[C@@H]1C[C@@H](C(=O)NC2(c3nc(C)cs3)CCCC2)CC(=O)N1',\n",
       "  'CC[C@@H]1C[C@@H](C(=O)NC2(c3nc(C)cs3)CCCC2)CC(=O)N1'),\n",
       " ('Cc1cc(C(=O)NC2(c3cccc(Cl)c3)CCCC2)cc(=O)[nH]1',\n",
       "  'Cc1cc(C(=O)NC2(c3cccc(Cl)c3)CCCC2)cc(=O)[nH]1'),\n",
       " ('COc1ccc(C2(NC(=O)[C@@H]3CCNC(=O)C3)CCCC2)cc1',\n",
       "  'COc1ccc(C2(NC(=O)[C@@H]3CCNC(=O)C3)CCCC2)cc1'),\n",
       " ('Cn1c(=O)n(C)c2cc(NC(=O)C(=O)NC[C@@H](O)C(F)F)ccc21',\n",
       "  'Cn1c(=O)n(C)c2cc(NC(=O)C(=O)NC[C@@H](O)C(F)F)ccc21'),\n",
       " ('CSCC(=O)N1C[C@H]2[C@@H](NC(=O)c3cccc(=O)n3C)CC[C@H]2C1',\n",
       "  'CSCC(=O)N1C[C@H]2[C@@H](NC(=O)c3cccc(=O)n3C)CC[C@H]2C1'),\n",
       " ('CN1C[C@@H](C(=O)NC2(c3ccccc3)CCC2)c2ccccc2C1=O',\n",
       "  'CN1C[C@@H](C(=O)NC2(c3ccccc3)CCC2)c2ccccc2C1=O'),\n",
       " ('Cc1csc([C@H](NCc2cc(=O)n3[nH]c(N)nc3n2)C(F)(F)F)n1',\n",
       "  'Cc1csc([C@H](NCc2cc(=O)n3[nH]c(N)nc3n2)C(F)(F)F)n1'),\n",
       " ('CC(C)CC(=O)N[C@H](Cc1cnc[nH]1)C(=O)N1CN(C)C(=O)[C@@H]1C',\n",
       "  'CC(C)CC(=O)N[C@H](Cc1cnc[nH]1)C(=O)N1CN(C)C(=O)[C@@H]1C'),\n",
       " ('O=C1NC(=O)[C@H](CC(=O)N2CC[C@H]2CNC(=O)c2cc(F)c[nH]2)N1',\n",
       "  'O=C1NC(=O)[C@H](CC(=O)N2CC[C@H]2CNC(=O)c2cc(F)c[nH]2)N1'),\n",
       " ('Cc1cccc(C2(NC(=O)[C@H]3CC(=O)N[C@@H](C)C3)CCCC2)c1',\n",
       "  'Cc1cccc(C2(NC(=O)[C@H]3CC(=O)N[C@@H](C)C3)CCCC2)c1'),\n",
       " ('Cn1c(=O)n(C)c2cc(NC(=O)C(=O)NC[C@H](O)C(F)(F)F)ccc21',\n",
       "  'Cn1c(=O)n(C)c2cc(NC(=O)C(=O)NC[C@H](O)C(F)(F)F)ccc21'),\n",
       " ('Cc1cccc(C2(NC(=O)c3cc(=O)n4[nH]cnc4n3)CCCC2)c1',\n",
       "  'Cc1cccc(C2(NC(=O)c3cc(=O)n4[nH]cnc4n3)CCCC2)c1'),\n",
       " ('C[S@](=O)C[C@H](NCc1cc(=O)n2[nH]c(N)nc2n1)c1ccccc1',\n",
       "  'C[S@](=O)C[C@H](NCc1cc(=O)n2[nH]c(N)nc2n1)c1ccccc1'),\n",
       " ('O=C1C[C@H](C(=O)NC2CCC(F)(F)CC2)c2ccc(F)cc2N1',\n",
       "  'O=C1C[C@H](C(=O)NC2CCC(F)(F)CC2)c2ccc(F)cc2N1'),\n",
       " ('C[C@@H]1C[C@@H](C(=O)NC2(c3ccc(F)cc3)CCCC2)CC(=O)N1',\n",
       "  'C[C@@H]1C[C@@H](C(=O)NC2(c3ccc(F)cc3)CCCC2)CC(=O)N1'),\n",
       " ('O=C1C[C@H](C(=O)NC2(c3ccc(Cl)cc3)CCCC2)CCN1',\n",
       "  'O=C1C[C@H](C(=O)NC2(c3ccc(Cl)cc3)CCCC2)CCN1'),\n",
       " ('O=C(NC1(c2cccc(Cl)c2)CCCC1)c1cc(=O)n2[nH]cnc2n1',\n",
       "  'O=C(NC1(c2cccc(Cl)c2)CCCC1)c1cc(=O)n2[nH]cnc2n1'),\n",
       " ('O=C1C[C@H](C(=O)NC23CCC(CC2)C3)c2ccc(F)cc2N1',\n",
       "  'O=C1C[C@H](C(=O)NC23CCC(CC2)C3)c2ccc(F)cc2N1'),\n",
       " ('CC[C@@H]1C[C@@H](C(=O)NC2(c3nccs3)CCCC2)CC(=O)N1',\n",
       "  'CC[C@@H]1C[C@@H](C(=O)NC2(c3nccs3)CCCC2)CC(=O)N1'),\n",
       " ('O=C(Nc1ccc(O)c(F)c1F)[C@H](O)[C@@H](O)c1nc2ccccc2[nH]1',\n",
       "  'O=C(Nc1ccc(O)c(F)c1F)[C@H](O)[C@@H](O)c1nc2ccccc2[nH]1'),\n",
       " ('CC[C@@H]1C[C@@H](C(=O)NC2(c3ccc(Br)cc3)CCCC2)CC(=O)N1',\n",
       "  'CC[C@@H]1C[C@@H](C(=O)NC2(c3ccc(Br)cc3)CCCC2)CC(=O)N1'),\n",
       " ('O=C(C[C@@H]1COC(=O)C1)Nc1cc(C2CC2)nn1-c1ccccc1',\n",
       "  'O=C(C[C@@H]1COC(=O)C1)Nc1cc(C2CC2)nn1-c1ccccc1'),\n",
       " ('Cc1csc(C2(NC(=O)[C@H]3CC(=O)N[C@@H](C)C3)CCCC2)n1',\n",
       "  'Cc1csc(C2(NC(=O)[C@H]3CC(=O)N[C@@H](C)C3)CCCC2)n1'),\n",
       " ('Cn1c(=O)n(C)c2cc(NC(=O)C(=O)NC[C@H](O)C(F)F)ccc21',\n",
       "  'Cn1c(=O)n(C)c2cc(NC(=O)C(=O)NC[C@H](O)C(F)F)ccc21'),\n",
       " ('O=C(NC1(c2cccc(Cl)c2)CCCC1)c1cc(=O)[nH]c(C2CC2)n1',\n",
       "  'O=C(NC1(c2cccc(Cl)c2)CCCC1)c1cc(=O)[nH]c(C2CC2)n1'),\n",
       " ('O=C(C[C@@H]1COC(=O)C1)Nc1cc(C2CCC2)nn1-c1ccccc1',\n",
       "  'O=C(C[C@@H]1COC(=O)C1)Nc1cc(C2CCC2)nn1-c1ccccc1'),\n",
       " ('CC[C@H]1C[C@@H](C(=O)NC2(c3ccc(F)cc3)CCCC2)CC(=O)N1',\n",
       "  'CC[C@H]1C[C@@H](C(=O)NC2(c3ccc(F)cc3)CCCC2)CC(=O)N1'),\n",
       " ('CC[C@@H]1C[C@@H](C(=O)NC2(c3ccc(F)cc3F)CCC2)CC(=O)N1',\n",
       "  'CC[C@@H]1C[C@@H](C(=O)NC2(c3ccc(F)cc3F)CCC2)CC(=O)N1'),\n",
       " ('CC[C@H]1C[C@@H](C(=O)NC2(CNC(=O)C3=CCCC3)CCC2)CC(=O)N1',\n",
       "  'CC[C@H]1C[C@@H](C(=O)NC2(CNC(=O)C3=CCCC3)CCC2)CC(=O)N1'),\n",
       " ('O=C(Nc1cc(C2CC2)nn1-c1ccccc1)N[C@@H]1COC(=O)C1',\n",
       "  'O=C(Nc1cc(C2CC2)nn1-c1ccccc1)N[C@@H]1COC(=O)C1'),\n",
       " ('CC(C)[C@@H](O)CNC(=O)C(=O)Nc1ccc2c(c1)n(C)c(=O)n2C',\n",
       "  'CC(C)[C@@H](O)CNC(=O)C(=O)Nc1ccc2c(c1)n(C)c(=O)n2C'),\n",
       " ('C[C@@H](NC(=O)[C@@](C)(O)c1cccc(C(F)(F)F)c1)c1ccc[nH]1',\n",
       "  'C[C@@H](NC(=O)[C@@](C)(O)c1cccc(C(F)(F)F)c1)c1ccc[nH]1'),\n",
       " ('O=C1C[C@H](C(=O)NC2(c3ccc(Br)cc3)CCCC2)CCN1',\n",
       "  'O=C1C[C@H](C(=O)NC2(c3ccc(Br)cc3)CCCC2)CCN1'),\n",
       " ('O=C1C[C@H](C(=O)Nc2ccc(O)cc2O)c2ccccc2N1',\n",
       "  'O=C1C[C@H](C(=O)Nc2ccc(O)cc2O)c2ccccc2N1'),\n",
       " ('C[C@H]1CN(C(=O)[C@H](O)c2cccc(C(F)(F)F)c2)CCC1=O',\n",
       "  'C[C@H]1CN(C(=O)[C@H](O)c2cccc(C(F)(F)F)c2)CCC1=O'),\n",
       " ('CC(C)[C@@](C)(O)CNC(=O)C(=O)Nc1ccc2c(c1)n(C)c(=O)n2C',\n",
       "  'CC(C)[C@@](C)(O)CNC(=O)C(=O)Nc1ccc2c(c1)n(C)c(=O)n2C'),\n",
       " ('COc1ccc(C2(NC(=O)[C@@H]3CCNC(=O)C3)CCCCCC2)cc1',\n",
       "  'COc1ccc(C2(NC(=O)[C@@H]3CCNC(=O)C3)CCCCCC2)cc1'),\n",
       " ('C[C@@H]1C[C@@H]1c1cc(NC(=O)C[C@@H]2COC(=O)C2)n(-c2ccccc2)n1',\n",
       "  'C[C@@H]1C[C@@H]1c1cc(NC(=O)C[C@@H]2COC(=O)C2)n(-c2ccccc2)n1'),\n",
       " ('CN1CCN(C(=O)[C@@H](O)c2cccc(C(F)(F)F)c2)CCC1=O',\n",
       "  'CN1CCN(C(=O)[C@@H](O)c2cccc(C(F)(F)F)c2)CCC1=O'),\n",
       " ('Nc1nc2nc(CN3CC[C@@](O)(C(F)(F)F)C3)cc(=O)n2[nH]1',\n",
       "  'Nc1nc2nc(CN3CC[C@@](O)(C(F)(F)F)C3)cc(=O)n2[nH]1'),\n",
       " ('Cn1c(=O)n(C)c2cc(NC(=O)[C@@H]3C[C@H]3C3CCOCC3)c(O)cc21',\n",
       "  'Cn1c(=O)n(C)c2cc(NC(=O)[C@@H]3C[C@H]3C3CCOCC3)c(O)cc21'),\n",
       " ('C[C@H]1C[C@@H](C(=O)NC2(c3ccccc3)CCC2)CC(=O)N1',\n",
       "  'C[C@H]1C[C@@H](C(=O)NC2(c3ccccc3)CCC2)CC(=O)N1'),\n",
       " ('O=C1C[C@H](C(=O)NC2(c3cccc(Cl)c3)CCCC2)CCN1',\n",
       "  'O=C1C[C@H](C(=O)NC2(c3cccc(Cl)c3)CCCC2)CCN1'),\n",
       " ('CC[C@H]1C[C@@H](C(=O)NC2(c3ccc(F)cc3F)CCCC2)CC(=O)N1',\n",
       "  'CC[C@H]1C[C@@H](C(=O)NC2(c3ccc(F)cc3F)CCCC2)CC(=O)N1'),\n",
       " ('CN(Cc1ccc[nH]1)C(=O)c1ccc(=O)n(-c2ccccc2F)n1',\n",
       "  'CN(Cc1ccc[nH]1)C(=O)c1ccc(=O)n(-c2ccccc2F)n1'),\n",
       " ('O=C1CC[C@@H](NC(=O)Nc2cc(C3CC3)nn2-c2ccccc2)CN1',\n",
       "  'O=C1CC[C@@H](NC(=O)Nc2cc(C3CC3)nn2-c2ccccc2)CN1'),\n",
       " ('O=C(C[C@H]1OC(=O)c2ccccc21)NC1(c2cccc(Br)c2)CCC1',\n",
       "  'O=C(C[C@H]1OC(=O)c2ccccc21)NC1(c2cccc(Br)c2)CCC1'),\n",
       " ('Cc1csc(C2(NC(=O)C[C@H]3OC(=O)c4ccccc43)CCC2)n1',\n",
       "  'Cc1csc(C2(NC(=O)C[C@H]3OC(=O)c4ccccc43)CCC2)n1'),\n",
       " ('Nc1nc2nc(CN[C@H](c3ccc(F)cc3)C(F)(F)F)cc(=O)n2[nH]1',\n",
       "  'Nc1nc2nc(CN[C@H](c3ccc(F)cc3)C(F)(F)F)cc(=O)n2[nH]1'),\n",
       " ('CC[C@H]1C[C@@H](C(=O)NC2(c3ccc(Br)cc3)CCCC2)CC(=O)N1',\n",
       "  'CC[C@H]1C[C@@H](C(=O)NC2(c3ccc(Br)cc3)CCCC2)CC(=O)N1'),\n",
       " ('CC[C@@H](O)[C@@H](CC)NC(=O)C(=O)Nc1ccc2c(c1)n(C)c(=O)n2C',\n",
       "  'CC[C@@H](O)[C@@H](CC)NC(=O)C(=O)Nc1ccc2c(c1)n(C)c(=O)n2C'),\n",
       " ('Cn1c(=O)n(C)c2cc(NC(=O)/C=C/[C@H]3CCOC3)c(O)cc21',\n",
       "  'Cn1c(=O)n(C)c2cc(NC(=O)/C=C/[C@H]3CCOC3)c(O)cc21'),\n",
       " ('O=C(N[C@@H]1CCc2cc(F)ccc21)[C@@H](O)c1cccc(C(F)(F)F)c1',\n",
       "  'O=C(N[C@@H]1CCc2cc(F)ccc21)[C@@H](O)c1cccc(C(F)(F)F)c1'),\n",
       " ('CC(C)(C)C(=O)NCC1(NC(=O)[C@@H]2CCNC(=O)C2)CCCC1',\n",
       "  'CC(C)(C)C(=O)NCC1(NC(=O)[C@@H]2CCNC(=O)C2)CCCC1'),\n",
       " ('Cc1ccc([C@H](NCc2cc(=O)n3[nH]c(N)nc3n2)C(F)(F)F)o1',\n",
       "  'Cc1ccc([C@H](NCc2cc(=O)n3[nH]c(N)nc3n2)C(F)(F)F)o1'),\n",
       " ('Cn1cc(NC(=O)N[C@H]2CCC(=O)N[C@@H]2C2CC2)c(-c2ccco2)n1',\n",
       "  'Cn1cc(NC(=O)N[C@H]2CCC(=O)N[C@@H]2C2CC2)c(-c2ccco2)n1'),\n",
       " ('CC1(C)NC(=O)Cc2cc(-c3cncc(C(F)(F)F)c3)ccc21',\n",
       "  'CC1(C)NC(=O)Cc2cc(-c3cncc(C(F)(F)F)c3)ccc21'),\n",
       " ('O=C1C[C@H](C(=O)NC23CCC(CC2)CC3)c2ccc(F)cc2N1',\n",
       "  'O=C1C[C@H](C(=O)NC23CCC(CC2)CC3)c2ccc(F)cc2N1'),\n",
       " ('O=C1CCN(C(=O)[C@H](O)c2cccc(C(F)(F)F)c2)[C@@H]2CCCN12',\n",
       "  'O=C1CCN(C(=O)[C@H](O)c2cccc(C(F)(F)F)c2)[C@@H]2CCCN12'),\n",
       " ('Cc1nc2c(c(=O)[nH]1)CN(C(=O)c1cccc(=O)[nH]1)C2',\n",
       "  'Cc1nc2c(c(=O)[nH]1)CN(C(=O)c1cccc(=O)[nH]1)C2'),\n",
       " ('C[C@@H]1C[C@@H](C(=O)N[C@@H](c2cccc(C(F)(F)F)c2)C2CC2)CC(=O)N1',\n",
       "  'C[C@@H]1C[C@@H](C(=O)N[C@@H](c2cccc(C(F)(F)F)c2)C2CC2)CC(=O)N1'),\n",
       " ('O=C1C[C@H](C(=O)NC2(c3ccccc3F)CCC2)CCN1',\n",
       "  'O=C1C[C@H](C(=O)NC2(c3ccccc3F)CCC2)CCN1'),\n",
       " ('O=C1CC[C@@H](CSc2nc3ccccc3c(=O)n2Cc2ccco2)N1',\n",
       "  'O=C1CC[C@@H](CSc2nc3ccccc3c(=O)n2Cc2ccco2)N1'),\n",
       " ('CN(CC(=O)N1CCN2C(=O)c3ccccc3[C@H]2C1)c1ccccc1',\n",
       "  'CN(CC(=O)N1CCN2C(=O)c3ccccc3[C@H]2C1)c1ccccc1'),\n",
       " ('Cc1csc(C2(NC(=O)[C@H]3CC(=O)N[C@H](C)C3)CCCC2)n1',\n",
       "  'Cc1csc(C2(NC(=O)[C@H]3CC(=O)N[C@H](C)C3)CCCC2)n1'),\n",
       " ('C[C@H]1C[C@@H](C(=O)NC2(c3noc(C(F)(F)F)n3)CCCC2)CC(=O)N1',\n",
       "  'C[C@H]1C[C@@H](C(=O)NC2(c3noc(C(F)(F)F)n3)CCCC2)CC(=O)N1'),\n",
       " ('O=C1C[C@H](C(=O)NC2(c3ccc(C(F)(F)F)cc3)CC2)CCN1',\n",
       "  'O=C1C[C@H](C(=O)NC2(c3ccc(C(F)(F)F)cc3)CC2)CCN1'),\n",
       " ('CC1(NC(=O)[C@H]2CC(=O)Nc3cc(F)ccc32)CC(F)(F)C1',\n",
       "  'CC1(NC(=O)[C@H]2CC(=O)Nc3cc(F)ccc32)CC(F)(F)C1'),\n",
       " ('NC(=O)CC(=O)N[C@@H]1CN(C(=O)c2cc[nH]c(=O)c2)C[C@H]1C(F)(F)F',\n",
       "  'NC(=O)CC(=O)N[C@@H]1CN(C(=O)c2cc[nH]c(=O)c2)C[C@H]1C(F)(F)F'),\n",
       " ('O=C1CCC[C@H](CC(=O)NC2(c3ccc(C(F)(F)F)cc3)CCC2)N1',\n",
       "  'O=C1CCC[C@H](CC(=O)NC2(c3ccc(C(F)(F)F)cc3)CCC2)N1'),\n",
       " ('CC[C@H]1C[C@@H](C(=O)Nc2ccc(F)cc2-c2cnn(C)c2)CC(=O)N1',\n",
       "  'CC[C@H]1C[C@@H](C(=O)Nc2ccc(F)cc2-c2cnn(C)c2)CC(=O)N1'),\n",
       " ('O=C1C[C@H](C(=O)N[C@H]2CCc3cc(F)ccc32)c2ccc(F)cc2N1',\n",
       "  'O=C1C[C@H](C(=O)N[C@H]2CCc3cc(F)ccc32)c2ccc(F)cc2N1'),\n",
       " ('Cc1ccc([C@H](CC(F)(F)F)NC(=O)[C@@H]2CCNC(=O)C2)cc1',\n",
       "  'Cc1ccc([C@H](CC(F)(F)F)NC(=O)[C@@H]2CCNC(=O)C2)cc1'),\n",
       " ('CCc1cc(C(=O)NC2(c3ccc(Cl)cc3)CCCC2)cc(=O)[nH]1',\n",
       "  'CCc1cc(C(=O)NC2(c3ccc(Cl)cc3)CCCC2)cc(=O)[nH]1'),\n",
       " ('CCc1n[nH]c(COC(=O)[C@H]2CCC(=O)N(c3cccc(F)c3)C2)n1',\n",
       "  'CCc1n[nH]c(COC(=O)[C@H]2CCC(=O)N(c3cccc(F)c3)C2)n1'),\n",
       " ('CC(=O)N[C@@H](Cc1cnc[nH]1)C(=O)N[C@H](C)CNC(=O)c1ccco1',\n",
       "  'CC(=O)N[C@@H](Cc1cnc[nH]1)C(=O)N[C@H](C)CNC(=O)c1ccco1'),\n",
       " ('CC(C)c1nc(C2(NC(=O)[C@H]3CC(=O)N[C@H](C)C3)CCCC2)no1',\n",
       "  'CC(C)c1nc(C2(NC(=O)[C@H]3CC(=O)N[C@H](C)C3)CCCC2)no1'),\n",
       " ('NC(=O)OC[C@@H](Cc1ccccc1)NC(=O)Cc1ccc(O)c(F)c1',\n",
       "  'NC(=O)OC[C@@H](Cc1ccccc1)NC(=O)Cc1ccc(O)c(F)c1'),\n",
       " ('CC[C@H]1C[C@@H](C(=O)NC2(c3ccc(F)cc3F)CCC2)CC(=O)N1',\n",
       "  'CC[C@H]1C[C@@H](C(=O)NC2(c3ccc(F)cc3F)CCC2)CC(=O)N1'),\n",
       " ('N#Cc1c[nH]c(C(=O)NC[C@@H](NC(=O)[C@H]2CNC(=O)N2)C2CC2)c1',\n",
       "  'N#Cc1c[nH]c(C(=O)NC[C@@H](NC(=O)[C@H]2CNC(=O)N2)C2CC2)c1'),\n",
       " ('CC[C@H]1C[C@@H](C(=O)NC2(c3nccs3)CCCC2)CC(=O)N1',\n",
       "  'CC[C@H]1C[C@@H](C(=O)NC2(c3nccs3)CCCC2)CC(=O)N1'),\n",
       " ('Cn1cc(C(=O)NC2(c3cccc(F)c3)CCC2)c(=O)n(C)c1=O',\n",
       "  'Cn1cc(C(=O)NC2(c3cccc(F)c3)CCC2)c(=O)n(C)c1=O'),\n",
       " ('CC(C)(C)c1ccc(C2(NC(=O)[C@@H]3CCNC(=O)C3)CCCC2)cc1',\n",
       "  'CC(C)(C)c1ccc(C2(NC(=O)[C@@H]3CCNC(=O)C3)CCCC2)cc1'),\n",
       " ('Cc1csc(C2(NC(=O)c3cc(C4CC4)[nH]c(=O)c3)CCCC2)n1',\n",
       "  'Cc1csc(C2(NC(=O)c3cc(C4CC4)[nH]c(=O)c3)CCCC2)n1'),\n",
       " ('O=C(Cc1ccc(O)cc1)NC[C@H](O)c1c(F)cccc1F',\n",
       "  'O=C(Cc1ccc(O)cc1)NC[C@H](O)c1c(F)cccc1F'),\n",
       " ('CC[C@H]1C[C@@H](C(=O)NC2(c3ccc(Cl)cc3)CCC2)CC(=O)N1',\n",
       "  'CC[C@H]1C[C@@H](C(=O)NC2(c3ccc(Cl)cc3)CCC2)CC(=O)N1'),\n",
       " ('CCS(=O)(=O)NCC(=O)Nc1cc2c(cc1O)n(C)c(=O)n2C',\n",
       "  'CCS(=O)(=O)NCC(=O)Nc1cc2c(cc1O)n(C)c(=O)n2C'),\n",
       " ('O=C(CCn1cccc1)N1CCN2C(=O)c3ccccc3[C@H]2C1',\n",
       "  'O=C(CCn1cccc1)N1CCN2C(=O)c3ccccc3[C@H]2C1'),\n",
       " ('O=C(N[C@@H]1COC(=O)C1)NC1(c2ccc(C(F)(F)F)cc2)CCC1',\n",
       "  'O=C(N[C@@H]1COC(=O)C1)NC1(c2ccc(C(F)(F)F)cc2)CCC1'),\n",
       " ('Cc1nc(C2(NC(=O)[C@H]3CC(=O)N[C@H](C)C3)CCCC2)no1',\n",
       "  'Cc1nc(C2(NC(=O)[C@H]3CC(=O)N[C@H](C)C3)CCCC2)no1'),\n",
       " ('CC[C@@H]1C[C@@H](C(=O)NC2(c3noc(C)n3)CCCC2)CC(=O)N1',\n",
       "  'CC[C@@H]1C[C@@H](C(=O)NC2(c3noc(C)n3)CCCC2)CC(=O)N1'),\n",
       " ('CCCC(=O)NCC1(NC(=O)[C@H]2CC(=O)N[C@H](CC)C2)CCC1',\n",
       "  'CCCC(=O)NCC1(NC(=O)[C@H]2CC(=O)N[C@H](CC)C2)CCC1'),\n",
       " ('CC[C@H]1C[C@@H](C(=O)NCc2ccc(OCCO)cc2)CC(=O)N1',\n",
       "  'CC[C@H]1C[C@@H](C(=O)NCc2ccc(OCCO)cc2)CC(=O)N1'),\n",
       " ('Cc1nc2c(c(=O)[nH]1)CN(C(=O)c1csc(=O)[nH]1)C2',\n",
       "  'Cc1nc2c(c(=O)[nH]1)CN(C(=O)c1csc(=O)[nH]1)C2'),\n",
       " ('N#Cc1c[nH]c(C(=O)NC[C@@H](CO)NC(=O)Cc2cccc(F)c2)c1',\n",
       "  'N#Cc1c[nH]c(C(=O)NC[C@@H](CO)NC(=O)Cc2cccc(F)c2)c1'),\n",
       " ('CN(C)c1ccc(N(Cc2ccc[nH]2)C(=O)C[C@@H]2COC(=O)C2)cc1',\n",
       "  'CN(C)c1ccc(N(Cc2ccc[nH]2)C(=O)C[C@@H]2COC(=O)C2)cc1'),\n",
       " ('Cn1c(=O)n(C)c2cc(NC(=O)C(=O)N[C@@H]3C[C@H](O)C3(C)C)ccc21',\n",
       "  'Cn1c(=O)n(C)c2cc(NC(=O)C(=O)N[C@@H]3C[C@H](O)C3(C)C)ccc21'),\n",
       " ('Cc1cnn(-c2ccc(C(N)=O)cc2NC(=O)NCC2CC(O)C2)c1',\n",
       "  'Cc1cnn(-c2ccc(C(N)=O)cc2NC(=O)NCC2CC(O)C2)c1'),\n",
       " ('Cn1c(SCc2cc(=O)n3[nH]c(N)nc3n2)nc2ccccc2c1=O',\n",
       "  'Cn1c(SCc2cc(=O)n3[nH]c(N)nc3n2)nc2ccccc2c1=O'),\n",
       " ('Nc1cc(F)c(C(F)(F)F)cc1NC(=O)CNc1ccc(O)cc1',\n",
       "  'Nc1cc(F)c(C(F)(F)F)cc1NC(=O)CNc1ccc(O)cc1'),\n",
       " ('O=C(CCn1ccnc1)N1CCN2C(=O)c3ccccc3[C@H]2C1',\n",
       "  'O=C(CCn1ccnc1)N1CCN2C(=O)c3ccccc3[C@H]2C1'),\n",
       " ('Cn1c(=O)n(C)c2cc(NC(=O)c3ccc(N)cn3)c(O)cc21',\n",
       "  'Cn1c(=O)n(C)c2cc(NC(=O)c3ccc(N)cn3)c(O)cc21'),\n",
       " ('Nc1nc2nc(CN3CC4(CCC4)c4ccccc43)cc(=O)n2[nH]1',\n",
       "  'Nc1nc2nc(CN3CC4(CCC4)c4ccccc43)cc(=O)n2[nH]1'),\n",
       " ('CN(C)c1ccccc1NC(=O)[C@@H]1CCNC(=O)C1',\n",
       "  'CN(C)c1ccccc1NC(=O)[C@@H]1CCNC(=O)C1'),\n",
       " ('CC[C@@](C)(O)CNC(=O)C(=O)Nc1ccc2c(c1)n(C)c(=O)n2C',\n",
       "  'CC[C@@](C)(O)CNC(=O)C(=O)Nc1ccc2c(c1)n(C)c(=O)n2C'),\n",
       " ('NC(=O)c1ccc(N2CCCCC2)c(NC(=O)CNCC(F)(F)F)c1',\n",
       "  'NC(=O)c1ccc(N2CCCCC2)c(NC(=O)CNCC(F)(F)F)c1'),\n",
       " ('NC(=O)c1ccc(C(=O)N[C@@H](CNC(=O)c2cc(F)c[nH]2)C2CC2)[nH]1',\n",
       "  'NC(=O)c1ccc(C(=O)N[C@@H](CNC(=O)c2cc(F)c[nH]2)C2CC2)[nH]1'),\n",
       " ('O=C(NCc1ccc(=O)[nH]c1)c1cc(C2CC2)nn1-c1ccccc1',\n",
       "  'O=C(NCc1ccc(=O)[nH]c1)c1cc(C2CC2)nn1-c1ccccc1'),\n",
       " ('O=C1C[C@H](C(=O)N[C@H]2CCc3cc(Cl)ccc32)c2ccc(F)cc2N1',\n",
       "  'O=C1C[C@H](C(=O)N[C@H]2CCc3cc(Cl)ccc32)c2ccc(F)cc2N1'),\n",
       " ('CN(Cc1ncn[nH]1)C(=O)c1ccc(=O)n(-c2ccccc2F)n1',\n",
       "  'CN(Cc1ncn[nH]1)C(=O)c1ccc(=O)n(-c2ccccc2F)n1'),\n",
       " ('CC[C@H]1C[C@@H](C(=O)NC2(c3nc(C)cs3)CCCC2)CC(=O)N1',\n",
       "  'CC[C@H]1C[C@@H](C(=O)NC2(c3nc(C)cs3)CCCC2)CC(=O)N1'),\n",
       " ('NC(=O)C1(NC(=O)[C@H]2CC(=O)Nc3cc(F)ccc32)CC1',\n",
       "  'NC(=O)C1(NC(=O)[C@H]2CC(=O)Nc3cc(F)ccc32)CC1'),\n",
       " ('CC[C@H](CNC(=O)[C@@H]1CNC(=O)N1)NC(=O)c1cc(C(F)F)n[nH]1',\n",
       "  'CC[C@H](CNC(=O)[C@@H]1CNC(=O)N1)NC(=O)c1cc(C(F)F)n[nH]1'),\n",
       " ('O=C(N[C@H]1c2ccccc2C[C@@H]1O)[C@@H](O)c1cccc(C(F)(F)F)c1',\n",
       "  'O=C(N[C@H]1c2ccccc2C[C@@H]1O)[C@@H](O)c1cccc(C(F)(F)F)c1'),\n",
       " ('COC(=O)[C@@H]1C[C@H](O)CN(C(=O)[C@@H](O)c2cccc(C(F)(F)F)c2)C1',\n",
       "  'COC(=O)[C@@H]1C[C@H](O)CN(C(=O)[C@@H](O)c2cccc(C(F)(F)F)c2)C1'),\n",
       " ('Nc1nc2nc(CN[C@H]([C@H]3CCOC3)C(F)(F)F)cc(=O)n2[nH]1',\n",
       "  'Nc1nc2nc(CN[C@H]([C@H]3CCOC3)C(F)(F)F)cc(=O)n2[nH]1'),\n",
       " ('O=C(C[C@H]1NC(=O)NC1=O)Nc1cc(C2CC2)nn1-c1ccccc1',\n",
       "  'O=C(C[C@H]1NC(=O)NC1=O)Nc1cc(C2CC2)nn1-c1ccccc1'),\n",
       " ('Oc1cc(Nc2ccc(O)cc2O)cc(C(F)(F)F)c1', 'Oc1cc(Nc2ccc(O)cc2O)cc(C(F)(F)F)c1'),\n",
       " ('O=C1C[C@H](C(=O)N[C@@H]2CCCC[C@H]2F)c2ccccc2N1',\n",
       "  'O=C1C[C@H](C(=O)N[C@@H]2CCCC[C@H]2F)c2ccccc2N1'),\n",
       " ('C[C@@H]1OCC[C@@]1(C)NC(=O)C[C@H]1NC(=O)c2ccccc21',\n",
       "  'C[C@@H]1OCC[C@@]1(C)NC(=O)C[C@H]1NC(=O)c2ccccc21'),\n",
       " ('CC[C@H](O)[C@@H](CC)NC(=O)C(=O)Nc1ccc2c(c1)n(C)c(=O)n2C',\n",
       "  'CC[C@H](O)[C@@H](CC)NC(=O)C(=O)Nc1ccc2c(c1)n(C)c(=O)n2C'),\n",
       " ('Nc1nc2nc(CN[C@@H]([C@H]3CCOC3)C(F)(F)F)cc(=O)n2[nH]1',\n",
       "  'Nc1nc2nc(CN[C@@H]([C@H]3CCOC3)C(F)(F)F)cc(=O)n2[nH]1'),\n",
       " ('O=C1C[C@H](C(=O)NC2(c3ccc(Br)cc3)CC(O)C2)CCN1',\n",
       "  'O=C1C[C@H](C(=O)NC2(c3ccc(Br)cc3)CC(O)C2)CCN1'),\n",
       " ('N#Cc1ccc(C2(NC(=O)N[C@@H]3COC(=O)C3)CCC2)cc1',\n",
       "  'N#Cc1ccc(C2(NC(=O)N[C@@H]3COC(=O)C3)CCC2)cc1'),\n",
       " ('O=C(NCc1cc(=O)cc[nH]1)C1(c2cc(F)cc(C(F)(F)F)c2)CC1',\n",
       "  'O=C(NCc1cc(=O)cc[nH]1)C1(c2cc(F)cc(C(F)(F)F)c2)CC1'),\n",
       " ('O=C(OC[C@H]1CCCCC1(F)F)c1ccc(=O)n(-c2ccccc2)n1',\n",
       "  'O=C(OC[C@H]1CCCCC1(F)F)c1ccc(=O)n(-c2ccccc2)n1'),\n",
       " ('O=C(N[C@@H]1COC(=O)C1)NC1(c2cccc(F)c2)CCC1',\n",
       "  'O=C(N[C@@H]1COC(=O)C1)NC1(c2cccc(F)c2)CCC1'),\n",
       " ('CC[C@H]1C[C@@H](C(=O)NC2(c3ccccc3)CCC2)CC(=O)N1',\n",
       "  'CC[C@H]1C[C@@H](C(=O)NC2(c3ccccc3)CCC2)CC(=O)N1'),\n",
       " ('Cc1cccc(-n2ccnc2SCc2cc(=O)n3[nH]c(N)nc3n2)c1',\n",
       "  'Cc1cccc(-n2ccnc2SCc2cc(=O)n3[nH]c(N)nc3n2)c1'),\n",
       " ('CC(C)[C@H](CNC(=O)[C@@H]1CNC(=O)N1)NC(=O)c1cc(Cl)c[nH]1',\n",
       "  'CC(C)[C@H](CNC(=O)[C@@H]1CNC(=O)N1)NC(=O)c1cc(Cl)c[nH]1'),\n",
       " ('Cn1cc(-c2cc(F)ccc2NC(=O)[C@@H]2CCNC(=O)C2)cn1',\n",
       "  'Cn1cc(-c2cc(F)ccc2NC(=O)[C@@H]2CCNC(=O)C2)cn1'),\n",
       " ('CC(C)(C)c1ccc(C2(NC(=O)[C@@H]3CCC(=O)C3)CCCC2)cc1',\n",
       "  'CC(C)(C)c1ccc(C2(NC(=O)[C@@H]3CCC(=O)C3)CCCC2)cc1'),\n",
       " ('C[C@H](CNC(=O)c1cc(C#N)c[nH]1)NC(=O)c1c[nH]c(=O)n1C',\n",
       "  'C[C@H](CNC(=O)c1cc(C#N)c[nH]1)NC(=O)c1c[nH]c(=O)n1C'),\n",
       " ('CC[C@@H]1C[C@@H](C(=O)NC2(c3ccc(OC)cc3)CC2)CC(=O)N1',\n",
       "  'CC[C@@H]1C[C@@H](C(=O)NC2(c3ccc(OC)cc3)CC2)CC(=O)N1'),\n",
       " ('O=C1C[C@H](C(=O)NC2(c3ccc(Cl)cc3)CCC2)CCN1',\n",
       "  'O=C1C[C@H](C(=O)NC2(c3ccc(Cl)cc3)CCC2)CCN1'),\n",
       " ('CCc1cc(CNC(=O)[C@@](C)(O)c2cccc(C(F)(F)F)c2)[nH]n1',\n",
       "  'CCc1cc(CNC(=O)[C@@](C)(O)c2cccc(C(F)(F)F)c2)[nH]n1'),\n",
       " ('C[C@H]1C[C@@H](C(=O)NC2(c3cccc(Br)c3)CCC2)CC(=O)N1',\n",
       "  'C[C@H]1C[C@@H](C(=O)NC2(c3cccc(Br)c3)CCC2)CC(=O)N1'),\n",
       " ('CC[C@H]1C[C@@H](C(=O)NC2(c3ccc(Br)cc3)CCC2)CC(=O)N1',\n",
       "  'CC[C@H]1C[C@@H](C(=O)NC2(c3ccc(Br)cc3)CCC2)CC(=O)N1'),\n",
       " ('CSc1nc(NC(=O)c2cccc(NC(=O)C(C)C)c2)cc(=O)[nH]1',\n",
       "  'CSc1nc(NC(=O)c2cccc(NC(=O)C(C)C)c2)cc(=O)[nH]1'),\n",
       " ('C[C@@H]1C[C@@H](C(=O)Nc2ccc(F)cc2-c2cnn(C)c2)CC(=O)N1',\n",
       "  'C[C@@H]1C[C@@H](C(=O)Nc2ccc(F)cc2-c2cnn(C)c2)CC(=O)N1'),\n",
       " ('C[C@@H]1CCCN(Cc2cc(=O)n3[nH]c(N)nc3n2)c2ccccc21',\n",
       "  'C[C@@H]1CCCN(Cc2cc(=O)n3[nH]c(N)nc3n2)c2ccccc21'),\n",
       " ('O=C(CCN1CCOC1=O)N1CCN2C(=O)c3ccccc3[C@H]2C1',\n",
       "  'O=C(CCN1CCOC1=O)N1CCN2C(=O)c3ccccc3[C@H]2C1'),\n",
       " ('O=C(NCc1ccc[nH]c1=O)NC1(c2cccc(F)c2)CCC1',\n",
       "  'O=C(NCc1ccc[nH]c1=O)NC1(c2cccc(F)c2)CCC1'),\n",
       " ('O=C1C[C@H](C(=O)NC2(CNCCC(F)(F)F)CCCC2)CCN1',\n",
       "  'O=C1C[C@H](C(=O)NC2(CNCCC(F)(F)F)CCCC2)CCN1'),\n",
       " ('Nc1nc2nc(CN[C@@H](c3nccs3)C(F)(F)F)cc(=O)n2[nH]1',\n",
       "  'Nc1nc2nc(CN[C@@H](c3nccs3)C(F)(F)F)cc(=O)n2[nH]1'),\n",
       " ('Cn1c(=O)n(C)c2cc(NC(=O)/C=C/C3CCOCC3)c(O)cc21',\n",
       "  'Cn1c(=O)n(C)c2cc(NC(=O)/C=C/C3CCOCC3)c(O)cc21'),\n",
       " ('CC[C@@](O)(C(=O)NCc1cc(=O)cc[nH]1)c1cccc(Cl)c1',\n",
       "  'CC[C@@](O)(C(=O)NCc1cc(=O)cc[nH]1)c1cccc(Cl)c1'),\n",
       " ('O=C(N[C@@H]1COC(=O)C1)NC1(c2cccc(Cl)c2)CCC1',\n",
       "  'O=C(N[C@@H]1COC(=O)C1)NC1(c2cccc(Cl)c2)CCC1'),\n",
       " ('Cn1cc(-c2cc(F)ccc2NC(=O)C[C@@H]2COC(=O)C2)cn1',\n",
       "  'Cn1cc(-c2cc(F)ccc2NC(=O)C[C@@H]2COC(=O)C2)cn1'),\n",
       " ('O=C(NCc1cc(=O)cc[nH]1)[C@H](O)[C@@H](O)c1nc2ccccc2[nH]1',\n",
       "  'O=C(NCc1cc(=O)cc[nH]1)[C@H](O)[C@@H](O)c1nc2ccccc2[nH]1'),\n",
       " ('CC[C@H]1C[C@@H](C(=O)NC2(CCO)CCCC2)CC(=O)N1',\n",
       "  'CC[C@H]1C[C@@H](C(=O)NC2(CCO)CCCC2)CC(=O)N1'),\n",
       " ('CN(Cc1ccc[nH]1)C(=O)c1ccc(=O)n(-c2ccccc2)n1',\n",
       "  'CN(Cc1ccc[nH]1)C(=O)c1ccc(=O)n(-c2ccccc2)n1'),\n",
       " ('Cc1cccc(C2(NC(=O)c3cc(C)[nH]c(=O)c3)CCCC2)c1',\n",
       "  'Cc1cccc(C2(NC(=O)c3cc(C)[nH]c(=O)c3)CCCC2)c1'),\n",
       " ('Cn1cc(C(=O)N[C@@H](CNC(=O)[C@@H]2CNC(=O)N2)C2CC2)[nH]c1=O',\n",
       "  'Cn1cc(C(=O)N[C@@H](CNC(=O)[C@@H]2CNC(=O)N2)C2CC2)[nH]c1=O'),\n",
       " ('O=C1NC[C@H](C(=O)NC[C@@H](NC(=O)c2csc(=O)[nH]2)C2CC2)N1',\n",
       "  'O=C1NC[C@H](C(=O)NC[C@@H](NC(=O)c2csc(=O)[nH]2)C2CC2)N1'),\n",
       " ('O=C(NCc1ccc[nH]c1=O)NC1(c2cccc(Cl)c2)CCC1',\n",
       "  'O=C(NCc1ccc[nH]c1=O)NC1(c2cccc(Cl)c2)CCC1'),\n",
       " ('CN(C)S(=O)(=O)NCC(=O)Nc1cc2c(cc1O)n(C)c(=O)n2C',\n",
       "  'CN(C)S(=O)(=O)NCC(=O)Nc1cc2c(cc1O)n(C)c(=O)n2C'),\n",
       " ('CC[C@@H]1C[C@@H](C(=O)NC2(CNC(=O)CC(C)C)CCC2)CC(=O)N1',\n",
       "  'CC[C@@H]1C[C@@H](C(=O)NC2(CNC(=O)CC(C)C)CCC2)CC(=O)N1'),\n",
       " ('C[C@@H](O)C1(NC(=O)C(=O)Nc2ccc3c(c2)n(C)c(=O)n3C)CC1',\n",
       "  'C[C@@H](O)C1(NC(=O)C(=O)Nc2ccc3c(c2)n(C)c(=O)n3C)CC1'),\n",
       " ('O=C(c1cccc(Nc2ccc(O)cc2O)c1)N1CCCC1',\n",
       "  'O=C(c1cccc(Nc2ccc(O)cc2O)c1)N1CCCC1'),\n",
       " ('O=C1CC[C@H](CC(=O)N2CCCC[C@H](NC(=O)C3CC=CC3)C2)N1',\n",
       "  'O=C1CC[C@H](CC(=O)N2CCCC[C@H](NC(=O)C3CC=CC3)C2)N1'),\n",
       " ('CC[C@H]1C[C@@H](C(=O)Nc2ccc(F)cc2O)CC(=O)N1',\n",
       "  'CC[C@H]1C[C@@H](C(=O)Nc2ccc(F)cc2O)CC(=O)N1'),\n",
       " ('O=C1C[C@H](C(=O)N[C@@H]2CCCC[C@H]2F)c2ccc(F)cc2N1',\n",
       "  'O=C1C[C@H](C(=O)N[C@@H]2CCCC[C@H]2F)c2ccc(F)cc2N1'),\n",
       " ('CC(=O)N(CC(=O)Nc1ccc(O)cc1O)c1ccccc1',\n",
       "  'CC(=O)N(CC(=O)Nc1ccc(O)cc1O)c1ccccc1'),\n",
       " ('O=C(NCc1cc(=O)cc[nH]1)[C@@H](O)c1cccc(Br)c1',\n",
       "  'O=C(NCc1cc(=O)cc[nH]1)[C@@H](O)c1cccc(Br)c1'),\n",
       " ('Nc1nc2nc(CN3CCc4cc(F)ccc43)cc(=O)n2[nH]1',\n",
       "  'Nc1nc2nc(CN3CCc4cc(F)ccc43)cc(=O)n2[nH]1'),\n",
       " ('O=C(NCc1ccc[nH]c1=O)NC1(c2cccc(Br)c2)CCC1',\n",
       "  'O=C(NCc1ccc[nH]c1=O)NC1(c2cccc(Br)c2)CCC1'),\n",
       " ('CN1C(=O)NCc2cccc(Nc3ccc(Cl)cc3O)c21',\n",
       "  'CN1C(=O)NCc2cccc(Nc3ccc(Cl)cc3O)c21'),\n",
       " ('O=C(Cc1cc(F)c(F)cc1F)NCc1cc(=O)[nH]c(=O)[nH]1',\n",
       "  'O=C(Cc1cc(F)c(F)cc1F)NCc1cc(=O)[nH]c(=O)[nH]1'),\n",
       " ('O=C(N[C@@H]1COC(=O)C1)NC1(c2ccccc2)CCC1',\n",
       "  'O=C(N[C@@H]1COC(=O)C1)NC1(c2ccccc2)CCC1'),\n",
       " ('COc1cc(=O)[nH]cc1C(=O)Nc1cc(C(F)(F)F)ccc1C',\n",
       "  'COc1cc(=O)[nH]cc1C(=O)Nc1cc(C(F)(F)F)ccc1C'),\n",
       " ('O=C(N[C@H]1CCCc2[nH]c(=O)ccc21)c1cccc(C(F)F)c1F',\n",
       "  'O=C(N[C@H]1CCCc2[nH]c(=O)ccc21)c1cccc(C(F)F)c1F'),\n",
       " ('O=C(NC1(c2cccc(Cl)c2)CCCC1)c1cc[nH]c(=O)c1Br',\n",
       "  'O=C(NC1(c2cccc(Cl)c2)CCCC1)c1cc[nH]c(=O)c1Br'),\n",
       " ('O=C1C[C@H](C(=O)NC2(CF)CCC2)c2ccc(F)cc2N1',\n",
       "  'O=C1C[C@H](C(=O)NC2(CF)CCC2)c2ccc(F)cc2N1'),\n",
       " ('C[C@H](NC(=O)c1ccoc1)C(=O)NC[C@H](O)c1c(F)cccc1F',\n",
       "  'C[C@H](NC(=O)c1ccoc1)C(=O)NC[C@H](O)c1c(F)cccc1F'),\n",
       " ('C[C@H](CNC(=O)[C@H]1CCS(=O)(=O)N1)NC(=O)c1cccc(=O)[nH]1',\n",
       "  'C[C@H](CNC(=O)[C@H]1CCS(=O)(=O)N1)NC(=O)c1cccc(=O)[nH]1'),\n",
       " ('CN(Cc1ncn[nH]1)C(=O)c1ccc(=O)n(-c2cccc(F)c2)c1',\n",
       "  'CN(Cc1ncn[nH]1)C(=O)c1ccc(=O)n(-c2cccc(F)c2)c1'),\n",
       " ('O=C([C@@H]1CC[C@H](O)C1)N1CC2(CCN2C(=O)CCc2ccc[nH]2)C1',\n",
       "  'O=C([C@@H]1CC[C@H](O)C1)N1CC2(CCN2C(=O)CCc2ccc[nH]2)C1'),\n",
       " ('O=C1C[C@H](C(=O)N[C@H]2CCCC[C@H]2F)[C@@H]2CCCC[C@@H]2N1',\n",
       "  'O=C1C[C@H](C(=O)N[C@H]2CCCC[C@H]2F)[C@@H]2CCCC[C@@H]2N1'),\n",
       " ('CC[C@@H](O)CNC(=O)C(=O)Nc1ccc2c(c1)n(C)c(=O)n2C',\n",
       "  'CC[C@@H](O)CNC(=O)C(=O)Nc1ccc2c(c1)n(C)c(=O)n2C'),\n",
       " ('O=C1C[C@H](C(=O)N[C@@H]2CCO[C@H]2C2CC2)c2ccc(F)cc2N1',\n",
       "  'O=C1C[C@H](C(=O)N[C@@H]2CCO[C@H]2C2CC2)c2ccc(F)cc2N1'),\n",
       " ('O=C1Cc2c(cccc2Nc2ccc(F)cc2O)CN1', 'O=C1Cc2c(cccc2Nc2ccc(F)cc2O)CN1'),\n",
       " ('O=C(NCc1nc(CO)n[nH]1)c1cccc2cc(O)ccc12',\n",
       "  'O=C(NCc1nc(CO)n[nH]1)c1cccc2cc(O)ccc12'),\n",
       " ('O=C(Cc1ccn[nH]1)NC[C@@H](CO)NC(=O)c1cccc(=O)[nH]1',\n",
       "  'O=C(Cc1ccn[nH]1)NC[C@@H](CO)NC(=O)c1cccc(=O)[nH]1'),\n",
       " ('O=C1C[C@H](C(=O)Nc2ccc(O)cc2O)CCN1', 'O=C1C[C@H](C(=O)Nc2ccc(O)cc2O)CCN1'),\n",
       " ('Cc1csc(C2(NC(=O)[C@H]3CC(=O)N[C@@H](C)C3)CCC2)n1',\n",
       "  'Cc1csc(C2(NC(=O)[C@H]3CC(=O)N[C@@H](C)C3)CCC2)n1'),\n",
       " ('O=C1CCN(C(=O)[C@@H](O)c2cccc(C(F)(F)F)c2)CCN1',\n",
       "  'O=C1CCN(C(=O)[C@@H](O)c2cccc(C(F)(F)F)c2)CCN1'),\n",
       " ('C[C@H]1C[C@@H](C(=O)NC2(c3noc(C4CC4)n3)CCCC2)CC(=O)N1',\n",
       "  'C[C@H]1C[C@@H](C(=O)NC2(c3noc(C4CC4)n3)CCCC2)CC(=O)N1'),\n",
       " ('O=C(CC[C@H]1NC(=O)NC1=O)N[C@@H]1CCCc2c1cnn2CCO',\n",
       "  'O=C(CC[C@H]1NC(=O)NC1=O)N[C@@H]1CCCc2c1cnn2CCO'),\n",
       " ('O=C(Cc1cnc[nH]1)N[C@H](CO)CNC(=O)c1cc(C(F)F)n[nH]1',\n",
       "  'O=C(Cc1cnc[nH]1)N[C@H](CO)CNC(=O)c1cc(C(F)F)n[nH]1'),\n",
       " ('Cc1csc([C@@H](NCc2cc(=O)n3[nH]c(N)nc3n2)C(F)(F)F)n1',\n",
       "  'Cc1csc([C@@H](NCc2cc(=O)n3[nH]c(N)nc3n2)C(F)(F)F)n1'),\n",
       " ('Cc1[nH]c(=O)c(Br)cc1C(=O)NCc1cccc(C(F)(F)F)c1',\n",
       "  'Cc1[nH]c(=O)c(Br)cc1C(=O)NCc1cccc(C(F)(F)F)c1'),\n",
       " ('O=C1CC[C@H](CC(=O)NC2(c3cccc(C(F)(F)F)c3)CC2)N1',\n",
       "  'O=C1CC[C@H](CC(=O)NC2(c3cccc(C(F)(F)F)c3)CC2)N1'),\n",
       " ('CC(C)(C(=O)NCC1(NC(=O)[C@@H]2CCNC(=O)C2)CCC1)C(F)F',\n",
       "  'CC(C)(C(=O)NCC1(NC(=O)[C@@H]2CCNC(=O)C2)CCC1)C(F)F'),\n",
       " ('CC[C@H](CNC(=O)[C@@H]1CNC(=O)N1)NC(=O)c1cc(Cl)c[nH]1',\n",
       "  'CC[C@H](CNC(=O)[C@@H]1CNC(=O)N1)NC(=O)c1cc(Cl)c[nH]1'),\n",
       " ('O=C(NC1(c2ccccc2)CCCC1)c1cc(C2CC2)[nH]c(=O)c1',\n",
       "  'O=C(NC1(c2ccccc2)CCCC1)c1cc(C2CC2)[nH]c(=O)c1'),\n",
       " ('CCN(Cc1cc(=O)n2[nH]c(N)nc2n1)c1ccccc1F',\n",
       "  'CCN(Cc1cc(=O)n2[nH]c(N)nc2n1)c1ccccc1F'),\n",
       " ('Cc1ccc(C)c(C(=O)Nc2cc3c(cc2O)n(C)c(=O)n3C)c1',\n",
       "  'Cc1ccc(C)c(C(=O)Nc2cc3c(cc2O)n(C)c(=O)n3C)c1'),\n",
       " ('O=C(NC[C@@H](NC(=O)c1cc(F)c[nH]1)C1CC1)c1cc(Cl)c[nH]1',\n",
       "  'O=C(NC[C@@H](NC(=O)c1cc(F)c[nH]1)C1CC1)c1cc(Cl)c[nH]1'),\n",
       " ('CSc1cc(-c2cn(C)c(=O)c3ccccc23)cc(C(F)(F)F)c1',\n",
       "  'CSc1cc(-c2cn(C)c(=O)c3ccccc23)cc(C(F)(F)F)c1'),\n",
       " ('N#Cc1c[nH]c(C(=O)NC[C@H](O)Cc2cccc(F)c2)c1',\n",
       "  'N#Cc1c[nH]c(C(=O)NC[C@H](O)Cc2cccc(F)c2)c1'),\n",
       " ('Cn1c(=O)n(C)c2cc(NC(=O)C(=O)NC3CC(O)C3)ccc21',\n",
       "  'Cn1c(=O)n(C)c2cc(NC(=O)C(=O)NC3CC(O)C3)ccc21'),\n",
       " ('O=C(C[C@H]1OC(=O)c2ccccc21)NC1(c2ncn[nH]2)CCC1',\n",
       "  'O=C(C[C@H]1OC(=O)c2ccccc21)NC1(c2ncn[nH]2)CCC1'),\n",
       " ('O=C1C[C@H](C(=O)NC2(c3cccc(Br)c3)CCC2)CCN1',\n",
       "  'O=C1C[C@H](C(=O)NC2(c3cccc(Br)c3)CCC2)CCN1'),\n",
       " ('Cc1cc(C)n(CC(=O)Nc2cc3c(cc2O)n(C)c(=O)n3C)n1',\n",
       "  'Cc1cc(C)n(CC(=O)Nc2cc3c(cc2O)n(C)c(=O)n3C)n1'),\n",
       " ('C[C@@]1(CCC(=O)NCCc2cc3ccccc3[nH]2)CCC(=O)N1',\n",
       "  'C[C@@]1(CCC(=O)NCCc2cc3ccccc3[nH]2)CCC(=O)N1'),\n",
       " ('CC(=O)N1C[C@@H](C(=O)NCc2cccc(=O)[nH]2)Oc2ccccc21',\n",
       "  'CC(=O)N1C[C@@H](C(=O)NCc2cccc(=O)[nH]2)Oc2ccccc21'),\n",
       " ('O=C(NC[C@H](NC(=O)c1cc2sccc2[nH]1)C1CC1)c1ccc[nH]1',\n",
       "  'O=C(NC[C@H](NC(=O)c1cc2sccc2[nH]1)C1CC1)c1ccc[nH]1'),\n",
       " ('Cc1cccc(C2(NC(=O)N[C@H]3CC(=O)N(C(C)C)C3)CCC2)c1',\n",
       "  'Cc1cccc(C2(NC(=O)N[C@H]3CC(=O)N(C(C)C)C3)CCC2)c1'),\n",
       " ('CC[C@H]1C[C@@H](C(=O)NC2(c3ccc(OC)cc3)CC2)CC(=O)N1',\n",
       "  'CC[C@H]1C[C@@H](C(=O)NC2(c3ccc(OC)cc3)CC2)CC(=O)N1'),\n",
       " ('Cc1cc(NC(=O)[C@@H]2CC(=O)NC(=O)N2)n(-c2cccc(Br)c2)n1',\n",
       "  'Cc1cc(NC(=O)[C@@H]2CC(=O)NC(=O)N2)n(-c2cccc(Br)c2)n1'),\n",
       " ('O=C(NC[C@@H](CO)NC(=O)c1cc2sccc2[nH]1)c1cccnc1',\n",
       "  'O=C(NC[C@@H](CO)NC(=O)c1cc2sccc2[nH]1)c1cccnc1'),\n",
       " ('O=C(NC[C@@H](CO)NC(=O)c1cc(Cl)c(Cl)[nH]1)c1ccc[nH]1',\n",
       "  'O=C(NC[C@@H](CO)NC(=O)c1cc(Cl)c(Cl)[nH]1)c1ccc[nH]1'),\n",
       " ('CC(=O)N(CC(=O)Nc1ccc(Cl)cc1O)c1ccccc1',\n",
       "  'CC(=O)N(CC(=O)Nc1ccc(Cl)cc1O)c1ccccc1'),\n",
       " ('O=C(NCc1cccc(=O)[nH]1)[C@@H](O)c1cccc(C(F)(F)F)c1',\n",
       "  'O=C(NCc1cccc(=O)[nH]1)[C@@H](O)c1cccc(C(F)(F)F)c1'),\n",
       " ('CN1C[C@@H](NC(=O)NC2(c3cccc(Cl)c3)CCC2)CC1=O',\n",
       "  'CN1C[C@@H](NC(=O)NC2(c3cccc(Cl)c3)CCC2)CC1=O'),\n",
       " ('CCC1(NC(=O)[C@H]2CC(=O)Nc3cc(F)ccc32)CCCC1',\n",
       "  'CCC1(NC(=O)[C@H]2CC(=O)Nc3cc(F)ccc32)CCCC1'),\n",
       " ('O=C(N[C@@H]1COC(=O)C1)NC1(c2ccc(Br)cc2)CCCC1',\n",
       "  'O=C(N[C@@H]1COC(=O)C1)NC1(c2ccc(Br)cc2)CCCC1'),\n",
       " ('C[C@H]1C[C@@H](C(=O)NC2(c3ccc(F)cc3F)CCCC2)CC(=O)N1',\n",
       "  'C[C@H]1C[C@@H](C(=O)NC2(c3ccc(F)cc3F)CCCC2)CC(=O)N1'),\n",
       " ('Cc1cn(-c2cc(Nc3ccc(=O)[nH]c3)cc(C(F)(F)F)c2)cn1',\n",
       "  'Cc1cn(-c2cc(Nc3ccc(=O)[nH]c3)cc(C(F)(F)F)c2)cn1'),\n",
       " ('O=C1C[C@H](C(=O)N[C@@H]2CCCC[C@H]2O)c2ccc(F)cc2N1',\n",
       "  'O=C1C[C@H](C(=O)N[C@@H]2CCCC[C@H]2O)c2ccc(F)cc2N1'),\n",
       " ('CN1C(=O)NCc2cccc(Nc3ccc(CO)cc3)c21', 'CN1C(=O)NCc2cccc(Nc3ccc(CO)cc3)c21'),\n",
       " ('C[S@](=O)C[C@@H](NCc1cc(=O)n2[nH]c(N)nc2n1)c1ccccc1',\n",
       "  'C[S@](=O)C[C@@H](NCc1cc(=O)n2[nH]c(N)nc2n1)c1ccccc1'),\n",
       " ('CC[C@H](CNC(=O)c1cc(F)c[nH]1)NC(=O)Cc1ncn[nH]1',\n",
       "  'CC[C@H](CNC(=O)c1cc(F)c[nH]1)NC(=O)Cc1ncn[nH]1'),\n",
       " ('CC(C)N1C[C@@H](NC(=O)NC2(c3cccc(F)c3)CCC2)CC1=O',\n",
       "  'CC(C)N1C[C@@H](NC(=O)NC2(c3cccc(F)c3)CCC2)CC1=O'),\n",
       " ('O=C1C[C@H](C(=O)NC2(CF)CCC2)c2ccccc2N1',\n",
       "  'O=C1C[C@H](C(=O)NC2(CF)CCC2)c2ccccc2N1'),\n",
       " ('Cn1c(SCc2cccc(C(F)(F)F)c2)nc2ccccc2c1=O',\n",
       "  'Cn1c(SCc2cccc(C(F)(F)F)c2)nc2ccccc2c1=O'),\n",
       " ('Cc1cn2c3c(=O)n(C[C@H](O)CO)c(=O)n(C)c3nc2n1CCO',\n",
       "  'Cc1cn2c3c(=O)n(C[C@H](O)CO)c(=O)n(C)c3nc2n1CCO'),\n",
       " ('Nc1nc2nc(CN3CCCCc4cc(Cl)ccc43)cc(=O)n2[nH]1',\n",
       "  'Nc1nc2nc(CN3CCCCc4cc(Cl)ccc43)cc(=O)n2[nH]1'),\n",
       " ('NC(=O)[C@@]1(NC(=O)[C@H]2CC(=O)Nc3cc(F)ccc32)CCOC1',\n",
       "  'NC(=O)[C@@]1(NC(=O)[C@H]2CC(=O)Nc3cc(F)ccc32)CCOC1'),\n",
       " ('Cn1c(=O)n(C)c2cc(NC(=O)C(=O)NC/C=C/CO)ccc21',\n",
       "  'Cn1c(=O)n(C)c2cc(NC(=O)C(=O)NC/C=C/CO)ccc21'),\n",
       " ('CC(=O)N[C@H](Cc1cnc[nH]1)C(=O)n1cc(N)c(=O)nc1N',\n",
       "  'CC(=O)N[C@H](Cc1cnc[nH]1)C(=O)n1cc(N)c(=O)nc1N'),\n",
       " ('O=C(Cc1ccn[nH]1)N[C@H](CO)CNC(=O)c1cccc(=O)[nH]1',\n",
       "  'O=C(Cc1ccn[nH]1)N[C@H](CO)CNC(=O)c1cccc(=O)[nH]1'),\n",
       " ('CC1(C)NC(=O)Nc2cc(-c3c(F)cc(CO)cc3F)ccc21',\n",
       "  'CC1(C)NC(=O)Nc2cc(-c3c(F)cc(CO)cc3F)ccc21'),\n",
       " ('O=C([C@@H](O)c1cccc(C(F)(F)F)c1)N1CC[C@@H](O)CC12CCC2',\n",
       "  'O=C([C@@H](O)c1cccc(C(F)(F)F)c1)N1CC[C@@H](O)CC12CCC2'),\n",
       " ('O=C1C[C@H](C(=O)NC[C@@H](O)C(F)(F)F)c2ccc(F)cc2N1',\n",
       "  'O=C1C[C@H](C(=O)NC[C@@H](O)C(F)(F)F)c2ccc(F)cc2N1'),\n",
       " ('CC[C@@H]1C[C@@H](C(=O)Nc2cn(C)nc2-c2cnn(C)c2)CC(=O)N1',\n",
       "  'CC[C@@H]1C[C@@H](C(=O)Nc2cn(C)nc2-c2cnn(C)c2)CC(=O)N1'),\n",
       " ('CCc1cc(CNC(=O)[C@@H](O)c2cccc(C(F)(F)F)c2)[nH]n1',\n",
       "  'CCc1cc(CNC(=O)[C@@H](O)c2cccc(C(F)(F)F)c2)[nH]n1'),\n",
       " ('C[C@@H]1Cc2cc(Cl)ccc2N1Cc1cc(=O)n2[nH]c(N)nc2n1',\n",
       "  'C[C@@H]1Cc2cc(Cl)ccc2N1Cc1cc(=O)n2[nH]c(N)nc2n1'),\n",
       " ('COc1ccc(C2(NC(=O)c3cc(=O)cc[nH]3)CCCC2)cc1',\n",
       "  'COc1ccc(C2(NC(=O)c3cc(=O)cc[nH]3)CCCC2)cc1'),\n",
       " ('CC1(NC(=O)N[C@@H]2COC(=O)C2)CC(F)(F)C1',\n",
       "  'CC1(NC(=O)N[C@@H]2COC(=O)C2)CC(F)(F)C1'),\n",
       " ('O=C(NC[C@H](O)c1ccc(Cl)cc1Cl)c1cn([C@@H]2CC[C@H]2O)nn1',\n",
       "  'O=C(NC[C@H](O)c1ccc(Cl)cc1Cl)c1cn([C@@H]2CC[C@H]2O)nn1'),\n",
       " ('O=C1C[C@@H](C(=O)Nc2ccc(Cl)cc2O)NC(=O)N1',\n",
       "  'O=C1C[C@@H](C(=O)Nc2ccc(Cl)cc2O)NC(=O)N1'),\n",
       " ('CC[C@H]1C[C@@H](C(=O)NC2(C#N)CCSCC2)CC(=O)N1',\n",
       "  'CC[C@H]1C[C@@H](C(=O)NC2(C#N)CCSCC2)CC(=O)N1'),\n",
       " ('CCOC(=O)[C@H](Cc1cnc[nH]1)NC(=O)[C@@H](O)c1cccc(Cl)c1',\n",
       "  'CCOC(=O)[C@H](Cc1cnc[nH]1)NC(=O)[C@@H](O)c1cccc(Cl)c1'),\n",
       " ('Cn1c(=O)n(C)c2cc(NC(=O)C(=O)NCc3ccc[nH]3)ccc21',\n",
       "  'Cn1c(=O)n(C)c2cc(NC(=O)C(=O)NCc3ccc[nH]3)ccc21'),\n",
       " ('O=C(N[C@@H]1COC(=O)C1)N[C@H]1CCCC1(F)F',\n",
       "  'O=C(N[C@@H]1COC(=O)C1)N[C@H]1CCCC1(F)F'),\n",
       " ('CC[C@@H]1C[C@@H](C(=O)NC2(CCOC)CCC2)CC(=O)N1',\n",
       "  'CC[C@@H]1C[C@@H](C(=O)NC2(CCOC)CCC2)CC(=O)N1'),\n",
       " ('O=C1C[C@H](C(=O)N[C@@H]2CC[C@@H]3[C@@H](C2)C3(F)F)c2ccc(F)cc2N1',\n",
       "  'O=C1C[C@H](C(=O)N[C@@H]2CC[C@@H]3[C@@H](C2)C3(F)F)c2ccc(F)cc2N1'),\n",
       " ('Cc1cccc(C2(NC(=O)N[C@@H]3COC(=O)C3)CCC2)c1',\n",
       "  'Cc1cccc(C2(NC(=O)N[C@@H]3COC(=O)C3)CCC2)c1'),\n",
       " ('CC(C)[C@H](CNC(=O)c1cc(C#N)c[nH]1)NC(=O)[C@H]1CCNC1=O',\n",
       "  'CC(C)[C@H](CNC(=O)c1cc(C#N)c[nH]1)NC(=O)[C@H]1CCNC1=O'),\n",
       " ('CC[C@H]1C[C@@H](C(=O)NC2(c3cccc(C#N)c3)CC2)CC(=O)N1',\n",
       "  'CC[C@H]1C[C@@H](C(=O)NC2(c3cccc(C#N)c3)CC2)CC(=O)N1'),\n",
       " ('O=C(Cc1cc(F)ccc1F)NCc1cc(=O)[nH]c(=O)[nH]1',\n",
       "  'O=C(Cc1cc(F)ccc1F)NCc1cc(=O)[nH]c(=O)[nH]1'),\n",
       " ('CSc1nc(CNC(=O)c2cc(F)c[nH]2)cc(=O)[nH]1',\n",
       "  'CSc1nc(CNC(=O)c2cc(F)c[nH]2)cc(=O)[nH]1'),\n",
       " ('C[C@H](CNC(=O)c1cccc(=O)[nH]1)NC(=O)c1c[nH]c(=O)n1C',\n",
       "  'C[C@H](CNC(=O)c1cccc(=O)[nH]1)NC(=O)c1c[nH]c(=O)n1C'),\n",
       " ('CNS(=O)(=O)NCC(=O)N[C@@H]1CCCc2c1cnn2CCO',\n",
       "  'CNS(=O)(=O)NCC(=O)N[C@@H]1CCCc2c1cnn2CCO'),\n",
       " ('O=C(Cn1c(=O)[nH][nH]c1=O)N[C@H]1CCCc2c1cnn2CCO',\n",
       "  'O=C(Cn1c(=O)[nH][nH]c1=O)N[C@H]1CCCc2c1cnn2CCO'),\n",
       " ('CC(C)C[C@H](CNC(=O)c1cc(C#N)c[nH]1)NC(=O)c1ncn[nH]1',\n",
       "  'CC(C)C[C@H](CNC(=O)c1cc(C#N)c[nH]1)NC(=O)c1ncn[nH]1'),\n",
       " ('CC[C@H](CNC(=O)c1cccc(=O)[nH]1)NC(=O)c1csc(=O)[nH]1',\n",
       "  'CC[C@H](CNC(=O)c1cccc(=O)[nH]1)NC(=O)c1csc(=O)[nH]1'),\n",
       " ('O=C1C[C@H](C(=O)Nc2ccc(F)nc2F)c2ccc(F)cc2N1',\n",
       "  'O=C1C[C@H](C(=O)Nc2ccc(F)nc2F)c2ccc(F)cc2N1'),\n",
       " ('O=C1C[C@H](C(=O)Nc2ccc(F)cc2O)CCN1', 'O=C1C[C@H](C(=O)Nc2ccc(F)cc2O)CCN1'),\n",
       " ('CCC(C)(C)OCc1ccccc1NC(=O)N[C@H]1CCC(=O)NC1',\n",
       "  'CCC(C)(C)OCc1ccccc1NC(=O)N[C@H]1CCC(=O)NC1'),\n",
       " ('CCn1c(SCc2cc(CO)ccc2F)nc2ccccc2c1=O',\n",
       "  'CCn1c(SCc2cc(CO)ccc2F)nc2ccccc2c1=O'),\n",
       " ('O=C(CCn1cccn1)N1CCN2C(=O)c3ccccc3[C@H]2C1',\n",
       "  'O=C(CCn1cccn1)N1CCN2C(=O)c3ccccc3[C@H]2C1'),\n",
       " ('Nc1nc2nc(CN[C@@H](c3ccccc3)C(F)(F)F)cc(=O)n2[nH]1',\n",
       "  'Nc1nc2nc(CN[C@@H](c3ccccc3)C(F)(F)F)cc(=O)n2[nH]1'),\n",
       " ('COc1ccc(C2(NC(=O)c3cc[nH]c(=O)c3Br)CCCC2)cc1',\n",
       "  'COc1ccc(C2(NC(=O)c3cc[nH]c(=O)c3Br)CCCC2)cc1'),\n",
       " ('CC[C@H](CNC(=O)[C@@H]1CNC(=O)N1)NC(=O)c1cc(F)c[nH]1',\n",
       "  'CC[C@H](CNC(=O)[C@@H]1CNC(=O)N1)NC(=O)c1cc(F)c[nH]1'),\n",
       " ('Cc1cn2c3c(=O)n(C[C@@H](O)CO)c(=O)n(C)c3nc2n1CCO',\n",
       "  'Cc1cn2c3c(=O)n(C[C@@H](O)CO)c(=O)n(C)c3nc2n1CCO'),\n",
       " ('C[C@@H](CNC(=O)C(=O)NC[C@H](O)c1ccc(Cl)cc1Cl)S(N)(=O)=O',\n",
       "  'C[C@@H](CNC(=O)C(=O)NC[C@H](O)c1ccc(Cl)cc1Cl)S(N)(=O)=O'),\n",
       " ('O=C([C@@H]1CC[C@H](O)C1)N1CCO[C@H](c2cccc(C(F)(F)F)c2)C1',\n",
       "  'O=C([C@@H]1CC[C@H](O)C1)N1CCO[C@H](c2cccc(C(F)(F)F)c2)C1'),\n",
       " ('C[C@@](O)(C(=O)NCc1cc(=O)cc[nH]1)c1cccc(C(F)(F)F)c1',\n",
       "  'C[C@@](O)(C(=O)NCc1cc(=O)cc[nH]1)c1cccc(C(F)(F)F)c1'),\n",
       " ('O=C(Nc1ccnn1-c1ccccn1)N[C@@H]1COC(=O)C1',\n",
       "  'O=C(Nc1ccnn1-c1ccccn1)N[C@@H]1COC(=O)C1'),\n",
       " ('C[C@@H](C(=O)Nc1cc2c(cc1O)n(C)c(=O)n2C)c1ccc(Cl)s1',\n",
       "  'C[C@@H](C(=O)Nc1cc2c(cc1O)n(C)c(=O)n2C)c1ccc(Cl)s1'),\n",
       " ('CN1C[C@H](C(=O)N[C@@H]2CC23CC(O)C3)c2ccccc2C1=O',\n",
       "  'CN1C[C@H](C(=O)N[C@@H]2CC23CC(O)C3)c2ccccc2C1=O'),\n",
       " ('C[C@H]1C[C@@H](C(=O)Nc2ccc(Cl)cc2O)CC(=O)N1',\n",
       "  'C[C@H]1C[C@@H](C(=O)Nc2ccc(Cl)cc2O)CC(=O)N1'),\n",
       " ('CCn1c(SCc2cccc(C(F)(F)F)c2)nc2ccsc2c1=O',\n",
       "  'CCn1c(SCc2cccc(C(F)(F)F)c2)nc2ccsc2c1=O'),\n",
       " ('O=C(/C=C\\\\c1ccc[nH]1)N[C@H](CO)CNC(=O)c1cc(F)c[nH]1',\n",
       "  'O=C(/C=C\\\\c1ccc[nH]1)N[C@H](CO)CNC(=O)c1cc(F)c[nH]1'),\n",
       " ('CC(=O)NCC(=O)NCC(=O)NC[C@H](O)c1ccc(Cl)cc1Cl',\n",
       "  'CC(=O)NCC(=O)NCC(=O)NC[C@H](O)c1ccc(Cl)cc1Cl'),\n",
       " ('NC(=O)c1cn(-c2cccc(=O)[nH]2)c2ccc(N)cc12',\n",
       "  'NC(=O)c1cn(-c2cccc(=O)[nH]2)c2ccc(N)cc12'),\n",
       " ('CC[C@@H](O)CN(Cc1cc(=O)n2[nH]c(N)nc2n1)c1ccccc1',\n",
       "  'CC[C@@H](O)CN(Cc1cc(=O)n2[nH]c(N)nc2n1)c1ccccc1'),\n",
       " ('O=C(NCc1ccc(=O)[nH]c1)c1c(C(F)F)nc2ccccn12',\n",
       "  'O=C(NCc1ccc(=O)[nH]c1)c1c(C(F)F)nc2ccccn12'),\n",
       " ('Oc1cc(F)ccc1Nc1cc(C(F)(F)F)ccc1N1CCCC1',\n",
       "  'Oc1cc(F)ccc1Nc1cc(C(F)(F)F)ccc1N1CCCC1'),\n",
       " ('C[C@H](NC(=O)[C@@H]1CCNC(=O)C1)c1ccc(OC(F)(F)F)cc1',\n",
       "  'C[C@H](NC(=O)[C@@H]1CCNC(=O)C1)c1ccc(OC(F)(F)F)cc1'),\n",
       " ('NC(=O)NCCC(=O)N1CC[C@H]1CNC(=O)c1cccc(=O)[nH]1',\n",
       "  'NC(=O)NCCC(=O)N1CC[C@H]1CNC(=O)c1cccc(=O)[nH]1'),\n",
       " ('CCn1cc(Nc2ccc(F)cc2O)ccc1=O', 'CCn1cc(Nc2ccc(F)cc2O)ccc1=O'),\n",
       " ('CC[C@H]1C[C@@H](C(=O)Nc2ccc(Cl)cc2OCC(F)F)CC(=O)N1',\n",
       "  'CC[C@H]1C[C@@H](C(=O)Nc2ccc(Cl)cc2OCC(F)F)CC(=O)N1'),\n",
       " ('O=C(NCc1cc(=O)cc[nH]1)[C@@H](O)c1ccccn1',\n",
       "  'O=C(NCc1cc(=O)cc[nH]1)[C@@H](O)c1ccccn1'),\n",
       " ('O=C(Cc1ccc(O)c(Cl)c1)NC[C@H](O)c1ccc(F)cc1',\n",
       "  'O=C(Cc1ccc(O)c(Cl)c1)NC[C@H](O)c1ccc(F)cc1'),\n",
       " ('CC(C)[C@H]1CN(Cc2cc(=O)n3[nH]c(N)nc3n2)c2ccccc21',\n",
       "  'CC(C)[C@H]1CN(Cc2cc(=O)n3[nH]c(N)nc3n2)c2ccccc21'),\n",
       " ('O=C(NC[C@@H](O)c1ccc(Cl)c(F)c1)c1ccc2[nH]c(=S)oc2c1',\n",
       "  'O=C(NC[C@@H](O)c1ccc(Cl)c(F)c1)c1ccc2[nH]c(=S)oc2c1'),\n",
       " ('O=C(NC[C@H](CO)NC(=O)c1cnco1)c1cc(C(F)F)n[nH]1',\n",
       "  'O=C(NC[C@H](CO)NC(=O)c1cnco1)c1cc(C(F)F)n[nH]1'),\n",
       " ('Nc1nc2nc(CN[C@H](c3nccs3)C(F)(F)F)cc(=O)n2[nH]1',\n",
       "  'Nc1nc2nc(CN[C@H](c3nccs3)C(F)(F)F)cc(=O)n2[nH]1'),\n",
       " ('CC[C@@H](CNC(=O)[C@@H]1CC(=O)NC(=O)N1)NC(=O)c1ccco1',\n",
       "  'CC[C@@H](CNC(=O)[C@@H]1CC(=O)NC(=O)N1)NC(=O)c1ccco1'),\n",
       " ('C[C@@H](NC(=O)c1cc(C(F)F)n[nH]1)c1ccc2c(c1)cc(O)n2C',\n",
       "  'C[C@@H](NC(=O)c1cc(C(F)F)n[nH]1)c1ccc2c(c1)cc(O)n2C'),\n",
       " ('NC(=O)c1cn(-c2cc(F)cc(C(F)(F)F)c2)c2ccc(N)cc12',\n",
       "  'NC(=O)c1cn(-c2cc(F)cc(C(F)(F)F)c2)c2ccc(N)cc12'),\n",
       " ('O=C(N[C@@H]1CCc2ccccc21)[C@@H](O)c1cccc(C(F)(F)F)c1',\n",
       "  'O=C(N[C@@H]1CCc2ccccc21)[C@@H](O)c1cccc(C(F)(F)F)c1'),\n",
       " ('Nc1nc2nc(Cn3cccc(C(F)(F)F)c3=O)cc(=O)n2[nH]1',\n",
       "  'Nc1nc2nc(Cn3cccc(C(F)(F)F)c3=O)cc(=O)n2[nH]1'),\n",
       " ('C[C@H]1C[C@@H](C(=O)NC2(c3ccc4c(c3)OCO4)CC2)CC(=O)N1',\n",
       "  'C[C@H]1C[C@@H](C(=O)NC2(c3ccc4c(c3)OCO4)CC2)CC(=O)N1'),\n",
       " ('Cn1c(=S)[nH]c2cc(C(=O)NCC[C@H](O)C(F)(F)F)ccc2c1=O',\n",
       "  'Cn1c(=S)[nH]c2cc(C(=O)NCC[C@H](O)C(F)(F)F)ccc2c1=O'),\n",
       " ('O=C1C[C@@H](C(=O)Nc2ccc(Br)cc2O)NC(=O)N1',\n",
       "  'O=C1C[C@@H](C(=O)Nc2ccc(Br)cc2O)NC(=O)N1'),\n",
       " ('CCn1nc(C(=O)N(C)Cc2cccc(=O)[nH]2)ccc1=O',\n",
       "  'CCn1nc(C(=O)N(C)Cc2cccc(=O)[nH]2)ccc1=O'),\n",
       " ('O=C(Cc1ccc(Cl)s1)N1CCN2C(=O)c3ccccc3[C@H]2C1',\n",
       "  'O=C(Cc1ccc(Cl)s1)N1CCN2C(=O)c3ccccc3[C@H]2C1'),\n",
       " ('CCn1cc(C(=O)NCc2ccc(=O)[nH]c2)c(-c2ccccc2)n1',\n",
       "  'CCn1cc(C(=O)NCc2ccc(=O)[nH]c2)c(-c2ccccc2)n1'),\n",
       " ('CCOC(=O)[C@H](Cc1cnc[nH]1)NC(=O)Cc1ccc(O)c(F)c1',\n",
       "  'CCOC(=O)[C@H](Cc1cnc[nH]1)NC(=O)Cc1ccc(O)c(F)c1'),\n",
       " ('O=C([C@@H](O)c1cccc(C(F)(F)F)c1)N1CC(N2CCCC2=O)C1',\n",
       "  'O=C([C@@H](O)c1cccc(C(F)(F)F)c1)N1CC(N2CCCC2=O)C1'),\n",
       " ('Nc1nc2nc(CN3CCc4ccccc43)cc(=O)n2[nH]1',\n",
       "  'Nc1nc2nc(CN3CCc4ccccc43)cc(=O)n2[nH]1'),\n",
       " ('O=C(N[C@H]1CC(=O)N(C2CC2)C1)NC1(c2cccc(Cl)c2)CCC1',\n",
       "  'O=C(N[C@H]1CC(=O)N(C2CC2)C1)NC1(c2cccc(Cl)c2)CCC1'),\n",
       " ('NC(=O)OC[C@@H](Cc1ccccc1)NC(=O)Cc1ccc(O)cc1',\n",
       "  'NC(=O)OC[C@@H](Cc1ccccc1)NC(=O)Cc1ccc(O)cc1'),\n",
       " ('CC[C@H](CNC(=O)[C@@H]1CNC(=O)N1)NC(=O)c1cc(C#N)c[nH]1',\n",
       "  'CC[C@H](CNC(=O)[C@@H]1CNC(=O)N1)NC(=O)c1cc(C#N)c[nH]1'),\n",
       " ('Cn1c(SCc2cccc(C(F)F)c2)nc2ccccc2c1=O',\n",
       "  'Cn1c(SCc2cccc(C(F)F)c2)nc2ccccc2c1=O'),\n",
       " ('NC(=O)c1cccc(NC(=O)NC2(c3ccccc3)CC(O)C2)c1',\n",
       "  'NC(=O)c1cccc(NC(=O)NC2(c3ccccc3)CC(O)C2)c1'),\n",
       " ('O=C(Cc1ncc[nH]1)N[C@H](CO)CNC(=O)c1cc(Cl)c[nH]1',\n",
       "  'O=C(Cc1ncc[nH]1)N[C@H](CO)CNC(=O)c1cc(Cl)c[nH]1'),\n",
       " ('NC(=O)c1ccccc1CCC(=O)NCc1cc(=O)cc[nH]1',\n",
       "  'NC(=O)c1ccccc1CCC(=O)NCc1cc(=O)cc[nH]1'),\n",
       " ('CC[C@H]1C[C@@H](C(=O)Nc2ccc(Cl)cc2O)CC(=O)N1',\n",
       "  'CC[C@H]1C[C@@H](C(=O)Nc2ccc(Cl)cc2O)CC(=O)N1'),\n",
       " ('Cc1ccc2c(c1)O[C@@H](C)CN2Cc1cc(=O)n2[nH]c(N)nc2n1',\n",
       "  'Cc1ccc2c(c1)O[C@@H](C)CN2Cc1cc(=O)n2[nH]c(N)nc2n1'),\n",
       " ('Cc1cc(CO)cc(C)c1CNC(=O)Cc1cc[nH]c(=O)c1Br',\n",
       "  'Cc1cc(CO)cc(C)c1CNC(=O)Cc1cc[nH]c(=O)c1Br'),\n",
       " ('O=C(NCc1cc(=O)cc[nH]1)[C@@H]1CCOc2c(F)cccc21',\n",
       "  'O=C(NCc1cc(=O)cc[nH]1)[C@@H]1CCOc2c(F)cccc21'),\n",
       " ('Cc1ccc(C2(NC(=O)[C@@H]3CCNC(=O)C3)CCC2)cc1',\n",
       "  'Cc1ccc(C2(NC(=O)[C@@H]3CCNC(=O)C3)CCC2)cc1'),\n",
       " ('C[C@](O)(C(=O)NCc1cc(=O)[nH]c(=S)[nH]1)c1ccc(F)cc1',\n",
       "  'C[C@](O)(C(=O)NCc1cc(=O)[nH]c(=S)[nH]1)c1ccc(F)cc1'),\n",
       " ('CC[C@H]1C[C@@H](C(=O)N[C@@H]2CCCC[C@H]2F)CC(=O)N1',\n",
       "  'CC[C@H]1C[C@@H](C(=O)N[C@@H]2CCCC[C@H]2F)CC(=O)N1'),\n",
       " ('C[C@H](CNC(=O)c1cccc(=O)[nH]1)NC(=O)[C@H]1CCS(=O)(=O)N1',\n",
       "  'C[C@H](CNC(=O)c1cccc(=O)[nH]1)NC(=O)[C@H]1CCS(=O)(=O)N1'),\n",
       " ('O=C(CCc1ccc(O)cc1)N[C@@H]1CCCc2c1cnn2CCO',\n",
       "  'O=C(CCc1ccc(O)cc1)N[C@@H]1CCCc2c1cnn2CCO'),\n",
       " ('CCn1cc(O[C@@H]2CCC[C@@H]2NC(=O)N[C@@H]2COC(=O)C2)cn1',\n",
       "  'CCn1cc(O[C@@H]2CCC[C@@H]2NC(=O)N[C@@H]2COC(=O)C2)cn1'),\n",
       " ('O=C(NCc1nc([O-])cc(=O)[nH]1)c1cccc(=O)[nH]1',\n",
       "  'O=C(NCc1nc([O-])cc(=O)[nH]1)c1cccc(=O)[nH]1'),\n",
       " ('O=C(Cc1cccc(O)c1)N1CCN2C(=O)c3ccccc3[C@H]2C1',\n",
       "  'O=C(Cc1cccc(O)c1)N1CCN2C(=O)c3ccccc3[C@H]2C1'),\n",
       " ('O=C1C[C@H](C(=O)N[C@@H](c2ccc(F)cc2F)C2CC2)CCN1',\n",
       "  'O=C1C[C@H](C(=O)N[C@@H](c2ccc(F)cc2F)C2CC2)CCN1'),\n",
       " ('CCN(C(=O)C[C@H](C)NC(N)=O)C1CN(C(=O)[C@H]2COC(=O)N2)C1',\n",
       "  'CCN(C(=O)C[C@H](C)NC(N)=O)C1CN(C(=O)[C@H]2COC(=O)N2)C1'),\n",
       " ('CCc1nc(C(C)C)ccc1CSc1nc2sccc2c(=O)n1C',\n",
       "  'CCc1nc(C(C)C)ccc1CSc1nc2sccc2c(=O)n1C'),\n",
       " ('O=C1CC(C(=O)N[C@H]2CCC[C@H]2CNc2ncccn2)CC(=O)N1',\n",
       "  'O=C1CC(C(=O)N[C@H]2CCC[C@H]2CNc2ncccn2)CC(=O)N1'),\n",
       " ('CN(C)c1ccccc1N(C)Cc1cc(=O)n2[nH]c(N)nc2n1',\n",
       "  'CN(C)c1ccccc1N(C)Cc1cc(=O)n2[nH]c(N)nc2n1'),\n",
       " ('Cc1cn2c3c(=O)n(C)c(=O)n(C)c3nc2n1-c1cccc(O)c1',\n",
       "  'Cc1cn2c3c(=O)n(C)c(=O)n(C)c3nc2n1-c1cccc(O)c1'),\n",
       " ('C[C@@]1(CCCC(=O)NCc2cc(=O)cc[nH]2)NC(=O)NC1=O',\n",
       "  'C[C@@]1(CCCC(=O)NCc2cc(=O)cc[nH]2)NC(=O)NC1=O'),\n",
       " ('O=C1C[C@H](C(=O)Nc2ccc(Cl)cc2O)CCN1',\n",
       "  'O=C1C[C@H](C(=O)Nc2ccc(Cl)cc2O)CCN1'),\n",
       " ('NS(=O)(=O)C1CN(C(=O)[C@@H](O)c2cccc(C(F)(F)F)c2)C1',\n",
       "  'NS(=O)(=O)C1CN(C(=O)[C@@H](O)c2cccc(C(F)(F)F)c2)C1'),\n",
       " ('O=C(NC[C@@H](O)CNC(=O)[C@H]1CCC1(F)F)c1cc2c([nH]1)CCC2',\n",
       "  'O=C(NC[C@@H](O)CNC(=O)[C@H]1CCC1(F)F)c1cc2c([nH]1)CCC2'),\n",
       " ('COc1cccc(C2(NC(=O)C[C@H]3CCC(=O)N3)CCC2)c1',\n",
       "  'COc1cccc(C2(NC(=O)C[C@H]3CCC(=O)N3)CCC2)c1'),\n",
       " ('N#C[C@@H]1CNC[C@H]1NC(=O)[C@H]1CC(=O)Nc2cc(F)ccc21',\n",
       "  'N#C[C@@H]1CNC[C@H]1NC(=O)[C@H]1CC(=O)Nc2cc(F)ccc21'),\n",
       " ('CC(C)[C@H](CNC(=O)c1ccco1)NC(=O)c1cc2ccsc2[nH]1',\n",
       "  'CC(C)[C@H](CNC(=O)c1ccco1)NC(=O)c1cc2ccsc2[nH]1'),\n",
       " ('CC[C@H](CNC(=O)c1ccc[nH]1)NC(=O)c1cc2c([nH]1)CCC2',\n",
       "  'CC[C@H](CNC(=O)c1ccc[nH]1)NC(=O)c1cc2c([nH]1)CCC2'),\n",
       " ('O=C(Cc1ccc(O)c(F)c1)N[C@@H]1CCCc2c1cnn2CCO',\n",
       "  'O=C(Cc1ccc(O)c(F)c1)N[C@@H]1CCCc2c1cnn2CCO'),\n",
       " ('Cn1c(=O)n(C)c2cc(NC(=O)C(=O)NC3(C)CC=CC3)ccc21',\n",
       "  'Cn1c(=O)n(C)c2cc(NC(=O)C(=O)NC3(C)CC=CC3)ccc21'),\n",
       " ('CC(C)[C@H](CNC(=O)C1=CCCC1)NC(=O)c1cc2sccc2[nH]1',\n",
       "  'CC(C)[C@H](CNC(=O)C1=CCCC1)NC(=O)c1cc2sccc2[nH]1'),\n",
       " ('O=C(NCCc1cc2ccccc2[nH]1)c1cccc2[nH]cnc12',\n",
       "  'O=C(NCCc1cc2ccccc2[nH]1)c1cccc2[nH]cnc12'),\n",
       " ('O=C1C[C@H](C(=O)NC2(C(F)F)CCCC2)c2ccccc2N1',\n",
       "  'O=C1C[C@H](C(=O)NC2(C(F)F)CCCC2)c2ccccc2N1'),\n",
       " ('CC[C@H](CNC(=O)c1ccc[nH]1)NC(=O)c1cc2ccsc2[nH]1',\n",
       "  'CC[C@H](CNC(=O)c1ccc[nH]1)NC(=O)c1cc2ccsc2[nH]1'),\n",
       " ('CC[C@@H]1C[C@@H](C(=O)Nc2ccc(F)cc2OCC(F)F)CC(=O)N1',\n",
       "  'CC[C@@H]1C[C@@H](C(=O)Nc2ccc(F)cc2OCC(F)F)CC(=O)N1'),\n",
       " ('O=C(NC[C@@H](CO)NC(=O)c1cc2c([nH]1)CCC2)c1cc(F)c[nH]1',\n",
       "  'O=C(NC[C@@H](CO)NC(=O)c1cc2c([nH]1)CCC2)c1cc(F)c[nH]1'),\n",
       " ('O=C(Cc1ncc[nH]1)NC[C@@H](CO)NC(=O)c1cccc(=O)[nH]1',\n",
       "  'O=C(Cc1ncc[nH]1)NC[C@@H](CO)NC(=O)c1cccc(=O)[nH]1'),\n",
       " ('O=C1C[C@@H](C(=O)NCc2ccc(CO)cc2)c2ccc(F)cc2N1',\n",
       "  'O=C1C[C@@H](C(=O)NCc2ccc(CO)cc2)c2ccc(F)cc2N1'),\n",
       " ('CC(=O)c1c[nH]c(C(=O)Nc2cc3c(cc2O)n(C)c(=O)n3C)c1',\n",
       "  'CC(=O)c1c[nH]c(C(=O)Nc2cc3c(cc2O)n(C)c(=O)n3C)c1'),\n",
       " ('CCCN1C[C@H](CNC(=O)[C@H](C)c2ccc(F)c(F)c2)CC1=O',\n",
       "  'CCCN1C[C@H](CNC(=O)[C@H](C)c2ccc(F)c(F)c2)CC1=O'),\n",
       " ('Cn1c(=O)n(C)c2cc(NC(=O)C(=O)NCCC(C)(C)O)ccc21',\n",
       "  'Cn1c(=O)n(C)c2cc(NC(=O)C(=O)NCCC(C)(C)O)ccc21'),\n",
       " ('CC[C@@H]1C[C@@H](C(=O)N[C@@H](c2ccc(OC)cc2)C2CC2)CC(=O)N1',\n",
       "  'CC[C@@H]1C[C@@H](C(=O)N[C@@H](c2ccc(OC)cc2)C2CC2)CC(=O)N1'),\n",
       " ('O=C(Nc1ccnn1[C@H]1CCOC1)c1c[nH]c(=O)c(C(F)(F)F)c1',\n",
       "  'O=C(Nc1ccnn1[C@H]1CCOC1)c1c[nH]c(=O)c(C(F)(F)F)c1'),\n",
       " ('Cn1cc([C@@H](NCc2cc(=O)n3[nH]c(N)nc3n2)C(F)(F)F)cn1',\n",
       "  'Cn1cc([C@@H](NCc2cc(=O)n3[nH]c(N)nc3n2)C(F)(F)F)cn1'),\n",
       " ('CCc1ccc2c(c1)CCN2Cc1cc(=O)n2[nH]c(N)nc2n1',\n",
       "  'CCc1ccc2c(c1)CCN2Cc1cc(=O)n2[nH]c(N)nc2n1'),\n",
       " ('CC[C@H](CNC(=O)C1=CCCC1)NC(=O)c1cc2sccc2[nH]1',\n",
       "  'CC[C@H](CNC(=O)C1=CCCC1)NC(=O)c1cc2sccc2[nH]1'),\n",
       " ('CC[C@@H]1C[C@@H](C(=O)N[C@H]2CCC[C@H]2F)CC(=O)N1',\n",
       "  'CC[C@@H]1C[C@@H](C(=O)N[C@H]2CCC[C@H]2F)CC(=O)N1'),\n",
       " ('Cc1ccc(C(=O)NCCc2csc(=O)[nH]2)cc1C(F)(F)F',\n",
       "  'Cc1ccc(C(=O)NCCc2csc(=O)[nH]2)cc1C(F)(F)F'),\n",
       " ('C[C@@H](CNC(=O)c1cc(C(F)F)n[nH]1)NC(=O)[C@@H]1CCNC(=O)C1',\n",
       "  'C[C@@H](CNC(=O)c1cc(C(F)F)n[nH]1)NC(=O)[C@@H]1CCNC(=O)C1'),\n",
       " ('O=C(c1ccc(=O)n(-c2ccccc2)c1)N1CC2(C1)CC(F)(F)C2',\n",
       "  'O=C(c1ccc(=O)n(-c2ccccc2)c1)N1CC2(C1)CC(F)(F)C2'),\n",
       " ('Cc1ccc(C(=O)Nc2cc3c(cc2O)n(C)c(=O)n3C)c(C)n1',\n",
       "  'Cc1ccc(C(=O)Nc2cc3c(cc2O)n(C)c(=O)n3C)c(C)n1'),\n",
       " ('Cn1c(=O)n(C)c2cc(NC(=O)C(=O)NC3(CCO)CC3)ccc21',\n",
       "  'Cn1c(=O)n(C)c2cc(NC(=O)C(=O)NC3(CCO)CC3)ccc21'),\n",
       " ('C[C@@H](CC(N)=O)NC(=O)C(=O)Nc1ccc2c(c1)n(C)c(=O)n2C',\n",
       "  'C[C@@H](CC(N)=O)NC(=O)C(=O)Nc1ccc2c(c1)n(C)c(=O)n2C'),\n",
       " ('COCCn1cc(C(=O)N(C)Cc2cccc(=O)[nH]2)ccc1=O',\n",
       "  'COCCn1cc(C(=O)N(C)Cc2cccc(=O)[nH]2)ccc1=O'),\n",
       " ('CC[C@H](CNC(=O)c1ccns1)NC(=O)c1cc2occc2[nH]1',\n",
       "  'CC[C@H](CNC(=O)c1ccns1)NC(=O)c1cc2occc2[nH]1'),\n",
       " ('O=C1CC[C@H](CC(=O)N[C@@H]2CCCc3cn(C4CCCC4)nc32)N1',\n",
       "  'O=C1CC[C@H](CC(=O)N[C@@H]2CCCc3cn(C4CCCC4)nc32)N1'),\n",
       " ('O=C(NC[C@H](NC(=O)c1cc2occc2[nH]1)C1CC1)c1ccc[nH]1',\n",
       "  'O=C(NC[C@H](NC(=O)c1cc2occc2[nH]1)C1CC1)c1ccc[nH]1'),\n",
       " ('C[C@H]1C[C@@H](C(=O)NC2(c3ccc(Cl)c(Cl)c3)CC2)CC(=O)N1',\n",
       "  'C[C@H]1C[C@@H](C(=O)NC2(c3ccc(Cl)c(Cl)c3)CC2)CC(=O)N1'),\n",
       " ('O=C1CCc2c(Nc3cc(C(F)(F)F)ccc3CO)cccc21',\n",
       "  'O=C1CCc2c(Nc3cc(C(F)(F)F)ccc3CO)cccc21'),\n",
       " ('C[C@H]1CN(C(=O)c2ccco2)C[C@H]1CNC(=O)c1cccc(=O)[nH]1',\n",
       "  'C[C@H]1CN(C(=O)c2ccco2)C[C@H]1CNC(=O)c1cccc(=O)[nH]1'),\n",
       " ('Cc1cccc(C2(NC(=O)C[C@H]3CCC(=O)N3)CCC2)c1',\n",
       "  'Cc1cccc(C2(NC(=O)C[C@H]3CCC(=O)N3)CCC2)c1'),\n",
       " ('CCc1cc(C(=O)NC[C@@H](O)c2cc(F)c(F)c(F)c2)ccc1O',\n",
       "  'CCc1cc(C(=O)NC[C@@H](O)c2cc(F)c(F)c(F)c2)ccc1O'),\n",
       " ('O=C1C[C@H](C(=O)N[C@H]2CCC[C@H]2F)c2ccc(F)cc2N1',\n",
       "  'O=C1C[C@H](C(=O)N[C@H]2CCC[C@H]2F)c2ccc(F)cc2N1'),\n",
       " ('CC[C@@H](CNC(=O)CNS(=O)(=O)CC)NC(=O)c1cc(F)c[nH]1',\n",
       "  'CC[C@@H](CNC(=O)CNS(=O)(=O)CC)NC(=O)c1cc(F)c[nH]1'),\n",
       " ('O=C1CCCC[C@H](CC(=O)NC2(c3cccc(F)c3)CC2)N1',\n",
       "  'O=C1CCCC[C@H](CC(=O)NC2(c3cccc(F)c3)CC2)N1'),\n",
       " ('O=C(NCc1cc(=O)[nH]c(=O)[nH]1)[C@@H](O)c1ccc(Cl)cc1F',\n",
       "  'O=C(NCc1cc(=O)[nH]c(=O)[nH]1)[C@@H](O)c1ccc(Cl)cc1F'),\n",
       " ('CN1C(=O)NCc2cccc(Nc3ccc(F)cc3O)c21', 'CN1C(=O)NCc2cccc(Nc3ccc(F)cc3O)c21'),\n",
       " ('Cn1c(=O)n(C)c2cc(NC(=O)C(=O)N[C@@H](CO)CCF)ccc21',\n",
       "  'Cn1c(=O)n(C)c2cc(NC(=O)C(=O)N[C@@H](CO)CCF)ccc21'),\n",
       " ('CCC1(O)CN(C(=O)[C@@H](O)c2cccc(C(F)(F)F)c2)C1',\n",
       "  'CCC1(O)CN(C(=O)[C@@H](O)c2cccc(C(F)(F)F)c2)C1'),\n",
       " ('CC[C@H](CNC(=O)c1cc(C#N)c[nH]1)NC(=O)[C@H]1CCCNC1=O',\n",
       "  'CC[C@H](CNC(=O)c1cc(C#N)c[nH]1)NC(=O)[C@H]1CCCNC1=O'),\n",
       " ('Cc1[nH]c(=O)c(Br)cc1C(=O)NCc1ccc(CO)c(F)c1',\n",
       "  'Cc1[nH]c(=O)c(Br)cc1C(=O)NCc1ccc(CO)c(F)c1'),\n",
       " ('O=C(CCn1c(O)ccc1O)NCc1cc(=O)cc[nH]1',\n",
       "  'O=C(CCn1c(O)ccc1O)NCc1cc(=O)cc[nH]1'),\n",
       " ('CC[C@H](CNC(=O)Cc1ncn[nH]1)NC(=O)c1cc(C#N)c[nH]1',\n",
       "  'CC[C@H](CNC(=O)Cc1ncn[nH]1)NC(=O)c1cc(C#N)c[nH]1'),\n",
       " ('C[C@H]1C[C@@H](C(=O)NC2(c3cccc(Cl)c3)CCCC2)CC(=O)N1',\n",
       "  'C[C@H]1C[C@@H](C(=O)NC2(c3cccc(Cl)c3)CCCC2)CC(=O)N1'),\n",
       " ('OCc1ccc(C(F)(F)F)cc1Nc1ccc(O)cc1O', 'OCc1ccc(C(F)(F)F)cc1Nc1ccc(O)cc1O'),\n",
       " ('CCc1cc(C(=O)NCCc2nc3ccccc3[nH]2)ccc1O',\n",
       "  'CCc1cc(C(=O)NCCc2nc3ccccc3[nH]2)ccc1O'),\n",
       " ('CCCn1nccc1NC(=O)[C@H]1CC(=O)N[C@H](C)C1',\n",
       "  'CCCn1nccc1NC(=O)[C@H]1CC(=O)N[C@H](C)C1'),\n",
       " ('CC1(C)Cc2cc(-c3cccc(=O)[nH]3)ccc2C(=O)N1',\n",
       "  'CC1(C)Cc2cc(-c3cccc(=O)[nH]3)ccc2C(=O)N1'),\n",
       " ('O=C(NCCc1cc2ccccc2[nH]1)c1ccc(F)c(C(F)F)c1',\n",
       "  'O=C(NCCc1cc2ccccc2[nH]1)c1ccc(F)c(C(F)F)c1'),\n",
       " ('Cc1cc(Cl)ccc1C(=O)Nc1cc2c(cc1O)n(C)c(=O)n2C',\n",
       "  'Cc1cc(Cl)ccc1C(=O)Nc1cc2c(cc1O)n(C)c(=O)n2C'),\n",
       " ('NC(=O)C1(NC(=O)[C@H]2CC(=O)Nc3cc(F)ccc32)CCOCC1',\n",
       "  'NC(=O)C1(NC(=O)[C@H]2CC(=O)Nc3cc(F)ccc32)CCOCC1'),\n",
       " ('CSc1nc(CNC(=O)c2cccc(=O)[nH]2)cc(=O)[nH]1',\n",
       "  'CSc1nc(CNC(=O)c2cccc(=O)[nH]2)cc(=O)[nH]1'),\n",
       " ('C[C@@H](C(=O)N[C@H](CO)CNC(=O)c1cccc(=O)[nH]1)n1cccn1',\n",
       "  'C[C@@H](C(=O)N[C@H](CO)CNC(=O)c1cccc(=O)[nH]1)n1cccn1'),\n",
       " ('O=C(NC[C@H](O)c1c(Cl)cccc1Cl)c1cc2cccc(F)c2[nH]1',\n",
       "  'O=C(NC[C@H](O)c1c(Cl)cccc1Cl)c1cc2cccc(F)c2[nH]1'),\n",
       " ('CC[C@H]1C[C@@H](C(=O)NC2(c3ccc(Br)cc3)CC2)CC(=O)N1',\n",
       "  'CC[C@H]1C[C@@H](C(=O)NC2(c3ccc(Br)cc3)CC2)CC(=O)N1'),\n",
       " ('O=C(NC[C@@H]1CCN1C(=O)Cn1cn[nH]c1=O)c1cccc(=O)[nH]1',\n",
       "  'O=C(NC[C@@H]1CCN1C(=O)Cn1cn[nH]c1=O)c1cccc(=O)[nH]1'),\n",
       " ('Cc1ccc(Nc2cccc3c2N(C)C(=O)NC3)c(O)c1',\n",
       "  'Cc1ccc(Nc2cccc3c2N(C)C(=O)NC3)c(O)c1'),\n",
       " ('C[C@H](CNC(=O)c1cc(F)c[nH]1)NC(=O)c1cc2c([nH]1)CCC2',\n",
       "  'C[C@H](CNC(=O)c1cc(F)c[nH]1)NC(=O)c1cc2c([nH]1)CCC2'),\n",
       " ('CC[C@@]1(C)NC(=O)N(NC(=O)C/C=C/c2cccc(F)c2)C1=O',\n",
       "  'CC[C@@]1(C)NC(=O)N(NC(=O)C/C=C/c2cccc(F)c2)C1=O'),\n",
       " ('CC[C@H](CNC(=O)[C@@H]1CNC(=O)N1)NC(=O)c1csc(=O)[nH]1',\n",
       "  'CC[C@H](CNC(=O)[C@@H]1CNC(=O)N1)NC(=O)c1csc(=O)[nH]1'),\n",
       " ('Cc1cc(Nc2cccc3c2CN(C)C(=O)N3)ccc1C(F)(F)F',\n",
       "  'Cc1cc(Nc2cccc3c2CN(C)C(=O)N3)ccc1C(F)(F)F'),\n",
       " ('CC(=O)N[C@@H](CC(=O)N[C@H](CC(F)(F)F)c1ccccc1)C(N)=O',\n",
       "  'CC(=O)N[C@@H](CC(=O)N[C@H](CC(F)(F)F)c1ccccc1)C(N)=O'),\n",
       " ('CC[C@H](CNC(=O)c1cc(F)c[nH]1)NC(=O)c1cc2c([nH]1)CCC2',\n",
       "  'CC[C@H](CNC(=O)c1cc(F)c[nH]1)NC(=O)c1cc2c([nH]1)CCC2'),\n",
       " ('CC(=O)c1cc(Nc2ccc(F)cc2O)ccc1F', 'CC(=O)c1cc(Nc2ccc(F)cc2O)ccc1F'),\n",
       " ('O=C(CCn1c(O)ccc1O)N[C@@H]1CCCc2c1cnn2CCO',\n",
       "  'O=C(CCn1c(O)ccc1O)N[C@@H]1CCCc2c1cnn2CCO'),\n",
       " ('CC[C@H](CNC(=O)CCc1ncn[nH]1)NC(=O)c1cc(C#N)c[nH]1',\n",
       "  'CC[C@H](CNC(=O)CCc1ncn[nH]1)NC(=O)c1cc(C#N)c[nH]1'),\n",
       " ('CC(C)[C@H](CNC(=O)c1ccco1)NC(=O)c1cc2sccc2[nH]1',\n",
       "  'CC(C)[C@H](CNC(=O)c1ccco1)NC(=O)c1cc2sccc2[nH]1'),\n",
       " ('Cc1[nH]c(=O)[nH]c(=S)c1C(=O)NCc1cc(S(N)(=O)=O)ccc1F',\n",
       "  'Cc1[nH]c(=O)[nH]c(=S)c1C(=O)NCc1cc(S(N)(=O)=O)ccc1F'),\n",
       " ('C[C@H](CNC(=O)[C@H]1CNC(=O)N1)NC(=O)c1cc2occc2[nH]1',\n",
       "  'C[C@H](CNC(=O)[C@H]1CNC(=O)N1)NC(=O)c1cc2occc2[nH]1'),\n",
       " ('CC[C@H](CNC(=O)c1cc(F)c[nH]1)NC(=O)c1cc2occc2[nH]1',\n",
       "  'CC[C@H](CNC(=O)c1cc(F)c[nH]1)NC(=O)c1cc2occc2[nH]1'),\n",
       " ('O=C(N[C@@H](CNC(=O)c1ccco1)C1CC1)c1cc2occc2[nH]1',\n",
       "  'O=C(N[C@@H](CNC(=O)c1ccco1)C1CC1)c1cc2occc2[nH]1'),\n",
       " ('CN(Cc1cccc(=O)[nH]1)C(=O)Cn1c(=O)[nH][nH]c1=O',\n",
       "  'CN(Cc1cccc(=O)[nH]1)C(=O)Cn1c(=O)[nH][nH]c1=O'),\n",
       " ('Nc1nc2nc(CN[C@@H](CCO)C(F)(F)F)cc(=O)n2[nH]1',\n",
       "  'Nc1nc2nc(CN[C@@H](CCO)C(F)(F)F)cc(=O)n2[nH]1'),\n",
       " ('C[C@H](NC(=O)N[C@H](CO)c1ccc(F)cc1F)c1cccc(O)c1',\n",
       "  'C[C@H](NC(=O)N[C@H](CO)c1ccc(F)cc1F)c1cccc(O)c1'),\n",
       " ('CC[C@@](O)(C(=O)NCc1cccc(=O)[nH]1)c1cccc(Cl)c1',\n",
       "  'CC[C@@](O)(C(=O)NCc1cccc(=O)[nH]1)c1cccc(Cl)c1'),\n",
       " ('C[C@H](CNC(=O)C1=CCOCC1)NC(=O)c1cc2sccc2[nH]1',\n",
       "  'C[C@H](CNC(=O)C1=CCOCC1)NC(=O)c1cc2sccc2[nH]1'),\n",
       " ('COc1cccc(C2(NC(=O)C[C@H]3CCCC(=O)N3)CCC2)c1',\n",
       "  'COc1cccc(C2(NC(=O)C[C@H]3CCCC(=O)N3)CCC2)c1'),\n",
       " ('CC(C)c1ccccc1N(C)Cc1cc(=O)n2[nH]c(N)nc2n1',\n",
       "  'CC(C)c1ccccc1N(C)Cc1cc(=O)n2[nH]c(N)nc2n1'),\n",
       " ('Cc1cc(NC(=O)[C@@H]2CC(=O)NC(=O)N2)n(-c2cccc(Cl)c2)n1',\n",
       "  'Cc1cc(NC(=O)[C@@H]2CC(=O)NC(=O)N2)n(-c2cccc(Cl)c2)n1'),\n",
       " ('Cn1c(SCc2cccc(C(F)(F)F)c2)nc2sccc2c1=O',\n",
       "  'Cn1c(SCc2cccc(C(F)(F)F)c2)nc2sccc2c1=O'),\n",
       " ('O=C1C[C@H](NC(=O)Nc2cc(C3CC3)nn2-c2ccccc2)CN1',\n",
       "  'O=C1C[C@H](NC(=O)Nc2cc(C3CC3)nn2-c2ccccc2)CN1'),\n",
       " ('Cc1[nH]c(=O)ccc1C(=O)NCc1ccnc(C(F)(F)F)c1',\n",
       "  'Cc1[nH]c(=O)ccc1C(=O)NCc1ccnc(C(F)(F)F)c1'),\n",
       " ('N#Cc1c[nH]c(C(=O)NC[C@@H](NC(=O)c2ncn[nH]2)C2CC2)c1',\n",
       "  'N#Cc1c[nH]c(C(=O)NC[C@@H](NC(=O)c2ncn[nH]2)C2CC2)c1'),\n",
       " ('O=C(NC[C@H](O)c1c(F)cccc1Cl)c1ccnc2[nH]c(=O)[nH]c12',\n",
       "  'O=C(NC[C@H](O)c1c(F)cccc1Cl)c1ccnc2[nH]c(=O)[nH]c12'),\n",
       " ('Cc1cc(C(=O)NCCc2cc3ccccc3[nH]2)ccc1O',\n",
       "  'Cc1cc(C(=O)NCCc2cc3ccccc3[nH]2)ccc1O'),\n",
       " ('CC1(C)CN(C(=O)C[C@@H]2OC(=O)c3ccccc32)C[C@H](CO)O1',\n",
       "  'CC1(C)CN(C(=O)C[C@@H]2OC(=O)c3ccccc32)C[C@H](CO)O1'),\n",
       " ('C[C@H](NC(=O)c1ccc(C(F)(F)F)[nH]1)[C@H](O)c1c(F)cccc1Cl',\n",
       "  'C[C@H](NC(=O)c1ccc(C(F)(F)F)[nH]1)[C@H](O)c1c(F)cccc1Cl'),\n",
       " ('O=C(NC[C@@H](O)c1ccc(Cl)c(F)c1)c1ccc2n[nH]c(=S)n2c1',\n",
       "  'O=C(NC[C@@H](O)c1ccc(Cl)c(F)c1)c1ccc2n[nH]c(=S)n2c1'),\n",
       " ('CNC(=O)[C@H](Cc1cnc[nH]1)NC(=O)Cc1cc(F)ccc1F',\n",
       "  'CNC(=O)[C@H](Cc1cnc[nH]1)NC(=O)Cc1cc(F)ccc1F'),\n",
       " ('O=C(NC1(c2ccc(F)cc2F)CCCC1)[C@@H]1CCC[C@H](O)C1',\n",
       "  'O=C(NC1(c2ccc(F)cc2F)CCCC1)[C@@H]1CCC[C@H](O)C1'),\n",
       " ('CC[C@H](CNC(=O)c1cc(Cl)c[nH]1)NC(=O)Cc1cnc[nH]1',\n",
       "  'CC[C@H](CNC(=O)c1cc(Cl)c[nH]1)NC(=O)Cc1cnc[nH]1'),\n",
       " ('Cn1c(=O)n(C)c2cc(NC(=O)C(=O)N[C@H]3CCC[C@@H]3F)ccc21',\n",
       "  'Cn1c(=O)n(C)c2cc(NC(=O)C(=O)N[C@H]3CCC[C@@H]3F)ccc21'),\n",
       " ('CC[C@H](CNC(=O)c1ccsc1)NC(=O)c1cc2sccc2[nH]1',\n",
       "  'CC[C@H](CNC(=O)c1ccsc1)NC(=O)c1cc2sccc2[nH]1'),\n",
       " ('Cn1c(=O)n(C)c2cc(NC(=O)c3ccc(F)cc3)c(O)cc21',\n",
       "  'Cn1c(=O)n(C)c2cc(NC(=O)c3ccc(F)cc3)c(O)cc21'),\n",
       " ('CC[C@@H]1C[C@@H](C(=O)NC2(c3cccc(Cl)c3)CCCC2)CC(=O)N1',\n",
       "  'CC[C@@H]1C[C@@H](C(=O)NC2(c3cccc(Cl)c3)CCCC2)CC(=O)N1'),\n",
       " ('O=C(NC[C@H](O)c1ccc(Cl)cc1Cl)c1cn(C(F)(F)CO)nn1',\n",
       "  'O=C(NC[C@H](O)c1ccc(Cl)cc1Cl)c1cn(C(F)(F)CO)nn1'),\n",
       " ('O=C(Cc1ncn[nH]1)N[C@@H]1CCCN(C(=O)/C=C/c2ccc[nH]2)C1',\n",
       "  'O=C(Cc1ncn[nH]1)N[C@@H]1CCCN(C(=O)/C=C/c2ccc[nH]2)C1'),\n",
       " ('O=C(Cc1ccc(O)c(F)c1)NC[C@H](O)c1c(F)cccc1F',\n",
       "  'O=C(Cc1ccc(O)c(F)c1)NC[C@H](O)c1c(F)cccc1F'),\n",
       " ('CCn1cc(CC(=O)N[C@H](C)CNC(=O)c2cccc(=O)[nH]2)cn1',\n",
       "  'CCn1cc(CC(=O)N[C@H](C)CNC(=O)c2cccc(=O)[nH]2)cn1'),\n",
       " ('C[C@H](CNC(=O)c1c[nH]c(=O)n1C)NC(=O)c1cn(C)c(=O)[nH]1',\n",
       "  'C[C@H](CNC(=O)c1c[nH]c(=O)n1C)NC(=O)c1cn(C)c(=O)[nH]1'),\n",
       " ('O=C(c1c[nH]c(=O)c(C(F)(F)F)c1)N1CC[C@](O)(C(F)(F)F)C1',\n",
       "  'O=C(c1c[nH]c(=O)c(C(F)(F)F)c1)N1CC[C@](O)(C(F)(F)F)C1'),\n",
       " ('NC(=O)N[C@@H](CC(=O)NCc1cc(=O)cc[nH]1)c1cccs1',\n",
       "  'NC(=O)N[C@@H](CC(=O)NCc1cc(=O)cc[nH]1)c1cccs1'),\n",
       " ('O=C(NC[C@@H](CO)NC(=O)c1cc(C(F)F)n[nH]1)c1ccc[nH]1',\n",
       "  'O=C(NC[C@@H](CO)NC(=O)c1cc(C(F)F)n[nH]1)c1ccc[nH]1'),\n",
       " ('O=C1CCN(C(=O)Nc2ccnn2[C@@H]2CCCOC2)C2(CCC2)C1',\n",
       "  'O=C1CCN(C(=O)Nc2ccnn2[C@@H]2CCCOC2)C2(CCC2)C1'),\n",
       " ('Cc1ccc([C@H](CC(F)(F)F)NC(=O)c2cc(C)[nH]c(=O)c2)cc1',\n",
       "  'Cc1ccc([C@H](CC(F)(F)F)NC(=O)c2cc(C)[nH]c(=O)c2)cc1'),\n",
       " ('Cc1cc(NC(=O)c2c[nH]c(=O)c(Br)c2)n(-c2ccccc2F)n1',\n",
       "  'Cc1cc(NC(=O)c2c[nH]c(=O)c(Br)c2)n(-c2ccccc2F)n1'),\n",
       " ('C[C@H]1CN(C(=O)c2ccco2)C[C@H]1CNC(=O)c1cc(F)c[nH]1',\n",
       "  'C[C@H]1CN(C(=O)c2ccco2)C[C@H]1CNC(=O)c1cc(F)c[nH]1'),\n",
       " ('Cn1c(=O)n(C)c2cc(NC(=O)c3cccc(CO)c3)c(O)cc21',\n",
       "  'Cn1c(=O)n(C)c2cc(NC(=O)c3cccc(CO)c3)c(O)cc21'),\n",
       " ('C[C@H](NC(=O)c1ccc(C(N)=O)[nH]1)[C@H](O)c1c(F)cccc1Cl',\n",
       "  'C[C@H](NC(=O)c1ccc(C(N)=O)[nH]1)[C@H](O)c1c(F)cccc1Cl'),\n",
       " ('Cc1cc(CO)cc(C)c1CNC(=O)CSc1n[nH]c(=O)[nH]1',\n",
       "  'Cc1cc(CO)cc(C)c1CNC(=O)CSc1n[nH]c(=O)[nH]1'),\n",
       " ('O=C1CC[C@H](C(=O)N2CC3(CCN3C(=O)CCc3ccc[nH]3)C2)C1',\n",
       "  'O=C1CC[C@H](C(=O)N2CC3(CCN3C(=O)CCc3ccc[nH]3)C2)C1'),\n",
       " ('O=C(NC[C@H](O)c1cnc[nH]1)c1cc2c(ccc3ccccc32)[nH]1',\n",
       "  'O=C(NC[C@H](O)c1cnc[nH]1)c1cc2c(ccc3ccccc32)[nH]1'),\n",
       " ('O=C(Nc1ccccc1)c1ccccc1Nc1ccc(F)cc1O',\n",
       "  'O=C(Nc1ccccc1)c1ccccc1Nc1ccc(F)cc1O'),\n",
       " ('C[C@@H](C(=O)N[C@H](CO)c1ccc(F)cc1F)c1cccc(O)c1',\n",
       "  'C[C@@H](C(=O)N[C@H](CO)c1ccc(F)cc1F)c1cccc(O)c1'),\n",
       " ('O=C1C[C@H](C(=O)N[C@H]2CCC[C@@H]2O)c2ccc(F)cc2N1',\n",
       "  'O=C1C[C@H](C(=O)N[C@H]2CCC[C@@H]2O)c2ccc(F)cc2N1'),\n",
       " ('O=C(N[C@@H](CNC(=O)[C@@H]1CC1(F)F)C1CC1)c1cc2c([nH]1)CCC2',\n",
       "  'O=C(N[C@@H](CNC(=O)[C@@H]1CC1(F)F)C1CC1)c1cc2c([nH]1)CCC2'),\n",
       " ('Oc1cc(F)ccc1Nc1ccnn1-c1cccc(C(F)(F)F)c1',\n",
       "  'Oc1cc(F)ccc1Nc1ccnn1-c1cccc(C(F)(F)F)c1'),\n",
       " ('CC[C@H]1C[C@@H](C(=O)NC2(c3cccc(F)c3)CC2)CC(=O)N1',\n",
       "  'CC[C@H]1C[C@@H](C(=O)NC2(c3cccc(F)c3)CC2)CC(=O)N1'),\n",
       " ('Cn1c(SCc2cc(CO)ccc2F)nc2ccccc2c1=O', 'Cn1c(SCc2cc(CO)ccc2F)nc2ccccc2c1=O'),\n",
       " ('Cc1cc(NC(=O)[C@H]2CC(=O)Nc3cc(F)ccc32)n(C)n1',\n",
       "  'Cc1cc(NC(=O)[C@H]2CC(=O)Nc3cc(F)ccc32)n(C)n1'),\n",
       " ('O=C(Cc1ncn[nH]1)NC[C@H](NC(=O)c1csc(=O)[nH]1)C1CC1',\n",
       "  'O=C(Cc1ncn[nH]1)NC[C@H](NC(=O)c1csc(=O)[nH]1)C1CC1'),\n",
       " ('O=C(NC[C@@H](NC(=O)c1cc(Cl)c[nH]1)C1CC1)c1cc(Cl)c[nH]1',\n",
       "  'O=C(NC[C@@H](NC(=O)c1cc(Cl)c[nH]1)C1CC1)c1cc(Cl)c[nH]1'),\n",
       " ('O=C(Cc1ccc(O)cc1)NCc1cc(=O)cc[nH]1', 'O=C(Cc1ccc(O)cc1)NCc1cc(=O)cc[nH]1'),\n",
       " ('Cc1c(C(=O)Nc2ccc(CO)cc2)c2ccccc2[nH]c1=O',\n",
       "  'Cc1c(C(=O)Nc2ccc(CO)cc2)c2ccccc2[nH]c1=O'),\n",
       " ('CCc1cc(C(=O)NC[C@@](C)(O)c2cccc(Cl)c2)cc(=O)[nH]1',\n",
       "  'CCc1cc(C(=O)NC[C@@](C)(O)c2cccc(Cl)c2)cc(=O)[nH]1'),\n",
       " ('C[C@H](CNC(=O)c1cn(C)c(=O)[nH]1)NC(=O)Cc1ccn[nH]1',\n",
       "  'C[C@H](CNC(=O)c1cn(C)c(=O)[nH]1)NC(=O)Cc1ccn[nH]1'),\n",
       " ('C[C@H](CS(C)(=O)=O)C(=O)Nc1cc2c(cc1O)n(C)c(=O)n2C',\n",
       "  'C[C@H](CS(C)(=O)=O)C(=O)Nc1cc2c(cc1O)n(C)c(=O)n2C'),\n",
       " ('O=C(NC[C@@H](CO)NC(=O)c1cccs1)c1cc(C(F)F)n[nH]1',\n",
       "  'O=C(NC[C@@H](CO)NC(=O)c1cccs1)c1cc(C(F)F)n[nH]1'),\n",
       " ('CN1CCN(C(=O)[C@H](O)c2cccc(C(F)(F)F)c2)CCC1=O',\n",
       "  'CN1CCN(C(=O)[C@H](O)c2cccc(C(F)(F)F)c2)CCC1=O'),\n",
       " ('Cn1c(SCc2cccc(C(F)(F)F)c2)nc2ccsc2c1=O',\n",
       "  'Cn1c(SCc2cccc(C(F)(F)F)c2)nc2ccsc2c1=O'),\n",
       " ('CC[C@H](CNC(=O)c1ccoc1)NC(=O)c1cc2ccsc2[nH]1',\n",
       "  'CC[C@H](CNC(=O)c1ccoc1)NC(=O)c1cc2ccsc2[nH]1'),\n",
       " ('CCCN(Cc1nnc2c(=O)[nH]ccn12)c1cc(O)n(C)c1O',\n",
       "  'CCCN(Cc1nnc2c(=O)[nH]ccn12)c1cc(O)n(C)c1O'),\n",
       " ('O=C1CCc2cccc(Nc3ccc(F)cc3O)c2N1', 'O=C1CCc2cccc(Nc3ccc(F)cc3O)c2N1'),\n",
       " ('CC[C@H](CNC(=O)c1cc(C#N)c[nH]1)NC(=O)c1occc1Cl',\n",
       "  'CC[C@H](CNC(=O)c1cc(C#N)c[nH]1)NC(=O)c1occc1Cl'),\n",
       " ('C[C@@](O)(C(=O)NC[C@H](O)c1ccc(Cl)cc1Cl)c1ccccc1',\n",
       "  'C[C@@](O)(C(=O)NC[C@H](O)c1ccc(Cl)cc1Cl)c1ccccc1'),\n",
       " ('Nc1nc2nc(CN3CCC[C@@H]3[C@@H](O)C(F)(F)F)cc(=O)n2[nH]1',\n",
       "  'Nc1nc2nc(CN3CCC[C@@H]3[C@@H](O)C(F)(F)F)cc(=O)n2[nH]1'),\n",
       " ('O=C(NCc1cc(=O)cc[nH]1)[C@@H](O)c1ccc(Cl)cc1F',\n",
       "  'O=C(NCc1cc(=O)cc[nH]1)[C@@H](O)c1ccc(Cl)cc1F'),\n",
       " ('Cn1c(=O)n(C)c2cc(NC(=O)C(=O)NCCC(N)=O)ccc21',\n",
       "  'Cn1c(=O)n(C)c2cc(NC(=O)C(=O)NCCC(N)=O)ccc21'),\n",
       " ('O=C(NCc1nc(CO)n[nH]1)Nc1cccc(C(F)(F)F)c1',\n",
       "  'O=C(NCc1nc(CO)n[nH]1)Nc1cccc(C(F)(F)F)c1'),\n",
       " ('CC[C@@H]1C[C@@H](C(=O)NC2(c3ccc(Br)cc3)CC2)CC(=O)N1',\n",
       "  'CC[C@@H]1C[C@@H](C(=O)NC2(c3ccc(Br)cc3)CC2)CC(=O)N1'),\n",
       " ('Cc1cccc(C2(NC(=O)C[C@@H]3COC(=O)C3)CCC2)c1',\n",
       "  'Cc1cccc(C2(NC(=O)C[C@@H]3COC(=O)C3)CCC2)c1'),\n",
       " ('Nc1nc2nc(CN3CC4(CC4)c4ccccc43)cc(=O)n2[nH]1',\n",
       "  'Nc1nc2nc(CN3CC4(CC4)c4ccccc43)cc(=O)n2[nH]1'),\n",
       " ('Cc1nc2c(c(=O)[nH]1)CN(C(=O)c1cccc(C#CCO)c1)C2',\n",
       "  'Cc1nc2c(c(=O)[nH]1)CN(C(=O)c1cccc(C#CCO)c1)C2'),\n",
       " ('Cn1[nH]c(C(=O)Nc2cc3c(cc2O)n(C)c(=O)n3C)cc1=O',\n",
       "  'Cn1[nH]c(C(=O)Nc2cc3c(cc2O)n(C)c(=O)n3C)cc1=O'),\n",
       " ('C[C@H](CNC(=O)[C@@H]1CNC(=O)N1)NC(=O)c1cc2c([nH]1)CCC2',\n",
       "  'C[C@H](CNC(=O)[C@@H]1CNC(=O)N1)NC(=O)c1cc2c([nH]1)CCC2'),\n",
       " ('O=C(NCc1cc(=O)[nH]c(C2CC2)n1)c1cccc(=O)[nH]1',\n",
       "  'O=C(NCc1cc(=O)[nH]c(C2CC2)n1)c1cccc(=O)[nH]1'),\n",
       " ('CCc1cc(C(=O)NCCc2cc3ccccc3[nH]2)ccc1O',\n",
       "  'CCc1cc(C(=O)NCCc2cc3ccccc3[nH]2)ccc1O'),\n",
       " ('O=C(NC[C@H](O)c1ccc(F)cc1)c1cc2cc(Cl)ccc2[nH]1',\n",
       "  'O=C(NC[C@H](O)c1ccc(F)cc1)c1cc2cc(Cl)ccc2[nH]1'),\n",
       " ('O=C(CCn1cccc1)N1CCN2C(=O)c3ccccc3[C@@H]2C1',\n",
       "  'O=C(CCn1cccc1)N1CCN2C(=O)c3ccccc3[C@@H]2C1'),\n",
       " ('O=C(NCCc1cc2ccccc2[nH]1)c1cncc2[nH]cnc12',\n",
       "  'O=C(NCCc1cc2ccccc2[nH]1)c1cncc2[nH]cnc12'),\n",
       " ('O=C(NCCc1cc2ccccc2[nH]1)c1cccc(CO)c1',\n",
       "  'O=C(NCCc1cc2ccccc2[nH]1)c1cccc(CO)c1'),\n",
       " ('COC(=O)c1cc(Nc2ccc(F)cc2O)cnc1OC', 'COC(=O)c1cc(Nc2ccc(F)cc2O)cnc1OC'),\n",
       " ('CCCCCn1nc(C)cc1NC(=O)[C@H]1CC(=O)N[C@@H](CC)C1',\n",
       "  'CCCCCn1nc(C)cc1NC(=O)[C@H]1CC(=O)N[C@@H](CC)C1'),\n",
       " ('C[C@@H]1C[C@H](O)CN(C(=O)[C@@H](O)c2cccc(C(F)(F)F)c2)C1',\n",
       "  'C[C@@H]1C[C@H](O)CN(C(=O)[C@@H](O)c2cccc(C(F)(F)F)c2)C1'),\n",
       " ('CCn1c(SCc2ccc(CO)cc2)nc2ccccc2c1=O', 'CCn1c(SCc2ccc(CO)cc2)nc2ccccc2c1=O'),\n",
       " ('CSc1nc(NC(=O)c2cccc3cc(O)cnc23)cc(=O)[nH]1',\n",
       "  'CSc1nc(NC(=O)c2cccc3cc(O)cnc23)cc(=O)[nH]1'),\n",
       " ('O=C(NCCc1csc(=O)[nH]1)c1cc2cc(F)ccc2[nH]1',\n",
       "  'O=C(NCCc1csc(=O)[nH]1)c1cc2cc(F)ccc2[nH]1'),\n",
       " ('CCc1cc(C(=O)NC[C@H](O)c2c(F)cccc2Cl)ccc1O',\n",
       "  'CCc1cc(C(=O)NC[C@H](O)c2c(F)cccc2Cl)ccc1O'),\n",
       " ('CNC(=O)[C@H](Cc1cnc[nH]1)NC(=O)CC[C@]1(C)CCC(=O)N1',\n",
       "  'CNC(=O)[C@H](Cc1cnc[nH]1)NC(=O)CC[C@]1(C)CCC(=O)N1'),\n",
       " ('Cc1[nH]c(=O)c(Br)cc1C(=O)NCC[C@@H]1CCC(F)(F)C1',\n",
       "  'Cc1[nH]c(=O)c(Br)cc1C(=O)NCC[C@@H]1CCC(F)(F)C1'),\n",
       " ('O=C1C[C@H](C(=O)Nc2ccsc2Cl)c2ccc(F)cc2N1',\n",
       "  'O=C1C[C@H](C(=O)Nc2ccsc2Cl)c2ccc(F)cc2N1'),\n",
       " ('O=C(N[C@H](CO)CNC(=O)[C@@]12CCC[C@@H]1C2)c1cccc(=O)[nH]1',\n",
       "  'O=C(N[C@H](CO)CNC(=O)[C@@]12CCC[C@@H]1C2)c1cccc(=O)[nH]1'),\n",
       " ('Cn1c(=O)n(C)c2cc(NC(=O)c3ccc[nH]3)c(O)cc21',\n",
       "  'Cn1c(=O)n(C)c2cc(NC(=O)c3ccc[nH]3)c(O)cc21'),\n",
       " ('CC[C@H](CNC(=O)c1ccns1)NC(=O)c1cc(C(F)F)n[nH]1',\n",
       "  'CC[C@H](CNC(=O)c1ccns1)NC(=O)c1cc(C(F)F)n[nH]1'),\n",
       " ('Cc1cc(C(=O)Nc2ccc3c(c2)n(C)c(=O)n3C)ccc1O',\n",
       "  'Cc1cc(C(=O)Nc2ccc3c(c2)n(C)c(=O)n3C)ccc1O'),\n",
       " ('O=C(NCc1ccc(=O)[nH]c1)c1cc(C(F)F)ccc1F',\n",
       "  'O=C(NCc1ccc(=O)[nH]c1)c1cc(C(F)F)ccc1F'),\n",
       " ('CC1(C(=O)NC[C@H](O)c2cnc[nH]2)CCC(=O)CC1',\n",
       "  'CC1(C(=O)NC[C@H](O)c2cnc[nH]2)CCC(=O)CC1'),\n",
       " ('CNS(=O)(=O)NCC(=O)NC[C@H](O)c1c(F)cccc1F',\n",
       "  'CNS(=O)(=O)NCC(=O)NC[C@H](O)c1c(F)cccc1F'),\n",
       " ('Nc1nc2nc(CN3c4ccccc4C[C@H]3CO)cc(=O)n2[nH]1',\n",
       "  'Nc1nc2nc(CN3c4ccccc4C[C@H]3CO)cc(=O)n2[nH]1'),\n",
       " ('Cn1c(=O)n(C)c2cc(NC(=O)c3cc(F)c[nH]3)c(O)cc21',\n",
       "  'Cn1c(=O)n(C)c2cc(NC(=O)c3cc(F)c[nH]3)c(O)cc21'),\n",
       " ('O=C1NC[C@H](C(=O)NC[C@H](NC(=O)c2cc(F)c[nH]2)C2CC2)N1',\n",
       "  'O=C1NC[C@H](C(=O)NC[C@H](NC(=O)c2cc(F)c[nH]2)C2CC2)N1'),\n",
       " ('O=C(NC[C@@H](NC(=O)c1ccc[nH]1)C1CC1)c1cc(Cl)c[nH]1',\n",
       "  'O=C(NC[C@@H](NC(=O)c1ccc[nH]1)C1CC1)c1cc(Cl)c[nH]1'),\n",
       " ('C[C@H](CNC(=O)c1cc(Cl)c(Cl)[nH]1)NC(=O)c1cc(F)c[nH]1',\n",
       "  'C[C@H](CNC(=O)c1cc(Cl)c(Cl)[nH]1)NC(=O)c1cc(F)c[nH]1'),\n",
       " ('CC[C@@H]1C[C@@H](C(=O)Nc2cn(C)nc2-c2ccco2)CC(=O)N1',\n",
       "  'CC[C@@H]1C[C@@H](C(=O)Nc2cn(C)nc2-c2ccco2)CC(=O)N1'),\n",
       " ('O=C1C[C@H](C(=O)Nc2cnc(Br)cn2)c2ccccc2N1',\n",
       "  'O=C1C[C@H](C(=O)Nc2cnc(Br)cn2)c2ccccc2N1'),\n",
       " ('O=C(Cc1ccn[nH]1)NC[C@H](NC(=O)c1cc(F)c[nH]1)C1CC1',\n",
       "  'O=C(Cc1ccn[nH]1)NC[C@H](NC(=O)c1cc(F)c[nH]1)C1CC1'),\n",
       " ('C[C@H](CNC(=O)c1cn(C)c(=O)[nH]1)NC(=O)[C@H]1CCNC1=O',\n",
       "  'C[C@H](CNC(=O)c1cn(C)c(=O)[nH]1)NC(=O)[C@H]1CCNC1=O'),\n",
       " ('Nc1cn(C(=O)[C@@H](O)c2ccc3c(c2)CCO3)c(N)nc1=O',\n",
       "  'Nc1cn(C(=O)[C@@H](O)c2ccc3c(c2)CCO3)c(N)nc1=O'),\n",
       " ('CC[C@@H]1C[C@@H](C(=O)N[C@@](C)(C(N)=O)c2ccccc2)CC(=O)N1',\n",
       "  'CC[C@@H]1C[C@@H](C(=O)N[C@@](C)(C(N)=O)c2ccccc2)CC(=O)N1'),\n",
       " ('O=C(NCCc1csc(=O)[nH]1)c1cc2cc(Cl)ccc2[nH]1',\n",
       "  'O=C(NCCc1csc(=O)[nH]1)c1cc2cc(Cl)ccc2[nH]1'),\n",
       " ('CCS(=O)(=O)NCC(=O)NC[C@@H](NC(=O)c1ccc[nH]1)C(C)C',\n",
       "  'CCS(=O)(=O)NCC(=O)NC[C@@H](NC(=O)c1ccc[nH]1)C(C)C'),\n",
       " ('Cn1c(O)cc2ccc(Nc3ccc4c(c3)CC(=O)N4)cc21',\n",
       "  'Cn1c(O)cc2ccc(Nc3ccc4c(c3)CC(=O)N4)cc21'),\n",
       " ('CCN(Cc1cc(=O)n2[nH]c(N)nc2n1)c1ccccc1OC',\n",
       "  'CCN(Cc1cc(=O)n2[nH]c(N)nc2n1)c1ccccc1OC'),\n",
       " ('C[C@@H](NC(=O)c1cc(C=O)c[nH]1)c1ccc2c(c1)cc(O)n2C',\n",
       "  'C[C@@H](NC(=O)c1cc(C=O)c[nH]1)c1ccc2c(c1)cc(O)n2C'),\n",
       " ('CSc1cc(F)ccc1NC(=O)N1C[C@@H](C(N)=O)[C@@H](C(N)=O)C1',\n",
       "  'CSc1cc(F)ccc1NC(=O)N1C[C@@H](C(N)=O)[C@@H](C(N)=O)C1'),\n",
       " ('O=C(NCCc1nc2ccccc2[nH]1)c1cncc2[nH]cnc12',\n",
       "  'O=C(NCCc1nc2ccccc2[nH]1)c1cncc2[nH]cnc12'),\n",
       " ('CC[C@H](CNC(=O)c1cc(F)c[nH]1)NC(=O)[C@H]1CCNC1=O',\n",
       "  'CC[C@H](CNC(=O)c1cc(F)c[nH]1)NC(=O)[C@H]1CCNC1=O'),\n",
       " ('O=C([C@@H](O)c1ccc2c(c1)CCO2)N1CCC(=O)C(F)(F)C1',\n",
       "  'O=C([C@@H](O)c1ccc2c(c1)CCO2)N1CCC(=O)C(F)(F)C1'),\n",
       " ('O=C(NCc1cc(=O)[nH]c(=S)[nH]1)[C@@H](O)c1ccc(Cl)cc1F',\n",
       "  'O=C(NCc1cc(=O)[nH]c(=S)[nH]1)[C@@H](O)c1ccc(Cl)cc1F'),\n",
       " ('O=C1C[C@H](C(=O)Nc2ccc(Br)cc2O)CCN1',\n",
       "  'O=C1C[C@H](C(=O)Nc2ccc(Br)cc2O)CCN1'),\n",
       " ('O=C1NC[C@H](C(=O)N[C@H](CNC(=O)c2csc(=O)[nH]2)C2CC2)N1',\n",
       "  'O=C1NC[C@H](C(=O)N[C@H](CNC(=O)c2csc(=O)[nH]2)C2CC2)N1'),\n",
       " ('Cc1csc(C2(NC(=O)c3cc(C)[nH]c(=O)c3)CCCC2)n1',\n",
       "  'Cc1csc(C2(NC(=O)c3cc(C)[nH]c(=O)c3)CCCC2)n1'),\n",
       " ('CCc1n[nH]c(CNC(=O)[C@H]2CCC(=O)c3ccccc32)n1',\n",
       "  'CCc1n[nH]c(CNC(=O)[C@H]2CCC(=O)c3ccccc32)n1'),\n",
       " ('Cc1[nH]c(=O)c(Br)cc1C(=O)NCc1cccc(C(F)F)c1',\n",
       "  'Cc1[nH]c(=O)c(Br)cc1C(=O)NCc1cccc(C(F)F)c1'),\n",
       " ('C[C@H](NC(=O)c1cccc2[nH]cnc12)[C@H](O)c1ccc(F)cc1',\n",
       "  'C[C@H](NC(=O)c1cccc2[nH]cnc12)[C@H](O)c1ccc(F)cc1'),\n",
       " ('CN(Cc1cccc(=O)[nH]1)C(=O)c1ccc2[nH]c(=O)[nH]c2n1',\n",
       "  'CN(Cc1cccc(=O)[nH]1)C(=O)c1ccc2[nH]c(=O)[nH]c2n1'),\n",
       " ('O=C1CCC[C@H](C(=O)NC[C@@H](O)CNC(=O)c2cc(Cl)c[nH]2)N1',\n",
       "  'O=C1CCC[C@H](C(=O)NC[C@@H](O)CNC(=O)c2cc(Cl)c[nH]2)N1'),\n",
       " ('C[C@H](CNC(=O)c1cc(C(F)F)n[nH]1)NC(=O)Cc1ccn[nH]1',\n",
       "  'C[C@H](CNC(=O)c1cc(C(F)F)n[nH]1)NC(=O)Cc1ccn[nH]1'),\n",
       " ('O=C(NCc1cc(=O)cc[nH]1)c1cccc2cc(O)ccc12',\n",
       "  'O=C(NCc1cc(=O)cc[nH]1)c1cccc2cc(O)ccc12'),\n",
       " ('Cc1cc(C(=O)NCCc2nc3ccccc3[nH]2)ccc1O',\n",
       "  'Cc1cc(C(=O)NCCc2nc3ccccc3[nH]2)ccc1O'),\n",
       " ('Cc1cccc(C2(NC(=O)CC[C@@]3(C)CCC(=O)N3)CCC2)c1',\n",
       "  'Cc1cccc(C2(NC(=O)CC[C@@]3(C)CCC(=O)N3)CCC2)c1'),\n",
       " ('Cc1cccc(C2(NC(=O)C[C@H]3COC(=O)C3)CCC2)c1',\n",
       "  'Cc1cccc(C2(NC(=O)C[C@H]3COC(=O)C3)CCC2)c1'),\n",
       " ('CC[C@H](CNC(=O)c1cc[nH]c1)NC(=O)c1cc2sccc2[nH]1',\n",
       "  'CC[C@H](CNC(=O)c1cc[nH]c1)NC(=O)c1cc2sccc2[nH]1'),\n",
       " ('O=C(Cc1cccc(C(F)(F)F)c1)NCc1cc(=O)cc[nH]1',\n",
       "  'O=C(Cc1cccc(C(F)(F)F)c1)NCc1cc(=O)cc[nH]1'),\n",
       " ('Cn1cc(Nc2ccc(F)cc2O)ccc1=O', 'Cn1cc(Nc2ccc(F)cc2O)ccc1=O'),\n",
       " ('O=C(NC[C@@H](CO)NC(=O)c1cc2sccc2[nH]1)C1=CCCC1',\n",
       "  'O=C(NC[C@@H](CO)NC(=O)c1cc2sccc2[nH]1)C1=CCCC1'),\n",
       " ('Cn1c(=O)n(C)c2cc(NC(=O)c3cc(=O)cc[nH]3)c(O)cc21',\n",
       "  'Cn1c(=O)n(C)c2cc(NC(=O)c3cc(=O)cc[nH]3)c(O)cc21'),\n",
       " ('CC[C@H]1C[C@@H](C(=O)Nc2cn(C)nc2-c2ccco2)CC(=O)N1',\n",
       "  'CC[C@H]1C[C@@H](C(=O)Nc2cn(C)nc2-c2ccco2)CC(=O)N1'),\n",
       " ('O=C(NC[C@H](O)c1ccc(Cl)cc1Cl)c1cc2c([nH]1)CCCC2',\n",
       "  'O=C(NC[C@H](O)c1ccc(Cl)cc1Cl)c1cc2c([nH]1)CCCC2'),\n",
       " ('N#Cc1c[nH]c(C(=O)N[C@H](CO)CNC(=O)c2ccc(Cl)[nH]2)c1',\n",
       "  'N#Cc1c[nH]c(C(=O)N[C@H](CO)CNC(=O)c2ccc(Cl)[nH]2)c1'),\n",
       " ('O=C(NCc1cn(CC(F)(F)F)c(=O)[nH]c1=O)c1cc(F)c[nH]1',\n",
       "  'O=C(NCc1cn(CC(F)(F)F)c(=O)[nH]c1=O)c1cc(F)c[nH]1'),\n",
       " ('Cn1nccc1C(=O)N[C@@H](CO)CNC(=O)c1cc(C#N)c[nH]1',\n",
       "  'Cn1nccc1C(=O)N[C@@H](CO)CNC(=O)c1cc(C#N)c[nH]1'),\n",
       " ('O=C(NCc1ccc(=O)[nH]c1)c1cc(=O)[nH]c2cc(F)ccc12',\n",
       "  'O=C(NCc1ccc(=O)[nH]c1)c1cc(=O)[nH]c2cc(F)ccc12'),\n",
       " ('Cc1cc(C(=O)Nc2cc3c(cc2O)n(C)c(=O)n3C)ncn1',\n",
       "  'Cc1cc(C(=O)Nc2cc3c(cc2O)n(C)c(=O)n3C)ncn1'),\n",
       " ('O=C(NC[C@@H](O)c1cnc[nH]1)c1ccc(Cl)c(C(F)(F)F)c1',\n",
       "  'O=C(NC[C@@H](O)c1cnc[nH]1)c1ccc(Cl)c(C(F)(F)F)c1'),\n",
       " ('O=C(Cc1cc[nH]c(=O)c1Br)NC[C@H](O)c1ccc(Cl)cc1Cl',\n",
       "  'O=C(Cc1cc[nH]c(=O)c1Br)NC[C@H](O)c1ccc(Cl)cc1Cl'),\n",
       " ('Cn1cc(-c2ccc(F)c(C(F)(F)F)c2)c2ccccc2c1=O',\n",
       "  'Cn1cc(-c2ccc(F)c(C(F)(F)F)c2)c2ccccc2c1=O'),\n",
       " ('C[C@@H]1NC(=O)CC[C@H]1NC(=O)NC1(c2ncc(Br)cn2)CCC1',\n",
       "  'C[C@@H]1NC(=O)CC[C@H]1NC(=O)NC1(c2ncc(Br)cn2)CCC1'),\n",
       " ('Cn1cc(NC(=O)[C@@H]2CCC(=O)NC2)c(-c2ccccc2)n1',\n",
       "  'Cn1cc(NC(=O)[C@@H]2CCC(=O)NC2)c(-c2ccccc2)n1'),\n",
       " ('CC[C@H](CNC(=O)[C@H]1CCNC1=O)NC(=O)c1cc(C#N)c[nH]1',\n",
       "  'CC[C@H](CNC(=O)[C@H]1CCNC1=O)NC(=O)c1cc(C#N)c[nH]1'),\n",
       " ('CCCN1C[C@H](CNC(=O)NCC[C@H]2CNC(=O)C2)CC1=O',\n",
       "  'CCCN1C[C@H](CNC(=O)NCC[C@H]2CNC(=O)C2)CC1=O'),\n",
       " ('O=C(N[C@H]1CCNC1=O)NC1(c2cccc(Cl)c2)CCCC1',\n",
       "  'O=C(N[C@H]1CCNC1=O)NC1(c2cccc(Cl)c2)CCCC1'),\n",
       " ('C[C@H]1C[C@@H](C(=O)Nc2ccc(F)cc2OCC(F)F)CC(=O)N1',\n",
       "  'C[C@H]1C[C@@H](C(=O)Nc2ccc(F)cc2OCC(F)F)CC(=O)N1'),\n",
       " ('C[C@@H]1C[C@@H](C(=O)Nc2ccc(F)cc2OCC(F)F)CC(=O)N1',\n",
       "  'C[C@@H]1C[C@@H](C(=O)Nc2ccc(F)cc2OCC(F)F)CC(=O)N1'),\n",
       " ('O=C(NCc1nc(CO)cs1)c1cc(=O)[nH]c2cc(F)ccc12',\n",
       "  'O=C(NCc1nc(CO)cs1)c1cc(=O)[nH]c2cc(F)ccc12'),\n",
       " ('CC[C@@H](CNC(=O)c1cc(F)c[nH]1)NC(=O)[C@@H]1CCNC(=O)C1',\n",
       "  'CC[C@@H](CNC(=O)c1cc(F)c[nH]1)NC(=O)[C@@H]1CCNC(=O)C1'),\n",
       " ('CCc1cc(C(=O)N[C@H](C)[C@H](O)c2ccc(F)cc2)ccc1O',\n",
       "  'CCc1cc(C(=O)N[C@H](C)[C@H](O)c2ccc(F)cc2)ccc1O'),\n",
       " ('CC[C@H](CNC(=O)c1ncc[nH]1)NC(=O)c1cc(Cl)c(Cl)[nH]1',\n",
       "  'CC[C@H](CNC(=O)c1ncc[nH]1)NC(=O)c1cc(Cl)c(Cl)[nH]1'),\n",
       " ('CCn1ccc(CC(=O)NC[C@H](O)c2c(F)cccc2F)n1',\n",
       "  'CCn1ccc(CC(=O)NC[C@H](O)c2c(F)cccc2F)n1'),\n",
       " ('Cc1cc(C(=O)NCc2cc(=O)cc[nH]2)ccc1O', 'Cc1cc(C(=O)NCc2cc(=O)cc[nH]2)ccc1O'),\n",
       " ('CC[C@@H](CNC(=O)c1cc(Cl)c[nH]1)NC(=O)[C@H]1COC(=O)N1',\n",
       "  'CC[C@@H](CNC(=O)c1cc(Cl)c[nH]1)NC(=O)[C@H]1COC(=O)N1'),\n",
       " ('CC[C@H](CNC(=O)c1ccns1)NC(=O)c1cc2c([nH]1)CCC2',\n",
       "  'CC[C@H](CNC(=O)c1ccns1)NC(=O)c1cc2c([nH]1)CCC2'),\n",
       " ('O=C(CC[C@H]1NC(=O)NC1=O)NCc1cc(=O)cc[nH]1',\n",
       "  'O=C(CC[C@H]1NC(=O)NC1=O)NCc1cc(=O)cc[nH]1'),\n",
       " ('O=C(N[C@H](CO)CNC(=O)c1cc(C(F)F)n[nH]1)c1ccoc1',\n",
       "  'O=C(N[C@H](CO)CNC(=O)c1cc(C(F)F)n[nH]1)c1ccoc1'),\n",
       " ('CC[C@H](CNC(=O)c1cnco1)NC(=O)c1cc(Cl)c(Cl)[nH]1',\n",
       "  'CC[C@H](CNC(=O)c1cnco1)NC(=O)c1cc(Cl)c(Cl)[nH]1'),\n",
       " ('NC(=O)c1cc(-c2cc(F)cc(CO)c2)cc(C(N)=O)n1',\n",
       "  'NC(=O)c1cc(-c2cc(F)cc(CO)c2)cc(C(N)=O)n1'),\n",
       " ('CSc1nc(NC(=O)c2cc(F)c[nH]2)cc(=O)[nH]1',\n",
       "  'CSc1nc(NC(=O)c2cc(F)c[nH]2)cc(=O)[nH]1'),\n",
       " ('CC[C@H]1C[C@@H](C(=O)NC2(c3cccc(OC)c3)CC2)CC(=O)N1',\n",
       "  'CC[C@H]1C[C@@H](C(=O)NC2(c3cccc(OC)c3)CC2)CC(=O)N1'),\n",
       " ('CC[C@@H](CC#N)NCc1cc(=O)n2[nH]c(N)nc2n1',\n",
       "  'CC[C@@H](CC#N)NCc1cc(=O)n2[nH]c(N)nc2n1'),\n",
       " ('C[C@@](O)(Cn1ccccc1=O)C(=O)NCc1cc(=O)cc[nH]1',\n",
       "  'C[C@@](O)(Cn1ccccc1=O)C(=O)NCc1cc(=O)cc[nH]1'),\n",
       " ('NC(=O)OC[C@@H](Cc1ccccc1)NC(=O)CNCC(F)(F)F',\n",
       "  'NC(=O)OC[C@@H](Cc1ccccc1)NC(=O)CNCC(F)(F)F'),\n",
       " ('CCn1nc(C)cc1NC(=O)[C@H]1CC(=O)Nc2ccccc21',\n",
       "  'CCn1nc(C)cc1NC(=O)[C@H]1CC(=O)Nc2ccccc21'),\n",
       " ('O=C(NCc1cccc(=O)[nH]1)[C@@H]1CC[C@@](O)(c2ccccc2)C1',\n",
       "  'O=C(NCc1cccc(=O)[nH]1)[C@@H]1CC[C@@](O)(c2ccccc2)C1'),\n",
       " ('CC[C@H](CNC(=O)c1ccoc1)NC(=O)c1cc2c([nH]1)CCC2',\n",
       "  'CC[C@H](CNC(=O)c1ccoc1)NC(=O)c1cc2c([nH]1)CCC2'),\n",
       " ('CNS(=O)(=O)NCC(=O)N[C@H](CO)c1ccc(F)cc1F',\n",
       "  'CNS(=O)(=O)NCC(=O)N[C@H](CO)c1ccc(F)cc1F'),\n",
       " ('NC(=O)C1(O)CN(C(=O)[C@@H](O)c2cccc(C(F)(F)F)c2)C1',\n",
       "  'NC(=O)C1(O)CN(C(=O)[C@@H](O)c2cccc(C(F)(F)F)c2)C1'),\n",
       " ('C[C@@H](CNC(=O)c1cn(C)c(=O)[nH]1)NC(=O)c1cc(F)c[nH]1',\n",
       "  'C[C@@H](CNC(=O)c1cn(C)c(=O)[nH]1)NC(=O)c1cc(F)c[nH]1'),\n",
       " ('CC1(C)NC(=O)Cc2cc(-c3c(F)cc(CO)cc3F)ccc21',\n",
       "  'CC1(C)NC(=O)Cc2cc(-c3c(F)cc(CO)cc3F)ccc21'),\n",
       " ('C[C@@H](O)[C@@H](NC(=O)[C@@](C)(O)c1ccccc1)c1ccccc1F',\n",
       "  'C[C@@H](O)[C@@H](NC(=O)[C@@](C)(O)c1ccccc1)c1ccccc1F'),\n",
       " ('Cc1csc(C2(NC(=O)C[C@H]3CCCCC(=O)N3)CCC2)n1',\n",
       "  'Cc1csc(C2(NC(=O)C[C@H]3CCCCC(=O)N3)CCC2)n1'),\n",
       " ('Cn1cc(NC(=O)c2c[nH]c(=O)c(Br)c2)c(-c2ccccc2)n1',\n",
       "  'Cn1cc(NC(=O)c2c[nH]c(=O)c(Br)c2)c(-c2ccccc2)n1'),\n",
       " ('Cc1cc(CO)cc(Nc2nc(N(C)C)[nH]c(=O)c2N=O)c1',\n",
       "  'Cc1cc(CO)cc(Nc2nc(N(C)C)[nH]c(=O)c2N=O)c1')]"
      ]
     },
     "execution_count": 313,
     "metadata": {},
     "output_type": "execute_result"
    }
   ],
   "source": [
    "data"
   ]
  },
  {
   "cell_type": "markdown",
   "metadata": {},
   "source": [
    "We clean up the similes strings into stuff that can be fed into the LSTM\n",
    "#use content from https://pytorch.org/tutorials/intermediate/seq2seq_translation_tutorial.html"
   ]
  },
  {
   "cell_type": "code",
   "execution_count": 314,
   "metadata": {},
   "outputs": [],
   "source": [
    "PAD_token = 0\n",
    "SOS_token = 1\n",
    "EOS_token = 2\n",
    "\n",
    "class Lang:\n",
    "    def __init__(self, name):\n",
    "        self.name = name\n",
    "        self.char2index = {}\n",
    "        self.char2count = {}\n",
    "        self.index2char = {0: \"PAD\", 1: \"SOS\", 2: \"EOS\"}\n",
    "        self.n_chars = 3  # Count SOS and EOS and PAD\n",
    "\n",
    "    def addSMILES(self, smiles):\n",
    "        for char in smiles:\n",
    "            self.addChar(char)\n",
    "\n",
    "    def addChar(self, char):\n",
    "        if char not in self.char2index:\n",
    "            self.char2index[char] = self.n_chars\n",
    "            self.char2count[char] = 1\n",
    "            self.index2char[self.n_chars] = char\n",
    "            self.n_chars += 1\n",
    "        else:\n",
    "            self.char2count[char] += 1"
   ]
  },
  {
   "cell_type": "code",
   "execution_count": 315,
   "metadata": {},
   "outputs": [
    {
     "data": {
      "text/plain": [
       "63"
      ]
     },
     "execution_count": 315,
     "metadata": {},
     "output_type": "execute_result"
    }
   ],
   "source": [
    "max([len(smiles) for smiles in traindata['cleanSMILES'] ])"
   ]
  },
  {
   "cell_type": "code",
   "execution_count": 316,
   "metadata": {},
   "outputs": [],
   "source": [
    "MIN_LENGTH = 3\n",
    "MAX_LENGTH = 63\n",
    "\n",
    "def filter_pairs(pairs):\n",
    "    filtered_pairs = []\n",
    "    for pair in pairs:\n",
    "        if len(pair[0]) >= MIN_LENGTH and len(pair[0]) <= MAX_LENGTH \\\n",
    "            and len(pair[1]) >= MIN_LENGTH and len(pair[1]) <= MAX_LENGTH:\n",
    "                filtered_pairs.append(pair)\n",
    "    return filtered_pairs"
   ]
  },
  {
   "cell_type": "code",
   "execution_count": 317,
   "metadata": {},
   "outputs": [],
   "source": [
    "def prepareData(lang1, lang2, data):\n",
    "    \"\"\"takes data as list of pairs for now\n",
    "    returns the dictionaries for input and output languages, and the pairs\"\"\"\n",
    "    input_lang = Lang(lang1)\n",
    "    output_lang = Lang(lang2)\n",
    "    pairs = data\n",
    "    print(\"Read %s smiles pairs\" % len(pairs))\n",
    "    \n",
    "    pairs = filter_pairs(pairs)\n",
    "    print(\"Filtered to %d pairs\" % len(pairs))\n",
    "    \n",
    "    print(\"Counting chars...\")\n",
    "    for pair in pairs:\n",
    "        input_lang.addSMILES(pair[0])\n",
    "        output_lang.addSMILES(pair[1])\n",
    "    print(\"Counted chars:\")\n",
    "    print(input_lang.name, input_lang.n_chars)\n",
    "    print(output_lang.name, output_lang.n_chars)\n",
    "    return input_lang, output_lang, pairs"
   ]
  },
  {
   "cell_type": "code",
   "execution_count": 318,
   "metadata": {},
   "outputs": [
    {
     "name": "stdout",
     "output_type": "stream",
     "text": [
      "Read 673 smiles pairs\n",
      "Filtered to 673 pairs\n",
      "Counting chars...\n",
      "Counted chars:\n",
      "Canonical SMILES 30\n",
      "Canonical SMILES 30\n",
      "('CC[C@H]1C[C@@H](C(=O)NC2(c3ccc(Br)cc3)CCC2)CC(=O)N1', 'CC[C@H]1C[C@@H](C(=O)NC2(c3ccc(Br)cc3)CCC2)CC(=O)N1')\n"
     ]
    }
   ],
   "source": [
    "#input_lang, output_lang, pairs = prepareData(\"Random SMILES\",\"Canonical SMILES\", data)\n",
    "input_lang, output_lang, pairs = prepareData(\"Canonical SMILES\",\"Canonical SMILES\", data)\n",
    "print(random.choice(pairs))"
   ]
  },
  {
   "cell_type": "code",
   "execution_count": 319,
   "metadata": {
    "scrolled": true
   },
   "outputs": [
    {
     "data": {
      "text/plain": [
       "673"
      ]
     },
     "execution_count": 319,
     "metadata": {},
     "output_type": "execute_result"
    }
   ],
   "source": [
    "len(pairs)"
   ]
  },
  {
   "cell_type": "markdown",
   "metadata": {},
   "source": [
    "How do we deal with this problem that the languages are different?"
   ]
  },
  {
   "cell_type": "markdown",
   "metadata": {},
   "source": [
    "# Model code\n",
    "Now we implement the seq-to-vec part"
   ]
  },
  {
   "cell_type": "code",
   "execution_count": 320,
   "metadata": {},
   "outputs": [],
   "source": [
    "class EncoderRNN(nn.Module):\n",
    "    def __init__(self, input_size, hidden_size, n_layers=1):\n",
    "        super(EncoderRNN, self).__init__()\n",
    "        \n",
    "        self.input_size = input_size\n",
    "        self.hidden_size = hidden_size\n",
    "        self.n_layers = n_layers\n",
    "        self.embedding = nn.Embedding(input_size, hidden_size)\n",
    "        self.gru = nn.GRU(hidden_size, hidden_size, n_layers, bidirectional=True)\n",
    "        \n",
    "    def forward(self, input_seqs, input_lengths, hidden=None):\n",
    "        # Note: we run this all at once (over multiple batches of multiple sequences)\n",
    "        embedded = self.embedding(input_seqs)\n",
    "        packed = torch.nn.utils.rnn.pack_padded_sequence(embedded, input_lengths)\n",
    "        outputs, hidden = self.gru(packed, hidden)\n",
    "        outputs, output_lengths = torch.nn.utils.rnn.pad_packed_sequence(outputs) # unpack (back to padded)\n",
    "        outputs = outputs[:, :, :self.hidden_size] + outputs[:, : ,self.hidden_size:] # Sum bidirectional outputs\n",
    "        return outputs, hidden"
   ]
  },
  {
   "cell_type": "code",
   "execution_count": 321,
   "metadata": {},
   "outputs": [],
   "source": [
    "class VAE(nn.Module):\n",
    "    def __init__(self,hidden_size, lat_int_size = 60, lat_size = 30):\n",
    "        super(VAE, self).__init__()\n",
    "        self.hidden_size = hidden_size\n",
    "        self.lat_int_size = lat_int_size\n",
    "        self.lat_size = lat_size\n",
    "        self.fc1 = nn.Linear(hidden_size, lat_int_size)\n",
    "        self.fc21 = nn.Linear(lat_int_size, lat_size)\n",
    "        self.fc22 = nn.Linear(lat_int_size, lat_size)\n",
    "        self.fc3 = nn.Linear(lat_size, lat_int_size)\n",
    "        self.fc4 = nn.Linear(lat_int_size, hidden_size)\n",
    "\n",
    "    def encode(self, x):\n",
    "        h1 = F.relu(self.fc1(x))\n",
    "        return self.fc21(h1), self.fc22(h1)\n",
    "\n",
    "    def reparameterize(self, mu, logvar):\n",
    "        std = torch.exp(0.5*logvar)\n",
    "        eps = torch.randn_like(std)\n",
    "        return mu + eps*std\n",
    "\n",
    "    def decode(self, z):\n",
    "        h3 = F.relu(self.fc3(z))\n",
    "        return torch.sigmoid(self.fc4(h3))\n",
    "\n",
    "    def forward(self, x):\n",
    "        #mu, logvar = self.encode(x.view(-1, hidden_size))\n",
    "        mu, logvar = self.encode(x)\n",
    "        z = self.reparameterize(mu, logvar)\n",
    "        return self.decode(z), mu, logvar"
   ]
  },
  {
   "cell_type": "code",
   "execution_count": 322,
   "metadata": {},
   "outputs": [],
   "source": [
    "class DecoderRNN(nn.Module):\n",
    "    def __init__(self, hidden_size, output_size, n_layers=1):\n",
    "        super(DecoderRNN, self).__init__()\n",
    "\n",
    "        # Keep for reference\n",
    "        self.hidden_size = hidden_size\n",
    "        self.output_size = output_size\n",
    "        self.n_layers = n_layers\n",
    "        \n",
    "        # Define layers\n",
    "        self.embedding = nn.Embedding(output_size, hidden_size)\n",
    "        self.gru = nn.GRU(hidden_size, hidden_size, n_layers)\n",
    "        self.out = nn.Linear(hidden_size, output_size)\n",
    "\n",
    "    def forward(self, input_seq, last_hidden):\n",
    "        # Note: we run this one step at a time\n",
    "\n",
    "        # Get the embedding of the current input word (last output word)\n",
    "        batch_size = input_seq.size(0)\n",
    "        embedded = self.embedding(input_seq)\n",
    "        embedded = embedded.view(1, batch_size, self.hidden_size) # S=1 x B x N\n",
    "\n",
    "        # Get current hidden state from input word and last hidden state\n",
    "        output, hidden = self.gru(embedded, last_hidden)\n",
    "        output = self.out(output)\n",
    "\n",
    "        # Return final output, hidden state\n",
    "        return output, hidden"
   ]
  },
  {
   "cell_type": "markdown",
   "metadata": {},
   "source": [
    "## Dealing with variable length sequences"
   ]
  },
  {
   "cell_type": "code",
   "execution_count": 323,
   "metadata": {},
   "outputs": [],
   "source": [
    "def indexesFromSmiles(lang, smiles):\n",
    "    return [lang.char2index[char] for char in smiles] + [EOS_token]\n",
    "\n",
    "\n",
    "def tensorFromSmiles(lang, smiles):\n",
    "    indexes = indexesFromSmiles(lang, smiles)\n",
    "    return torch.tensor(indexes, dtype=torch.long, device=device).view(-1, 1)\n",
    "\n",
    "def pad_seq(seq, max_length):\n",
    "    seq += [PAD_token for i in range(max_length - len(seq))]\n",
    "    return seq\n"
   ]
  },
  {
   "cell_type": "code",
   "execution_count": 324,
   "metadata": {},
   "outputs": [],
   "source": [
    "def random_batch(batch_size, whichpairs):\n",
    "    input_seqs = []\n",
    "    target_seqs = []\n",
    "\n",
    "    # Choose random pairs\n",
    "    for i in range(batch_size):\n",
    "        pair = random.choice(whichpairs)\n",
    "        input_seqs.append(indexesFromSmiles(input_lang, pair[0]))\n",
    "        target_seqs.append(indexesFromSmiles(output_lang, pair[1]))\n",
    "\n",
    "    # Zip into pairs, sort by length (descending), unzip\n",
    "    seq_pairs = sorted(zip(input_seqs, target_seqs), key=lambda p: len(p[0]), reverse=True)\n",
    "    input_seqs, target_seqs = zip(*seq_pairs) \n",
    "    \"\"\"the * unzips\"\"\"\n",
    "    \n",
    "    # For input and target sequences, get array of lengths and pad with 0s to max length\n",
    "    input_lengths = [len(s) for s in input_seqs]\n",
    "    input_padded = [pad_seq(s, max(input_lengths)) for s in input_seqs]\n",
    "    target_lengths = [len(s) for s in target_seqs]\n",
    "    target_padded = [pad_seq(s, max(target_lengths)) for s in target_seqs]\n",
    "\n",
    "    # Turn padded arrays into (batch_size x max_len) tensors, transpose into (max_len x batch_size)\n",
    "    input_var = Variable(torch.LongTensor(input_padded)).transpose(0, 1).to(device)\n",
    "    target_var = Variable(torch.LongTensor(target_padded)).transpose(0, 1).to(device)\n",
    "        \n",
    "    return input_var, input_lengths, target_var, target_lengths"
   ]
  },
  {
   "cell_type": "code",
   "execution_count": 325,
   "metadata": {},
   "outputs": [],
   "source": [
    "def sequence_mask(sequence_length, max_len=None):\n",
    "    if max_len is None:\n",
    "        max_len = sequence_length.data.max()\n",
    "    batch_size = sequence_length.size(0)\n",
    "    seq_range = torch.arange(0, max_len).long() #note arange is [) unlike torch.range which is []\n",
    "    seq_range_expand = seq_range.unsqueeze(0).expand(batch_size, max_len)\n",
    "    seq_range_expand = Variable(seq_range_expand)\n",
    "    if sequence_length.is_cuda:\n",
    "        seq_range_expand = seq_range_expand.cuda()\n",
    "    seq_length_expand = (sequence_length.unsqueeze(1)\n",
    "                         .expand_as(seq_range_expand))\n",
    "    return seq_range_expand < seq_length_expand\n",
    "\n",
    "\n",
    "def masked_cross_entropy(logits, target, length):\n",
    "    length = Variable(torch.LongTensor(length))\n",
    "\n",
    "    \"\"\"\n",
    "    Args:\n",
    "        logits: A Variable containing a FloatTensor of size\n",
    "            (batch, max_len, num_classes) which contains the\n",
    "            unnormalized probability for each class.\n",
    "        target: A Variable containing a LongTensor of size\n",
    "            (batch, max_len) which contains the index of the true\n",
    "            class for each corresponding step.\n",
    "        length: A Variable containing a LongTensor of size (batch,)\n",
    "            which contains the length of each data in a batch.\n",
    "    Returns:\n",
    "        loss: An average loss value masked by the length.\n",
    "    \"\"\"\n",
    "\n",
    "    # logits_flat: (batch * max_len, num_classes)\n",
    "    logits_flat = logits.view(-1, logits.size(-1))\n",
    "    # log_probs_flat: (batch * max_len, num_classes)\n",
    "    log_probs_flat = F.log_softmax(logits_flat)\n",
    "    # target_flat: (batch * max_len, 1)\n",
    "    target_flat = target.view(-1, 1)\n",
    "    # losses_flat: (batch * max_len, 1)\n",
    "    losses_flat = -torch.gather(log_probs_flat, dim=1, index=target_flat)\n",
    "    # losses: (batch, max_len)\n",
    "    losses = losses_flat.view(*target.size())\n",
    "    # mask: (batch, max_len)\n",
    "    mask = sequence_mask(sequence_length=length, max_len=target.size(1))\n",
    "    losses = losses * mask.float()\n",
    "    loss = losses.sum() / length.float().sum()\n",
    "    return loss"
   ]
  },
  {
   "cell_type": "markdown",
   "metadata": {},
   "source": [
    "## Testing the model"
   ]
  },
  {
   "cell_type": "code",
   "execution_count": 326,
   "metadata": {},
   "outputs": [
    {
     "name": "stdout",
     "output_type": "stream",
     "text": [
      "input_batches torch.Size([51, 3])\n",
      "target_batches torch.Size([51, 3])\n"
     ]
    }
   ],
   "source": [
    "small_batch_size = 3\n",
    "input_batches, input_lengths, target_batches, target_lengths = random_batch(small_batch_size, pairs)\n",
    "\n",
    "print('input_batches', input_batches.size()) # (max_len x batch_size)\n",
    "print('target_batches', target_batches.size()) # (max_len x batch_size)"
   ]
  },
  {
   "cell_type": "code",
   "execution_count": 327,
   "metadata": {},
   "outputs": [],
   "source": [
    "small_hidden_size = 8\n",
    "small_n_layers = 1\n",
    "small_latent_int_size = 10\n",
    "small_lat_size = 5\n",
    "\n",
    "encoder_test = EncoderRNN(input_lang.n_chars, small_hidden_size, small_n_layers).to(device)\n",
    "vae_test = VAE(small_hidden_size,small_latent_int_size, small_lat_size).to(device)\n",
    "decoder_test = DecoderRNN(small_hidden_size, output_lang.n_chars, small_n_layers).to(device)\n",
    "\n"
   ]
  },
  {
   "cell_type": "code",
   "execution_count": 328,
   "metadata": {
    "scrolled": false
   },
   "outputs": [
    {
     "name": "stdout",
     "output_type": "stream",
     "text": [
      "encoder_outputs torch.Size([51, 3, 8])\n",
      "encoder_hidden torch.Size([2, 3, 8])\n"
     ]
    }
   ],
   "source": [
    "encoder_outputs, encoder_hidden = encoder_test(input_batches, input_lengths, None)\n",
    "\n",
    "print('encoder_outputs', encoder_outputs.size()) # max_len x batch_size x hidden_size\n",
    "print('encoder_hidden', encoder_hidden.size()) # n_layers * 2 x batch_size x hidden_size"
   ]
  },
  {
   "cell_type": "code",
   "execution_count": 329,
   "metadata": {},
   "outputs": [
    {
     "data": {
      "text/plain": [
       "torch.Size([1, 3, 8])"
      ]
     },
     "execution_count": 329,
     "metadata": {},
     "output_type": "execute_result"
    }
   ],
   "source": [
    "encoder_hidden[:decoder_test.n_layers].shape"
   ]
  },
  {
   "cell_type": "code",
   "execution_count": 330,
   "metadata": {},
   "outputs": [
    {
     "name": "stdout",
     "output_type": "stream",
     "text": [
      "new_hidden size torch.Size([1, 3, 8])\n",
      "mu_shape torch.Size([1, 3, 5])\n"
     ]
    }
   ],
   "source": [
    "new_hidden, mu, logvar = vae_test(encoder_hidden[:decoder_test.n_layers])\n",
    "\n",
    "print('new_hidden size', new_hidden.size())\n",
    "print('mu_shape', mu.shape)"
   ]
  },
  {
   "cell_type": "code",
   "execution_count": 331,
   "metadata": {
    "scrolled": false
   },
   "outputs": [
    {
     "name": "stdout",
     "output_type": "stream",
     "text": [
      "loss 3.4489800930023193\n"
     ]
    },
    {
     "name": "stderr",
     "output_type": "stream",
     "text": [
      "/home/julian/anaconda3/lib/python3.7/site-packages/ipykernel_launcher.py:35: UserWarning: Implicit dimension choice for log_softmax has been deprecated. Change the call to include dim=X as an argument.\n"
     ]
    }
   ],
   "source": [
    "max_target_length = max(target_lengths)\n",
    "\n",
    "# Prepare decoder input and outputs\n",
    "decoder_input = Variable(torch.LongTensor([SOS_token] * small_batch_size)).to(device)\n",
    "decoder_hidden = encoder_hidden[:decoder_test.n_layers] # Use last (forward) hidden state from encoder\n",
    "all_decoder_outputs = Variable(torch.zeros(max_target_length, small_batch_size, decoder_test.output_size)).to(device)\n",
    "\n",
    "# Run through decoder one time step at a time\n",
    "for t in range(max_target_length):\n",
    "    decoder_output, decoder_hidden = decoder_test(decoder_input, decoder_hidden)\n",
    "    all_decoder_outputs[t] = decoder_output # Store this step's outputs\n",
    "    decoder_input = target_batches[t] # Next input is current target\n",
    "\n",
    "# Test masked cross entropy loss\n",
    "\n",
    "loss = masked_cross_entropy(all_decoder_outputs.transpose(0, 1).contiguous(),\n",
    "                            target_batches.transpose(0, 1).contiguous(),\n",
    "                           target_lengths)\n",
    "print('loss', loss.item())"
   ]
  },
  {
   "cell_type": "code",
   "execution_count": 332,
   "metadata": {},
   "outputs": [
    {
     "data": {
      "text/plain": [
       "tensor([51, 46, 44])"
      ]
     },
     "execution_count": 332,
     "metadata": {},
     "output_type": "execute_result"
    }
   ],
   "source": [
    "Variable(torch.LongTensor(target_lengths))"
   ]
  },
  {
   "cell_type": "markdown",
   "metadata": {},
   "source": [
    "## Evaluation code"
   ]
  },
  {
   "cell_type": "code",
   "execution_count": 403,
   "metadata": {},
   "outputs": [],
   "source": [
    "def validation_loss(input_batches, input_lengths, target_batches, target_lengths,\\\n",
    "          encoder,vae, decoder, max_length=MAX_LENGTH):\n",
    "    \n",
    "    with torch.no_grad():\n",
    "        val_loss = 0 # Added onto for each word\n",
    "        # Run words through encoder\n",
    "        encoder_outputs, encoder_hidden = encoder(input_batches, input_lengths, None)\n",
    "        \n",
    "        # run hidden vector through vae, also get the mu and logvar\n",
    "        new_hidden, mu, logvar = vae(encoder_hidden[:decoder.n_layers])\n",
    "\n",
    "        # Prepare input and output variables\n",
    "        decoder_input = Variable(torch.LongTensor([SOS_token] * batch_size)).to(device)\n",
    "        decoder_hidden = new_hidden\n",
    "        # Use last (forward) hidden state from encoder\n",
    "\n",
    "        max_target_length = max(target_lengths)\n",
    "        all_decoder_outputs = Variable(torch.zeros(max_target_length, batch_size, decoder.output_size)).to(device)\n",
    "\n",
    "\n",
    "\n",
    "        # Run through decoder one time step at a time\n",
    "        for t in range(max_target_length):\n",
    "            decoder_output, decoder_hidden = decoder(decoder_input, decoder_hidden)\n",
    "            all_decoder_outputs[t] = decoder_output\n",
    "            decoder_input = target_batches[t] # Next input is current target (this is teacher forcing?)\n",
    "\n",
    "        # Loss calculation and backpropagation\n",
    "        recon_loss = masked_cross_entropy(\n",
    "            all_decoder_outputs.transpose(0, 1).contiguous(), # -> batch x seq\n",
    "            target_batches.transpose(0, 1).contiguous(), # -> batch x seq\n",
    "            target_lengths\n",
    "        )\n",
    "\n",
    "        #apparently this is the analytical solution for KL divergence of gaussians\n",
    "        kl_loss = -0.5 * torch.sum(1 + logvar - mu.pow(2) - logvar.exp())\n",
    "\n",
    "        loss = recon_loss + 0.0001*kl_loss\n",
    "        #print(\"recon loss: \", recon_loss, \"and kl loss:\", kl_loss)\n",
    "        return loss.item()\n"
   ]
  },
  {
   "cell_type": "code",
   "execution_count": 404,
   "metadata": {},
   "outputs": [],
   "source": [
    "def evaluate(encoder,vae,decoder,input_seq, max_length=MAX_LENGTH):\n",
    "    input_lengths = [len(input_seq)]\n",
    "    input_seqs = [indexesFromSmiles(input_lang, input_seq)]\n",
    "    input_batches = Variable(torch.LongTensor(input_seqs)).transpose(0, 1).to(device)\n",
    "        \n",
    "    # Set to not-training mode to disable dropout\n",
    "    encoder.train(False)\n",
    "    decoder.train(False)\n",
    "    \n",
    "    # Run through encoder\n",
    "    encoder_outputs, encoder_hidden = encoder(input_batches, input_lengths, None)\n",
    "    \n",
    "    #run through vae\n",
    "    new_hidden, mu, logvar = vae(encoder_hidden[:decoder.n_layers])\n",
    "\n",
    "    # Create starting vectors for decoder\n",
    "    decoder_input = Variable(torch.LongTensor([SOS_token])).to(device) # SOS\n",
    "    decoder_hidden = new_hidden\n",
    "    # Use last (forward) hidden state from encoder\n",
    "\n",
    "    # Store output words and attention states\n",
    "    decoded_chars = []\n",
    "    \n",
    "    # Run through decoder\n",
    "    for di in range(max_length):\n",
    "        decoder_output, decoder_hidden= decoder(decoder_input, decoder_hidden)\n",
    "\n",
    "        # Choose top word from output\n",
    "        topv, topi = decoder_output.data.topk(1)\n",
    "        ni = topi[0][0].item()\n",
    "        #print(\"ni\",ni)\n",
    "        if ni == EOS_token:\n",
    "            #decoded_chars.append('<EOS>') there's no point adding it, just screws up rdkit\n",
    "            break\n",
    "        else:\n",
    "            decoded_chars.append(output_lang.index2char[ni])\n",
    "            \n",
    "        # Next input is chosen word\n",
    "        decoder_input = Variable(torch.LongTensor([ni])).to(device)\n",
    "        \n",
    "\n",
    "    # Set back to training mode\n",
    "    encoder.train(True)\n",
    "    decoder.train(True)\n",
    "    \n",
    "    return ''.join(decoded_chars)"
   ]
  },
  {
   "cell_type": "code",
   "execution_count": 405,
   "metadata": {},
   "outputs": [
    {
     "name": "stdout",
     "output_type": "stream",
     "text": [
      "original smiles CC[C@@H](CNC(=O)[C@@H]1CC(=O)NC(=O)N1)NC(=O)c1ccco1\n",
      "actual canonical SMILES CC[C@@H](CNC(=O)[C@@H]1CC(=O)NC(=O)N1)NC(=O)c1ccco1\n",
      "predicted canonical SMILES FFCFCCFC)11C11C11C11C11C11C11C11C11C11C11C11C11C11C11C11C11C11C\n",
      "\n",
      "original smiles CC[C@H](CNC(=O)c1cc(F)c[nH]1)NC(=O)c1cc2c([nH]1)CCC2\n",
      "actual canonical SMILES CC[C@H](CNC(=O)c1cc(F)c[nH]1)NC(=O)c1cc2c([nH]1)CCC2\n",
      "predicted canonical SMILES FFCFCCFC)11C11C11C11C11C11C11C11C11C11C11C11C11C11C11C11C11C11C\n",
      "\n",
      "original smiles C[C@H]1C[C@@H](C(=O)NC2(c3cccc(Br)c3)CCC2)CC(=O)N1\n",
      "actual canonical SMILES C[C@H]1C[C@@H](C(=O)NC2(c3cccc(Br)c3)CCC2)CC(=O)N1\n",
      "predicted canonical SMILES FFCFCCFC)11C11C11C11C11C11C11C11C11C11C11C11C11C11C11C11C11C11C\n",
      "\n",
      "original smiles Cc1cccc(C2(NC(=O)c3cc(=O)n4[nH]cnc4n3)CCCC2)c1\n",
      "actual canonical SMILES Cc1cccc(C2(NC(=O)c3cc(=O)n4[nH]cnc4n3)CCCC2)c1\n",
      "predicted canonical SMILES FFCFCCFC)11C11C11C11C11C11C11C11C11C11C11C11C11C11C11C11C11C11C\n",
      "\n",
      "original smiles Nc1nc2nc(CN[C@@H]([C@H]3CCOC3)C(F)(F)F)cc(=O)n2[nH]1\n",
      "actual canonical SMILES Nc1nc2nc(CN[C@@H]([C@H]3CCOC3)C(F)(F)F)cc(=O)n2[nH]1\n",
      "predicted canonical SMILES FFCFCCFC)11C11C11C11C11C11C11C11C11C11C11C11C11C11C11C11C11C11C\n",
      "\n"
     ]
    },
    {
     "name": "stderr",
     "output_type": "stream",
     "text": [
      "RDKit ERROR: [03:53:40] SMILES Parse Error: extra close parentheses while parsing: FFCFCCFC)11C11C11C11C11C11C11C11C11C11C11C11C11C11C11C11C11C11C\n",
      "RDKit ERROR: [03:53:40] SMILES Parse Error: Failed parsing SMILES 'FFCFCCFC)11C11C11C11C11C11C11C11C11C11C11C11C11C11C11C11C11C11C' for input: 'FFCFCCFC)11C11C11C11C11C11C11C11C11C11C11C11C11C11C11C11C11C11C'\n",
      "RDKit ERROR: [03:53:40] SMILES Parse Error: extra close parentheses while parsing: FFCFCCFC)11C11C11C11C11C11C11C11C11C11C11C11C11C11C11C11C11C11C\n",
      "RDKit ERROR: [03:53:40] SMILES Parse Error: Failed parsing SMILES 'FFCFCCFC)11C11C11C11C11C11C11C11C11C11C11C11C11C11C11C11C11C11C' for input: 'FFCFCCFC)11C11C11C11C11C11C11C11C11C11C11C11C11C11C11C11C11C11C'\n",
      "RDKit ERROR: [03:53:40] SMILES Parse Error: extra close parentheses while parsing: FFCFCCFC)11C11C11C11C11C11C11C11C11C11C11C11C11C11C11C11C11C11C\n",
      "RDKit ERROR: [03:53:40] SMILES Parse Error: Failed parsing SMILES 'FFCFCCFC)11C11C11C11C11C11C11C11C11C11C11C11C11C11C11C11C11C11C' for input: 'FFCFCCFC)11C11C11C11C11C11C11C11C11C11C11C11C11C11C11C11C11C11C'\n",
      "RDKit ERROR: [03:53:40] SMILES Parse Error: extra close parentheses while parsing: FFCFCCFC)11C11C11C11C11C11C11C11C11C11C11C11C11C11C11C11C11C11C\n",
      "RDKit ERROR: [03:53:40] SMILES Parse Error: Failed parsing SMILES 'FFCFCCFC)11C11C11C11C11C11C11C11C11C11C11C11C11C11C11C11C11C11C' for input: 'FFCFCCFC)11C11C11C11C11C11C11C11C11C11C11C11C11C11C11C11C11C11C'\n",
      "RDKit ERROR: [03:53:40] SMILES Parse Error: extra close parentheses while parsing: FFCFCCFC)11C11C11C11C11C11C11C11C11C11C11C11C11C11C11C11C11C11C\n",
      "RDKit ERROR: [03:53:40] SMILES Parse Error: Failed parsing SMILES 'FFCFCCFC)11C11C11C11C11C11C11C11C11C11C11C11C11C11C11C11C11C11C' for input: 'FFCFCCFC)11C11C11C11C11C11C11C11C11C11C11C11C11C11C11C11C11C11C'\n",
      "RDKit ERROR: [03:53:40] SMILES Parse Error: extra close parentheses while parsing: FFCFCCFC)11C11C11C11C11C11C11C11C11C11C11C11C11C11C11C11C11C11C\n",
      "RDKit ERROR: [03:53:40] SMILES Parse Error: Failed parsing SMILES 'FFCFCCFC)11C11C11C11C11C11C11C11C11C11C11C11C11C11C11C11C11C11C' for input: 'FFCFCCFC)11C11C11C11C11C11C11C11C11C11C11C11C11C11C11C11C11C11C'\n",
      "RDKit ERROR: [03:53:40] SMILES Parse Error: extra close parentheses while parsing: FFCFCCFC)11C11C11C11C11C11C11C11C11C11C11C11C11C11C11C11C11C11C\n",
      "RDKit ERROR: [03:53:40] SMILES Parse Error: Failed parsing SMILES 'FFCFCCFC)11C11C11C11C11C11C11C11C11C11C11C11C11C11C11C11C11C11C' for input: 'FFCFCCFC)11C11C11C11C11C11C11C11C11C11C11C11C11C11C11C11C11C11C'\n",
      "RDKit ERROR: [03:53:41] SMILES Parse Error: extra close parentheses while parsing: FFCFCCFC)11C11C11C11C11C11C11C11C11C11C11C11C11C11C11C11C11C11C\n",
      "RDKit ERROR: [03:53:41] SMILES Parse Error: Failed parsing SMILES 'FFCFCCFC)11C11C11C11C11C11C11C11C11C11C11C11C11C11C11C11C11C11C' for input: 'FFCFCCFC)11C11C11C11C11C11C11C11C11C11C11C11C11C11C11C11C11C11C'\n",
      "RDKit ERROR: [03:53:41] SMILES Parse Error: extra close parentheses while parsing: FFCFCCFC)11C11C11C11C11C11C11C11C11C11C11C11C11C11C11C11C11C11C\n",
      "RDKit ERROR: [03:53:41] SMILES Parse Error: Failed parsing SMILES 'FFCFCCFC)11C11C11C11C11C11C11C11C11C11C11C11C11C11C11C11C11C11C' for input: 'FFCFCCFC)11C11C11C11C11C11C11C11C11C11C11C11C11C11C11C11C11C11C'\n",
      "RDKit ERROR: [03:53:41] SMILES Parse Error: extra close parentheses while parsing: FFCFCCFC)11C11C11C11C11C11C11C11C11C11C11C11C11C11C11C11C11C11C\n",
      "RDKit ERROR: [03:53:41] SMILES Parse Error: Failed parsing SMILES 'FFCFCCFC)11C11C11C11C11C11C11C11C11C11C11C11C11C11C11C11C11C11C' for input: 'FFCFCCFC)11C11C11C11C11C11C11C11C11C11C11C11C11C11C11C11C11C11C'\n",
      "RDKit ERROR: [03:53:41] SMILES Parse Error: extra close parentheses while parsing: FFCFCCFC)11C11C11C11C11C11C11C11C11C11C11C11C11C11C11C11C11C11C\n",
      "RDKit ERROR: [03:53:41] SMILES Parse Error: Failed parsing SMILES 'FFCFCCFC)11C11C11C11C11C11C11C11C11C11C11C11C11C11C11C11C11C11C' for input: 'FFCFCCFC)11C11C11C11C11C11C11C11C11C11C11C11C11C11C11C11C11C11C'\n",
      "RDKit ERROR: [03:53:41] SMILES Parse Error: extra close parentheses while parsing: FFCFCCFC)11C11C11C11C11C11C11C11C11C11C11C11C11C11C11C11C11C11C\n",
      "RDKit ERROR: [03:53:41] SMILES Parse Error: Failed parsing SMILES 'FFCFCCFC)11C11C11C11C11C11C11C11C11C11C11C11C11C11C11C11C11C11C' for input: 'FFCFCCFC)11C11C11C11C11C11C11C11C11C11C11C11C11C11C11C11C11C11C'\n",
      "RDKit ERROR: [03:53:41] SMILES Parse Error: extra close parentheses while parsing: FFCFCCFC)11C11C11C11C11C11C11C11C11C11C11C11C11C11C11C11C11C11C\n",
      "RDKit ERROR: [03:53:41] SMILES Parse Error: Failed parsing SMILES 'FFCFCCFC)11C11C11C11C11C11C11C11C11C11C11C11C11C11C11C11C11C11C' for input: 'FFCFCCFC)11C11C11C11C11C11C11C11C11C11C11C11C11C11C11C11C11C11C'\n",
      "RDKit ERROR: [03:53:41] SMILES Parse Error: extra close parentheses while parsing: FFCFCCFC)11C11C11C11C11C11C11C11C11C11C11C11C11C11C11C11C11C11C\n",
      "RDKit ERROR: [03:53:41] SMILES Parse Error: Failed parsing SMILES 'FFCFCCFC)11C11C11C11C11C11C11C11C11C11C11C11C11C11C11C11C11C11C' for input: 'FFCFCCFC)11C11C11C11C11C11C11C11C11C11C11C11C11C11C11C11C11C11C'\n",
      "RDKit ERROR: [03:53:41] SMILES Parse Error: extra close parentheses while parsing: FFCFCCFC)11C11C11C11C11C11C11C11C11C11C11C11C11C11C11C11C11C11C\n",
      "RDKit ERROR: [03:53:41] SMILES Parse Error: Failed parsing SMILES 'FFCFCCFC)11C11C11C11C11C11C11C11C11C11C11C11C11C11C11C11C11C11C' for input: 'FFCFCCFC)11C11C11C11C11C11C11C11C11C11C11C11C11C11C11C11C11C11C'\n",
      "RDKit ERROR: [03:53:41] SMILES Parse Error: extra close parentheses while parsing: FFCFCCFC)11C11C11C11C11C11C11C11C11C11C11C11C11C11C11C11C11C11C\n",
      "RDKit ERROR: [03:53:41] SMILES Parse Error: Failed parsing SMILES 'FFCFCCFC)11C11C11C11C11C11C11C11C11C11C11C11C11C11C11C11C11C11C' for input: 'FFCFCCFC)11C11C11C11C11C11C11C11C11C11C11C11C11C11C11C11C11C11C'\n",
      "RDKit ERROR: [03:53:41] SMILES Parse Error: extra close parentheses while parsing: FFCFCCFC)11C11C11C11C11C11C11C11C11C11C11C11C11C11C11C11C11C11C\n",
      "RDKit ERROR: [03:53:41] SMILES Parse Error: Failed parsing SMILES 'FFCFCCFC)11C11C11C11C11C11C11C11C11C11C11C11C11C11C11C11C11C11C' for input: 'FFCFCCFC)11C11C11C11C11C11C11C11C11C11C11C11C11C11C11C11C11C11C'\n",
      "RDKit ERROR: [03:53:42] SMILES Parse Error: extra close parentheses while parsing: FFCFCCFC)11C11C11C11C11C11C11C11C11C11C11C11C11C11C11C11C11C11C\n",
      "RDKit ERROR: [03:53:42] SMILES Parse Error: Failed parsing SMILES 'FFCFCCFC)11C11C11C11C11C11C11C11C11C11C11C11C11C11C11C11C11C11C' for input: 'FFCFCCFC)11C11C11C11C11C11C11C11C11C11C11C11C11C11C11C11C11C11C'\n",
      "RDKit ERROR: [03:53:42] SMILES Parse Error: extra close parentheses while parsing: FFCFCCFC)11C11C11C11C11C11C11C11C11C11C11C11C11C11C11C11C11C11C\n",
      "RDKit ERROR: [03:53:42] SMILES Parse Error: Failed parsing SMILES 'FFCFCCFC)11C11C11C11C11C11C11C11C11C11C11C11C11C11C11C11C11C11C' for input: 'FFCFCCFC)11C11C11C11C11C11C11C11C11C11C11C11C11C11C11C11C11C11C'\n"
     ]
    },
    {
     "name": "stdout",
     "output_type": "stream",
     "text": [
      "Fraction of valid SMILES is:  0.0\n"
     ]
    },
    {
     "name": "stderr",
     "output_type": "stream",
     "text": [
      "RDKit ERROR: [03:53:42] SMILES Parse Error: extra close parentheses while parsing: FFCFCCFC)11C11C11C11C11C11C11C11C11C11C11C11C11C11C11C11C11C11C\n",
      "RDKit ERROR: [03:53:42] SMILES Parse Error: Failed parsing SMILES 'FFCFCCFC)11C11C11C11C11C11C11C11C11C11C11C11C11C11C11C11C11C11C' for input: 'FFCFCCFC)11C11C11C11C11C11C11C11C11C11C11C11C11C11C11C11C11C11C'\n"
     ]
    }
   ],
   "source": [
    "def evaluateRandomly(encoder,vae, decoder, n=5):\n",
    "    for i in range(n):\n",
    "        pair = random.choice(pairs)\n",
    "        print('original smiles', pair[0])\n",
    "        print('actual canonical SMILES', pair[1])\n",
    "        output_smiles = evaluate(encoder,vae, decoder, pair[0])\n",
    "        print('predicted canonical SMILES', output_smiles)\n",
    "        print('')\n",
    "        \n",
    "evaluateRandomly(encoder_test,vae_test,decoder_test)        \n",
    "evaluate(encoder_test,vae_test,decoder_test,'CCCO')\n",
    "\n",
    "def quality(encoder,vae,decoder, n=20):\n",
    "    valids = 0\n",
    "    for i in range(n):\n",
    "        pair = random.choice(pairs)\n",
    "        output_smiles = evaluate(encoder,vae, decoder, pair[0])\n",
    "        if validSMILES(output_smiles):\n",
    "            valids +=1\n",
    "            print('predicted canonical SMILES', output_smiles, 'n: ',i)\n",
    "    print(\"Fraction of valid SMILES is: \",valids/n)\n",
    "        \n",
    "quality(encoder_test,vae_test, decoder_test)\n",
    "\n"
   ]
  },
  {
   "cell_type": "code",
   "execution_count": 406,
   "metadata": {},
   "outputs": [
    {
     "data": {
      "text/plain": [
       "{0: 'PAD',\n",
       " 1: 'SOS',\n",
       " 2: 'EOS',\n",
       " 3: 'C',\n",
       " 4: '[',\n",
       " 5: '@',\n",
       " 6: 'H',\n",
       " 7: ']',\n",
       " 8: '1',\n",
       " 9: '(',\n",
       " 10: '=',\n",
       " 11: 'O',\n",
       " 12: ')',\n",
       " 13: 'N',\n",
       " 14: 'c',\n",
       " 15: '2',\n",
       " 16: 'n',\n",
       " 17: '-',\n",
       " 18: 'F',\n",
       " 19: '3',\n",
       " 20: 'l',\n",
       " 21: 'B',\n",
       " 22: 'r',\n",
       " 23: '4',\n",
       " 24: 'o',\n",
       " 25: 'S',\n",
       " 26: 's',\n",
       " 27: '/',\n",
       " 28: '#',\n",
       " 29: '\\\\'}"
      ]
     },
     "execution_count": 406,
     "metadata": {},
     "output_type": "execute_result"
    }
   ],
   "source": [
    "output_lang.index2char"
   ]
  },
  {
   "cell_type": "markdown",
   "metadata": {},
   "source": [
    "## Training code"
   ]
  },
  {
   "cell_type": "code",
   "execution_count": 407,
   "metadata": {},
   "outputs": [],
   "source": [
    "def train(input_batches, input_lengths, target_batches, target_lengths,\\\n",
    "          encoder,vae, decoder, encoder_optimizer,vae_optimizer, decoder_optimizer,\\\n",
    "          max_length=MAX_LENGTH):\n",
    "    \n",
    "    # Zero gradients of both optimizers\n",
    "    encoder_optimizer.zero_grad()\n",
    "    vae_optimizer.zero_grad()\n",
    "    decoder_optimizer.zero_grad()\n",
    "    loss = 0 # Added onto for each word\n",
    "\n",
    "    # Run words through encoder\n",
    "    encoder_outputs, encoder_hidden = encoder(input_batches, input_lengths, None)\n",
    "    \n",
    "    # run hidden vector through vae, also get the mu and logvar\n",
    "    new_hidden, mu, logvar = vae(encoder_hidden[:decoder.n_layers])\n",
    "    \n",
    "    # Prepare input and output variables\n",
    "    decoder_input = Variable(torch.LongTensor([SOS_token] * batch_size)).to(device)\n",
    "    decoder_hidden = new_hidden\n",
    "    # Use last (forward) hidden state from encoder\n",
    "\n",
    "    max_target_length = max(target_lengths)\n",
    "    all_decoder_outputs = Variable(torch.zeros(max_target_length, batch_size, decoder.output_size)).to(device)\n",
    "\n",
    "    # Run through decoder one time step at a time\n",
    "    for t in range(max_target_length):\n",
    "        decoder_output, decoder_hidden = decoder(decoder_input, decoder_hidden)\n",
    "        all_decoder_outputs[t] = decoder_output\n",
    "        decoder_input = target_batches[t] # Next input is current target (this is teacher forcing?)\n",
    "\n",
    "    # Loss calculation and backpropagation\n",
    "    recon_loss = masked_cross_entropy(\n",
    "        all_decoder_outputs.transpose(0, 1).contiguous(), # -> batch x seq\n",
    "        target_batches.transpose(0, 1).contiguous(), # -> batch x seq\n",
    "        target_lengths\n",
    "    )\n",
    "    \n",
    "    #apparently this is the analytical solution for KL divergence of gaussians\n",
    "    kl_loss = -0.5 * torch.sum(1 + logvar - mu.pow(2) - logvar.exp())\n",
    "    \n",
    "    loss = recon_loss + 0.00005*kl_loss #had to reduce the weight give to the KL #divded by 2\n",
    "    #to prevent it from making every single molecule the same\n",
    "    loss.backward()\n",
    "    \n",
    "    # Clip gradient norms\n",
    "    ec = torch.nn.utils.clip_grad_norm_(encoder.parameters(), clip)\n",
    "    vc = torch.nn.utils.clip_grad_norm_(vae.parameters(), clip)\n",
    "    dc = torch.nn.utils.clip_grad_norm_(decoder.parameters(), clip)\n",
    "    \n",
    "    \n",
    "    # Update parameters with optimizers\n",
    "    encoder_optimizer.step()\n",
    "    vae_optimizer.step()\n",
    "    decoder_optimizer.step()\n",
    "    #print(\"recon loss: \", recon_loss, \"and kl loss:\", kl_loss)\n",
    "    return loss.item()\n"
   ]
  },
  {
   "cell_type": "code",
   "execution_count": 408,
   "metadata": {},
   "outputs": [],
   "source": [
    "import time\n",
    "import math\n",
    "\n",
    "\n",
    "def asMinutes(s):\n",
    "    m = math.floor(s / 60)\n",
    "    s -= m * 60\n",
    "    return '%dm %ds' % (m, s)\n",
    "\n",
    "\n",
    "def timeSince(since, percent):\n",
    "    now = time.time()\n",
    "    s = now - since\n",
    "    es = s / (percent)\n",
    "    rs = es - s\n",
    "    return '%s (- %s)' % (asMinutes(s), asMinutes(rs))"
   ]
  },
  {
   "cell_type": "code",
   "execution_count": 409,
   "metadata": {},
   "outputs": [],
   "source": [
    "import matplotlib.pyplot as plt\n",
    "%matplotlib inline\n",
    "#plt.switch_backend('agg')\n",
    "import matplotlib.ticker as ticker\n",
    "import numpy as np\n",
    "\n",
    "\n",
    "def showPlot(points):\n",
    "    plt.figure()\n",
    "    fig, ax = plt.subplots()\n",
    "    # this locator puts ticks at regular intervals\n",
    "    loc = ticker.MultipleLocator(base=0.2)\n",
    "    ax.yaxis.set_major_locator(loc)\n",
    "    plt.plot(points)"
   ]
  },
  {
   "cell_type": "markdown",
   "metadata": {},
   "source": [
    "# Actual training"
   ]
  },
  {
   "cell_type": "markdown",
   "metadata": {},
   "source": [
    "## Loading a saved model"
   ]
  },
  {
   "cell_type": "code",
   "execution_count": 575,
   "metadata": {},
   "outputs": [
    {
     "name": "stdout",
     "output_type": "stream",
     "text": [
      "=== Encoder was loaded from SMILESencoder300.pt\n",
      "=== Encoder was loaded from SMILESvae300.pt\n",
      "=== Decoder was loaded from SMILESdecoder300.pt\n"
     ]
    }
   ],
   "source": [
    "# Configure models\n",
    "hidden_size = 300\n",
    "lat_int_size = 300\n",
    "lat_size = 300\n",
    "n_layers = 1\n",
    "\n",
    "encoder = EncoderRNN(input_lang.n_chars, hidden_size, n_layers=1).to(device)\n",
    "vae = VAE(hidden_size, lat_int_size, lat_size).to(device)\n",
    "decoder = DecoderRNN(hidden_size, output_lang.n_chars, n_layers=1).to(device)\n",
    "\n",
    "from pathlib import Path\n",
    "savedencoderfile = \"SMILESencoder300.pt\"\n",
    "savedvaefile = \"SMILESvae300.pt\"\n",
    "saveddecoderfile = \"SMILESdecoder300.pt\"\n",
    "if Path(savedencoderfile).is_file():\n",
    "    # file exists\n",
    "    encoder.load_state_dict(torch.load(savedencoderfile))\n",
    "    #model.eval() wtf is this\n",
    "    print(\"=== Encoder was loaded from \" + savedencoderfile)\n",
    "    \n",
    "if Path(savedvaefile).is_file():\n",
    "    # file exists\n",
    "    vae.load_state_dict(torch.load(savedvaefile))\n",
    "    #model.eval() wtf is this\n",
    "    print(\"=== Encoder was loaded from \" + savedvaefile)\n",
    "    \n",
    "if Path(saveddecoderfile).is_file():\n",
    "    # file exists\n",
    "    decoder.load_state_dict(torch.load(saveddecoderfile))\n",
    "    #model.eval() wtf is this\n",
    "    print(\"=== Decoder was loaded from \" + saveddecoderfile)\n",
    "\n",
    "    "
   ]
  },
  {
   "cell_type": "code",
   "execution_count": 576,
   "metadata": {},
   "outputs": [
    {
     "data": {
      "text/plain": [
       "'CC(=NNC(N)=S)c1cccs1'"
      ]
     },
     "execution_count": 576,
     "metadata": {},
     "output_type": "execute_result"
    }
   ],
   "source": [
    "evaluate(encoder,vae, decoder, 'CCCOC')"
   ]
  },
  {
   "cell_type": "code",
   "execution_count": 590,
   "metadata": {
    "scrolled": true
   },
   "outputs": [],
   "source": [
    "# Configure training/optimization\n",
    "clip = 50.0\n",
    "teacher_forcing_ratio = 0.5\n",
    "learning_rate = 0.001\n",
    "decoder_learning_ratio = 5.0\n",
    "\n",
    "\n",
    "plot_every = 20\n",
    "print_every = 20\n",
    "n_epochs = 100\n",
    "\n",
    "batch_size = 50\n",
    "\n",
    "# Initialize optimizers and criterion\n",
    "encoder_optimizer = optim.Adam(encoder.parameters(), lr=learning_rate)\n",
    "vae_optimizer = optim.Adam(vae.parameters(), lr=learning_rate)\n",
    "decoder_optimizer = optim.Adam(decoder.parameters(), lr=learning_rate * decoder_learning_ratio)"
   ]
  },
  {
   "cell_type": "markdown",
   "metadata": {},
   "source": [
    "use different datasets to train on"
   ]
  },
  {
   "cell_type": "code",
   "execution_count": 591,
   "metadata": {
    "scrolled": true
   },
   "outputs": [
    {
     "name": "stderr",
     "output_type": "stream",
     "text": [
      "/home/julian/anaconda3/lib/python3.7/site-packages/ipykernel_launcher.py:35: UserWarning: Implicit dimension choice for log_softmax has been deprecated. Change the call to include dim=X as an argument.\n"
     ]
    },
    {
     "name": "stdout",
     "output_type": "stream",
     "text": [
      "0m 40s (- 2m 40s) (20 20%) 0.7639\n",
      "1m 7s (- 1m 41s) (40 40%) 0.6059\n",
      "1m 36s (- 1m 4s) (60 60%) 0.5473\n",
      "2m 8s (- 0m 32s) (80 80%) 0.4991\n",
      "2m 40s (- 0m 0s) (100 100%) 0.4842\n"
     ]
    }
   ],
   "source": [
    "# Keep track of time elapsed and running averages\n",
    "start = time.time()\n",
    "plot_losses = []\n",
    "test_losses = []\n",
    "print_loss_total = 0 # Reset every print_every\n",
    "plot_loss_total = 0 # Reset every plot_every\n",
    "epoch = 0\n",
    "while epoch < n_epochs:\n",
    "    epoch += 1\n",
    "    \n",
    "    # Get training data for this cycle\n",
    "    input_batches, input_lengths, target_batches, target_lengths = random_batch(batch_size, pairs)\n",
    "    #input_batches, input_lengths, target_batches, target_lengths = random_batch(batch_size, sarspairs)\n",
    "\n",
    "    # Run the train function\n",
    "    loss= train(\n",
    "        input_batches, input_lengths, target_batches, target_lengths,\n",
    "        encoder,vae, decoder,\n",
    "        encoder_optimizer,vae_optimizer, decoder_optimizer\n",
    "    )\n",
    "\n",
    "    # Keep track of loss\n",
    "    print_loss_total += loss\n",
    "    plot_loss_total += loss\n",
    "    \n",
    "    #job.record(epoch, loss)\n",
    "\n",
    "    if epoch % print_every == 0:\n",
    "        print_loss_avg = print_loss_total / print_every\n",
    "        print_loss_total = 0\n",
    "        print_summary = '%s (%d %d%%) %.4f' % (timeSince(start, epoch / n_epochs),\\\n",
    "                                               epoch, epoch / n_epochs * 100, print_loss_avg)\n",
    "        print(print_summary)\n",
    "        \n",
    "    if epoch % plot_every == 0:\n",
    "        plot_loss_avg = plot_loss_total / plot_every\n",
    "        plot_losses.append(plot_loss_avg)\n",
    "        plot_loss_total = 0\n",
    "        input_batches, input_lengths, target_batches, target_lengths = random_batch(batch_size, testpairs)\n",
    "        test_loss = validation_loss(input_batches, input_lengths, target_batches, target_lengths,\\\n",
    "                                    encoder,vae, decoder)\n",
    "        test_losses.append(test_loss)"
   ]
  },
  {
   "cell_type": "code",
   "execution_count": 592,
   "metadata": {},
   "outputs": [
    {
     "name": "stdout",
     "output_type": "stream",
     "text": [
      "original smiles CC(C)[C@@](C)(O)CNC(=O)C(=O)Nc1ccc2c(c1)n(C)c(=O)n2C\n",
      "actual canonical SMILES CC(C)[C@@](C)(O)CNC(=O)C(=O)Nc1ccc2c(c1)n(C)c(=O)n2C\n",
      "predicted canonical SMILES CC(C)CC(=O)N[C@@H]1CCC(F)(F)F\n",
      "\n",
      "original smiles C[C@@]1(CCCC(=O)NCc2cc(=O)cc[nH]2)NC(=O)NC1=O\n",
      "actual canonical SMILES C[C@@]1(CCCC(=O)NCc2cc(=O)cc[nH]2)NC(=O)NC1=O\n",
      "predicted canonical SMILES CC[C@@H]1C[C@@H](C(=O)NC2(c3cccc(C(F)(F)F)c3)CCC2)CCN1\n",
      "\n",
      "original smiles O=C(C[C@@H]1COC(=O)C1)Nc1cc(C2CC2)nn1-c1ccccc1\n",
      "actual canonical SMILES O=C(C[C@@H]1COC(=O)C1)Nc1cc(C2CC2)nn1-c1ccccc1\n",
      "predicted canonical SMILES O=C1C[C@H](C(=O)NC2(c3ccc(Cl)cc3)CCC2)C(=O)N1\n",
      "\n",
      "original smiles CNS(=O)(=O)NCC(=O)NC[C@H](O)c1c(F)cccc1F\n",
      "actual canonical SMILES CNS(=O)(=O)NCC(=O)NC[C@H](O)c1c(F)cccc1F\n",
      "predicted canonical SMILES CN(C)c1ccc(C(F)(F)F)c1\n",
      "\n",
      "original smiles O=C1C[C@H](C(=O)N[C@H]2CCC[C@@H]2c2cccc(C(F)(F)F)c2)CCN1\n",
      "actual canonical SMILES O=C1C[C@H](C(=O)N[C@H]2CCC[C@@H]2c2cccc(C(F)(F)F)c2)CCN1\n",
      "predicted canonical SMILES O=C1C[C@H](C(=O)NC2(c3ccc(Cl)cc3)CCC2)C(=O)N1\n",
      "\n"
     ]
    }
   ],
   "source": [
    "evaluateRandomly(encoder,vae,decoder)"
   ]
  },
  {
   "cell_type": "code",
   "execution_count": 593,
   "metadata": {},
   "outputs": [
    {
     "data": {
      "text/plain": [
       "<Figure size 432x288 with 0 Axes>"
      ]
     },
     "metadata": {},
     "output_type": "display_data"
    },
    {
     "data": {
      "image/png": "[encoded data removed]",
      "text/plain": [
       "<Figure size 432x288 with 1 Axes>"
      ]
     },
     "metadata": {
      "needs_background": "light"
     },
     "output_type": "display_data"
    },
    {
     "data": {
      "text/plain": [
       "<Figure size 432x288 with 0 Axes>"
      ]
     },
     "metadata": {},
     "output_type": "display_data"
    },
    {
     "data": {
      "image/png": "[encoded data removed]",
      "text/plain": [
       "<Figure size 432x288 with 1 Axes>"
      ]
     },
     "metadata": {
      "needs_background": "light"
     },
     "output_type": "display_data"
    }
   ],
   "source": [
    "def show_plot(points):\n",
    "    plt.figure()\n",
    "    fig, ax = plt.subplots()\n",
    "    loc = ticker.MultipleLocator(base=0.2) # put ticks at regular intervals\n",
    "    ax.yaxis.set_major_locator(loc)\n",
    "    plt.plot(points)\n",
    "\n",
    "show_plot(plot_losses)\n",
    "show_plot(test_losses)"
   ]
  },
  {
   "cell_type": "code",
   "execution_count": 594,
   "metadata": {},
   "outputs": [
    {
     "data": {
      "text/plain": [
       "'CC[C@@H](CNC(=O)c1cc(Cl)c[nH]1'"
      ]
     },
     "execution_count": 594,
     "metadata": {},
     "output_type": "execute_result"
    }
   ],
   "source": [
    "evaluate(encoder,vae, decoder, \"CCCO\")"
   ]
  },
  {
   "cell_type": "code",
   "execution_count": 595,
   "metadata": {},
   "outputs": [
    {
     "name": "stderr",
     "output_type": "stream",
     "text": [
      "RDKit ERROR: [19:28:41] SMILES Parse Error: extra open parentheses for input: 'O=C(NC1(c2cccc(F)cc2)CCC1'\n",
      "RDKit ERROR: [19:28:41] SMILES Parse Error: extra close parentheses while parsing: NC(=O)c1cccc(C(F)(F)F)c1)NCc1cc(=O)cc[nH]1\n",
      "RDKit ERROR: [19:28:41] SMILES Parse Error: Failed parsing SMILES 'NC(=O)c1cccc(C(F)(F)F)c1)NCc1cc(=O)cc[nH]1' for input: 'NC(=O)c1cccc(C(F)(F)F)c1)NCc1cc(=O)cc[nH]1'\n",
      "RDKit ERROR: [19:28:41] SMILES Parse Error: extra close parentheses while parsing: O=C(NC1(c2cccccc2)C(F)(F)F)c2)CCC1\n",
      "RDKit ERROR: [19:28:41] SMILES Parse Error: Failed parsing SMILES 'O=C(NC1(c2cccccc2)C(F)(F)F)c2)CCC1' for input: 'O=C(NC1(c2cccccc2)C(F)(F)F)c2)CCC1'\n"
     ]
    },
    {
     "name": "stdout",
     "output_type": "stream",
     "text": [
      "predicted canonical SMILES C[C@@H]1C[C@@H](C(=O)NC2(c3cccc(C(F)(F)F)c3)CCC2)CCN1 n:  3\n",
      "predicted canonical SMILES C[C@@H]1C[C@@H](C(=O)NC2(c3cccc(C(F)(F)F)c3)CCC2)CCN1 n:  4\n"
     ]
    },
    {
     "name": "stderr",
     "output_type": "stream",
     "text": [
      "RDKit ERROR: [19:28:41] SMILES Parse Error: extra open parentheses for input: 'CC[C@@](O)(C(=O)NCc1cc(=O)n2[nH]ccn12'\n",
      "RDKit ERROR: [19:28:42] SMILES Parse Error: unclosed ring for input: 'Cc1ccc(C2(NC(=O)[C@@H]2CCNC(=O)C3)CCCC2)CC(=O)N1'\n"
     ]
    },
    {
     "name": "stdout",
     "output_type": "stream",
     "text": [
      "predicted canonical SMILES O=C1C[C@H](C(=O)NC2(c3ccc(Cl)cc3)CCC2)C(=O)N1 n:  7\n",
      "predicted canonical SMILES CC[C@H]1C[C@@H](C(=O)NC2(c3cccc(C(F)(F)F)c3)CCC2)CCN1 n:  8\n",
      "predicted canonical SMILES CC[C@H]1C[C@@H](C(=O)NC2(c3cccc(C(F)(F)F)c3)CCC2)CCN1 n:  9\n"
     ]
    },
    {
     "name": "stderr",
     "output_type": "stream",
     "text": [
      "RDKit ERROR: [19:28:42] SMILES Parse Error: extra close parentheses while parsing: CSc1cc(-c2cnc(Cl)cc(=O)n3)CCCC2CC2)n1\n",
      "RDKit ERROR: [19:28:42] SMILES Parse Error: Failed parsing SMILES 'CSc1cc(-c2cnc(Cl)cc(=O)n3)CCCC2CC2)n1' for input: 'CSc1cc(-c2cnc(Cl)cc(=O)n3)CCCC2CC2)n1'\n",
      "RDKit ERROR: [19:28:42] SMILES Parse Error: unclosed ring for input: 'O=C(NCc1cc(=O)cc[nH]1)[C@@H](O)c1cccccccccccccccccccccccc2c(c1)'\n",
      "RDKit ERROR: [19:28:42] SMILES Parse Error: extra open parentheses for input: 'CC[C@H](CNC(=O)c1cc(Cl)c[nH]1'\n",
      "RDKit ERROR: [19:28:42] SMILES Parse Error: unclosed ring for input: 'Cc1ccc(C2(NC(=O)[C@@H]2CCNC(=O)C3)CCCC2)CC(=O)N1'\n",
      "RDKit ERROR: [19:28:42] SMILES Parse Error: extra open parentheses for input: 'CCc1cc(C(=O)NC[C@H](O)c2c(F)ccc21'\n",
      "RDKit ERROR: [19:28:42] SMILES Parse Error: extra open parentheses for input: 'CCc1cc(C(=O)NC[C@H](O)c2c(F)ccc21'\n",
      "RDKit ERROR: [19:28:42] Can't kekulize mol.  Unkekulized atoms: 3\n",
      "RDKit ERROR: \n"
     ]
    },
    {
     "name": "stdout",
     "output_type": "stream",
     "text": [
      "predicted canonical SMILES O=C1C[C@H](C(=O)NC2(c3ccc(Cl)cc3)CCC2)C(=O)N1 n:  17\n"
     ]
    },
    {
     "name": "stderr",
     "output_type": "stream",
     "text": [
      "RDKit ERROR: [19:28:42] SMILES Parse Error: extra open parentheses for input: 'Cc1cccc(C2(NC(=O)[C@H]2CC(=O)Nc3cc(F)ccc32)CCCC1'\n",
      "RDKit ERROR: [19:28:42] SMILES Parse Error: extra open parentheses for input: 'CC(C)[C@H](CNC(=O)c1cc(Cl)c[nH]1'\n",
      "RDKit ERROR: [19:28:42] Can't kekulize mol.  Unkekulized atoms: 2 3 4 21 22\n",
      "RDKit ERROR: \n"
     ]
    },
    {
     "name": "stdout",
     "output_type": "stream",
     "text": [
      "predicted canonical SMILES CC[C@@H]1C[C@@H](C(=O)NC2(c3cccc(C(F)(F)F)c3)CCC2)CCN1 n:  21\n",
      "predicted canonical SMILES CC[C@H]1C[C@@H](C(=O)NC2(c3cccc(C(F)(F)F)c3)CCC2)CCN1 n:  22\n",
      "predicted canonical SMILES O=C1C[C@H](C(=O)NC2(c3ccc(Cl)cc3)CCC2)C(=O)N1 n:  23\n"
     ]
    },
    {
     "name": "stderr",
     "output_type": "stream",
     "text": [
      "RDKit ERROR: [19:28:43] SMILES Parse Error: extra open parentheses for input: 'C[C@@](O)(C(=O)NC[C@H](CO)CNC(=O)c1cc(Cl)c[nH]1)NC(=O)c1cccc(=O'\n",
      "RDKit ERROR: [19:28:43] SMILES Parse Error: unclosed ring for input: 'Cc1ccc(C2(NC(=O)[C@@H]2CCNC(=O)C3)CCCC2)CC(=O)N1'\n",
      "RDKit ERROR: [19:28:43] SMILES Parse Error: unclosed ring for input: 'O=C(NCc1cc(=O)cc[nH]1)[C@@H](O)c1cccccccccccccccccccccccc2c(c1)'\n"
     ]
    },
    {
     "name": "stdout",
     "output_type": "stream",
     "text": [
      "predicted canonical SMILES CC1(NC(=O)[C@H]2CC(=O)Nc3cc(F)ccc32)CCCC1 n:  27\n",
      "predicted canonical SMILES CC[C@H]1C[C@@H](C(=O)NC2(c3cccc(C(F)(F)F)c3)CCC2)CCN1 n:  28\n",
      "predicted canonical SMILES O=C1C[C@H](C(=O)NC2(c3ccc(Cl)cc3)CCC2)C(=O)N1 n:  29\n"
     ]
    },
    {
     "name": "stderr",
     "output_type": "stream",
     "text": [
      "RDKit ERROR: [19:28:43] SMILES Parse Error: extra open parentheses for input: 'CCc1cc(C(=O)NC[C@H](O)c2c(F)ccc21'\n",
      "RDKit ERROR: [19:28:43] SMILES Parse Error: extra open parentheses for input: 'CC[C@@H](CNC(=O)c1cc(Cl)c[nH]1'\n"
     ]
    },
    {
     "name": "stdout",
     "output_type": "stream",
     "text": [
      "predicted canonical SMILES CC[C@@H]1C[C@@H](C(=O)NC2(c3cccc(C(F)(F)F)c3)CCC2)CCN1 n:  32\n"
     ]
    },
    {
     "name": "stderr",
     "output_type": "stream",
     "text": [
      "RDKit ERROR: [19:28:43] SMILES Parse Error: unclosed ring for input: 'O=C(NCc1cc(=O)cc[nH]1)[C@@H](O)c1cccccccccccccccccccccccc2c(c1)'\n",
      "RDKit ERROR: [19:28:44] SMILES Parse Error: unclosed ring for input: 'CSc1cc(-c2cnc(Cl)cc(=O)[nH]1)[C@@H](O)c1ccc(C(F)(F)F)c1'\n",
      "RDKit ERROR: [19:28:44] SMILES Parse Error: extra open parentheses for input: 'CC[C@@H](CNC(=O)c1cc(Cl)c[nH]1'\n",
      "RDKit ERROR: [19:28:44] SMILES Parse Error: extra open parentheses for input: 'CCc1cc(C(=O)NC[C@H](O)c2c(F)ccc21'\n",
      "RDKit ERROR: [19:28:44] SMILES Parse Error: syntax error while parsing: CN1C[C@](NC(=O)[C@@](C)(C)NC(=O)c1cc(C#N)c[nH]1)NC(=O)Cc1ccc(-2\n",
      "RDKit ERROR: [19:28:44] SMILES Parse Error: Failed parsing SMILES 'CN1C[C@](NC(=O)[C@@](C)(C)NC(=O)c1cc(C#N)c[nH]1)NC(=O)Cc1ccc(-2' for input: 'CN1C[C@](NC(=O)[C@@](C)(C)NC(=O)c1cc(C#N)c[nH]1)NC(=O)Cc1ccc(-2'\n"
     ]
    },
    {
     "name": "stdout",
     "output_type": "stream",
     "text": [
      "predicted canonical SMILES CC1(NC(=O)[C@H]2CC(=O)Nc3cc(F)ccc32)CCCC1 n:  38\n",
      "predicted canonical SMILES CC[C@@H]1C[C@@H](C(=O)NC2(c3cccc(C(F)(F)F)c3)CCC2)CCN1 n:  40\n"
     ]
    },
    {
     "name": "stderr",
     "output_type": "stream",
     "text": [
      "RDKit ERROR: [19:28:44] SMILES Parse Error: extra open parentheses for input: 'Cc1cccc(C2(NC(=O)[C@H]2CC(=O)Nc3cc(F)ccc32)CCCC1'\n",
      "RDKit ERROR: [19:28:44] SMILES Parse Error: extra open parentheses for input: 'O=C(NC1(c2cccccc2)CN1'\n"
     ]
    },
    {
     "name": "stdout",
     "output_type": "stream",
     "text": [
      "predicted canonical SMILES CC[C@@H]1C[C@@H](C(=O)NC2(c3cccc(C(F)(F)F)c3)CCC2)CCN1 n:  42\n",
      "predicted canonical SMILES O=C1C[C@H](C(=O)NC2(c3ccc(Cl)cc3)CCC2)C(=O)N1 n:  43\n",
      "predicted canonical SMILES CC[C@@H]1C[C@@H](C(=O)NC2(c3cccc(C(F)(F)F)c3)CCC2)CCN1 n:  44\n"
     ]
    },
    {
     "name": "stderr",
     "output_type": "stream",
     "text": [
      "RDKit ERROR: [19:28:44] SMILES Parse Error: unclosed ring for input: 'O=C(NCc1cc(=O)cc[nH]1)[C@@H](O)c1cccccccccccccccccccccccc2c(c1)'\n",
      "RDKit ERROR: [19:28:44] SMILES Parse Error: extra open parentheses for input: 'O=C(NC1(c2cccccc2)CN1'\n",
      "RDKit ERROR: [19:28:45] SMILES Parse Error: extra close parentheses while parsing: NC(=O)c1cccc(C(F)(F)F)c1)NCc1cc(=O)cc[nH]1\n",
      "RDKit ERROR: [19:28:45] SMILES Parse Error: Failed parsing SMILES 'NC(=O)c1cccc(C(F)(F)F)c1)NCc1cc(=O)cc[nH]1' for input: 'NC(=O)c1cccc(C(F)(F)F)c1)NCc1cc(=O)cc[nH]1'\n"
     ]
    },
    {
     "name": "stdout",
     "output_type": "stream",
     "text": [
      "predicted canonical SMILES O=C1C[C@H](C(=O)NC2(c3ccc(Cl)cc3)CCC2)C(=O)N1 n:  48\n",
      "Fraction of valid SMILES is:  0.38\n"
     ]
    },
    {
     "name": "stderr",
     "output_type": "stream",
     "text": [
      "RDKit ERROR: [19:28:45] SMILES Parse Error: unclosed ring for input: 'CCN(Cc1cccc(=O)[nH]1)C(=O)N1'\n"
     ]
    }
   ],
   "source": [
    "quality(encoder,vae,decoder, 50)"
   ]
  },
  {
   "cell_type": "code",
   "execution_count": 596,
   "metadata": {},
   "outputs": [],
   "source": [
    "def trainedpics(encoder,vae,decoder,n=10):\n",
    "    ms = []\n",
    "    for i in range(n):\n",
    "        pair = random.choice(pairs)\n",
    "        output_smiles = evaluate(encoder,vae, decoder, pair[0])\n",
    "        if validSMILES(output_smiles):\n",
    "            ms.append(Chem.MolFromSmiles(output_smiles))\n",
    "            print('predicted canonical SMILES', output_smiles, 'n: ',i)\n",
    "    return ms\n",
    "\n",
    "\n",
    "    "
   ]
  },
  {
   "cell_type": "code",
   "execution_count": 597,
   "metadata": {},
   "outputs": [
    {
     "name": "stderr",
     "output_type": "stream",
     "text": [
      "RDKit ERROR: [19:28:50] SMILES Parse Error: extra open parentheses for input: 'CC[C@@H](CNC(=O)c1cc(Cl)c[nH]1'\n",
      "RDKit ERROR: [19:28:50] Can't kekulize mol.  Unkekulized atoms: 3 4 5 6 7\n",
      "RDKit ERROR: \n"
     ]
    },
    {
     "name": "stdout",
     "output_type": "stream",
     "text": [
      "predicted canonical SMILES CC[C@@H]1C[C@@H](C(=O)NC2(c3cccc(C(F)(F)F)c3)CCC2)CCN1 n:  2\n",
      "predicted canonical SMILES O=C1C[C@H](C(=O)NC2(c3ccc(Cl)cc3)CCC2)C(=O)N1 n:  3\n",
      "predicted canonical SMILES C[C@H]1C[C@@H](C(=O)NC2(c3cccc(C(F)(F)F)c3)CCC2)CCN1 n:  4\n"
     ]
    },
    {
     "name": "stderr",
     "output_type": "stream",
     "text": [
      "RDKit ERROR: [19:28:51] Can't kekulize mol.  Unkekulized atoms: 3 4 5 6 7\n",
      "RDKit ERROR: \n"
     ]
    },
    {
     "name": "stdout",
     "output_type": "stream",
     "text": [
      "predicted canonical SMILES C[C@@H]1C[C@@H](C(=O)NC2(c3cccc(C(F)(F)F)c3)CCC2)CCN1 n:  6\n",
      "predicted canonical SMILES O=C1C[C@H](C(=O)NC2(c3ccc(Cl)cc3)CCC2)C(=O)N1 n:  7\n",
      "predicted canonical SMILES CC[C@H]1C[C@@H](C(=O)NC2(c3cccc(C(F)(F)F)c3)CCC2)CCN1 n:  8\n"
     ]
    },
    {
     "name": "stderr",
     "output_type": "stream",
     "text": [
      "RDKit ERROR: [19:28:51] SMILES Parse Error: unclosed ring for input: 'Cc1ccc(C2(NC(=O)[C@@H]2CCNC(=O)C3)CCCC2)CC(=O)N1'\n"
     ]
    },
    {
     "data": {
      "image/png": "[encoded data removed]",
      "text/plain": [
       "<PIL.PngImagePlugin.PngImageFile image mode=RGB size=800x400 at 0x7FD500242690>"
      ]
     },
     "execution_count": 597,
     "metadata": {},
     "output_type": "execute_result"
    }
   ],
   "source": [
    "ms = trainedpics(encoder,vae,decoder)\n",
    "Draw.MolsToGridImage(ms,molsPerRow=4,subImgSize=(200,200),legends=[Chem.MolToSmiles(x) for x in ms])"
   ]
  },
  {
   "cell_type": "code",
   "execution_count": 598,
   "metadata": {},
   "outputs": [
    {
     "data": {
      "text/plain": [
       "False"
      ]
     },
     "execution_count": 598,
     "metadata": {},
     "output_type": "execute_result"
    }
   ],
   "source": [
    "any(traindata['cleanSMILES'] == 'CN(CCCl)CCCl')"
   ]
  },
  {
   "cell_type": "markdown",
   "metadata": {},
   "source": [
    "# Saving the model"
   ]
  },
  {
   "cell_type": "code",
   "execution_count": 599,
   "metadata": {},
   "outputs": [
    {
     "name": "stdout",
     "output_type": "stream",
     "text": [
      "Model was saved as  SMILESencoder300.pt and SMILESvae300.pt and SMILESdecoder300.pt\n"
     ]
    }
   ],
   "source": [
    "torch.save(encoder.state_dict(), savedencoderfile)\n",
    "torch.save(vae.state_dict(), savedvaefile)\n",
    "torch.save(decoder.state_dict(), saveddecoderfile)\n",
    "print(\"Model was saved as \",savedencoderfile, \"and\",savedvaefile,\"and\", saveddecoderfile )"
   ]
  },
  {
   "cell_type": "markdown",
   "metadata": {},
   "source": [
    "# Sampling from the model"
   ]
  },
  {
   "cell_type": "code",
   "execution_count": 600,
   "metadata": {},
   "outputs": [],
   "source": [
    "def randomSample(vae,decoder):\n",
    "    #get random hidden vector from the p(x/z) distribution\n",
    "    new_hidden = vae.decode(torch.randn(1,1,vae.lat_size).to(device))\n",
    "    \n",
    "    # Create starting vectors for decoder\n",
    "    decoder_input = Variable(torch.LongTensor([SOS_token])).to(device) # SOS\n",
    "    decoder_hidden = new_hidden\n",
    "    # Use last (forward) hidden state from encoder\n",
    "\n",
    "    # Store output words and attention states\n",
    "    decoded_chars = []\n",
    "    \n",
    "    # Run through decoder\n",
    "    for di in range(MAX_LENGTH):\n",
    "        decoder_output, decoder_hidden= decoder(decoder_input, decoder_hidden)\n",
    "\n",
    "        # Choose top word from output\n",
    "        topv, topi = decoder_output.data.topk(1)\n",
    "        ni = topi[0][0].item()\n",
    "        #print(\"ni\",ni)\n",
    "        if ni == EOS_token:\n",
    "            #decoded_chars.append('<EOS>') there's no point adding it, just screws up rdkit\n",
    "            break\n",
    "        else:\n",
    "            decoded_chars.append(output_lang.index2char[ni])\n",
    "            \n",
    "        # Next input is chosen word\n",
    "        decoder_input = Variable(torch.LongTensor([ni])).to(device)\n",
    "\n",
    "        \n",
    "    # Set back to training mode\n",
    "    encoder.train(True)\n",
    "    decoder.train(True)\n",
    "    \n",
    "    return ''.join(decoded_chars)\n",
    "\n",
    "def samplepics(encoder,vae,decoder,n=10):\n",
    "    sms = []\n",
    "    ms = []\n",
    "    for i in range(n):\n",
    "        output_smiles = randomSample(vae,decoder)\n",
    "        if validSMILES(output_smiles):\n",
    "            sms.append(output_smiles)\n",
    "            ms.append(Chem.MolFromSmiles(output_smiles))\n",
    "            #print('generated canonical SMILES', output_smiles, 'n: ',i)\n",
    "    return ms, sms"
   ]
  },
  {
   "cell_type": "code",
   "execution_count": 601,
   "metadata": {},
   "outputs": [
    {
     "name": "stderr",
     "output_type": "stream",
     "text": [
      "RDKit ERROR: [19:29:01] SMILES Parse Error: extra open parentheses for input: 'CC[C@H](CNC(=O)c1cc(Cl)c[nH]1'\n",
      "RDKit ERROR: [19:29:01] SMILES Parse Error: extra open parentheses for input: 'CCc1cc(C(=O)NC[C@H](O)c2c(F)ccc21'\n",
      "RDKit ERROR: [19:29:01] SMILES Parse Error: extra close parentheses while parsing: CCCCn1nc(CN(C)C)c1ccc(Cl)cc1Cl)c1cccc(=O)n2CC2)CC(=O)N1\n",
      "RDKit ERROR: [19:29:01] SMILES Parse Error: Failed parsing SMILES 'CCCCn1nc(CN(C)C)c1ccc(Cl)cc1Cl)c1cccc(=O)n2CC2)CC(=O)N1' for input: 'CCCCn1nc(CN(C)C)c1ccc(Cl)cc1Cl)c1cccc(=O)n2CC2)CC(=O)N1'\n",
      "RDKit ERROR: [19:29:02] SMILES Parse Error: extra open parentheses for input: 'CCc1cc(C(=O)NC[C@H](O)c2c(F)ccc21'\n",
      "RDKit ERROR: [19:29:02] SMILES Parse Error: unclosed ring for input: 'Cc1ccc(C2(NC(=O)[C@@H]2CCNC(=O)C3)CCCC2)CC(=O)N1'\n",
      "RDKit ERROR: [19:29:02] SMILES Parse Error: extra open parentheses for input: 'CC[C@@H](CNC(=O)c1cc(Cl)c[nH]1'\n"
     ]
    }
   ],
   "source": [
    "ms, sms = samplepics(encoder,vae,decoder,10)"
   ]
  },
  {
   "cell_type": "code",
   "execution_count": 602,
   "metadata": {},
   "outputs": [
    {
     "data": {
      "text/plain": [
       "4"
      ]
     },
     "execution_count": 602,
     "metadata": {},
     "output_type": "execute_result"
    }
   ],
   "source": [
    "len(set(sms))"
   ]
  },
  {
   "cell_type": "code",
   "execution_count": null,
   "metadata": {},
   "outputs": [],
   "source": []
  },
  {
   "cell_type": "markdown",
   "metadata": {},
   "source": [
    "## Sample Quality Control"
   ]
  },
  {
   "cell_type": "markdown",
   "metadata": {},
   "source": [
    "We check tanimoto similarity with molecules in the dataset"
   ]
  },
  {
   "cell_type": "code",
   "execution_count": 603,
   "metadata": {},
   "outputs": [],
   "source": [
    "def diversemol(smiles, dataset, level):\n",
    "    mol = Chem.MolFromSmiles(smiles)\n",
    "    fpmol = Chem.RDKFingerprint(mol)\n",
    "    for datasmiles in dataset:\n",
    "        datamol = Chem.MolFromSmiles(datasmiles)\n",
    "        fpdatamol = Chem.RDKFingerprint(datamol)\n",
    "        if DataStructs.TanimotoSimilarity(fpmol, fpdatamol) >= level:\n",
    "            return False\n",
    "    return True"
   ]
  },
  {
   "cell_type": "code",
   "execution_count": 604,
   "metadata": {},
   "outputs": [
    {
     "data": {
      "text/plain": [
       "['O=C1C[C@H](C(=O)NC2(c3ccc(Cl)cc3)CCC2)C(=O)N1',\n",
       " 'C[C@H]1C[C@@H](C(=O)NC2(c3cccc(C(F)(F)F)c3)CCC2)CCN1',\n",
       " 'COc1ccc(C2(NC(=O)c3ccc[nH]3)CCC2)CCC1',\n",
       " 'CC[C@@H]1C[C@@H](C(=O)NC2(c3cccc(C(F)(F)F)c3)CCC2)CCN1']"
      ]
     },
     "execution_count": 604,
     "metadata": {},
     "output_type": "execute_result"
    }
   ],
   "source": [
    "divsmiles = [m for m in set(sms) if diversemol(m,sars['cleanSMILES'], 1)]\n",
    "divsmiles"
   ]
  },
  {
   "cell_type": "code",
   "execution_count": 605,
   "metadata": {},
   "outputs": [],
   "source": [
    "divms = [Chem.MolFromSmiles(m) for m in divsmiles]"
   ]
  },
  {
   "cell_type": "markdown",
   "metadata": {},
   "source": [
    "What we have above is the list of molecules with tanimoto similarity less than 60% to the dataset"
   ]
  },
  {
   "cell_type": "code",
   "execution_count": 606,
   "metadata": {},
   "outputs": [
    {
     "data": {
      "image/png": "[encoded data removed]",
      "text/plain": [
       "<PIL.PngImagePlugin.PngImageFile image mode=RGB size=800x200 at 0x7FD5012D18D0>"
      ]
     },
     "execution_count": 606,
     "metadata": {},
     "output_type": "execute_result"
    }
   ],
   "source": [
    "Draw.MolsToGridImage(divms,molsPerRow=4,subImgSize=(200,200),legends=[Chem.MolToSmiles(x) for x in ms])"
   ]
  },
  {
   "cell_type": "markdown",
   "metadata": {},
   "source": [
    "# References"
   ]
  },
  {
   "cell_type": "markdown",
   "metadata": {},
   "source": [
    "https://github.com/spro/practical-pytorch/blob/master/seq2seq-translation/seq2seq-translation-batched.ipynb"
   ]
  },
  {
   "cell_type": "markdown",
   "metadata": {},
   "source": [
    "Auto-Encoding Variational Bayes\n",
    "Diederik P Kingma, Max Welling https://arxiv.org/abs/1312.6114"
   ]
  },
  {
   "cell_type": "markdown",
   "metadata": {},
   "source": [
    "Novel Inhibitors of Severe Acute Respiratory Syndrome Coronavirus Entry That Act by Three Distinct Mechanisms https://dx.doi.org/10.1128%2FJVI.00998-13"
   ]
  }
 ],
 "metadata": {
  "kernelspec": {
   "display_name": "Python 3",
   "language": "python",
   "name": "python3"
  },
  "language_info": {
   "codemirror_mode": {
    "name": "ipython",
    "version": 3
   },
   "file_extension": ".py",
   "mimetype": "text/x-python",
   "name": "python",
   "nbconvert_exporter": "python",
   "pygments_lexer": "ipython3",
   "version": "3.7.6"
  }
 },
 "nbformat": 4,
 "nbformat_minor": 4
}
